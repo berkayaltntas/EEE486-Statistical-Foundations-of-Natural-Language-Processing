{
  "cells": [
    {
      "cell_type": "code",
      "execution_count": null,
      "metadata": {
        "id": "MOsHUjgdIrIW"
      },
      "outputs": [],
      "source": [
        "%%capture\n",
        "!pip install datasets transformers\n",
        "!apt install git-lfs"
      ]
    },
    {
      "cell_type": "code",
      "execution_count": null,
      "metadata": {
        "id": "4fR1F--Xjs4Q"
      },
      "outputs": [],
      "source": [
        "import huggingface_hub\n",
        "from huggingface_hub import notebook_login\n",
        "# Enter yours\n",
        "your_token = '' \n",
        "huggingface_hub.login(token = your_token)"
      ]
    },
    {
      "cell_type": "code",
      "execution_count": null,
      "metadata": {
        "id": "YZbiBDuGIrId"
      },
      "outputs": [],
      "source": [
        "GLUE_TASKS = [\"cola\", \"mnli\", \"mnli-mm\", \"mrpc\", \"qnli\", \"qqp\", \"rte\", \"sst2\", \"stsb\", \"wnli\"]"
      ]
    },
    {
      "cell_type": "code",
      "execution_count": null,
      "metadata": {
        "id": "zVvslsfMIrIh"
      },
      "outputs": [],
      "source": [
        "task = \"rte\"\n",
        "model_checkpoint = \"bert-base-uncased\"\n",
        "batch_size = 64"
      ]
    },
    {
      "cell_type": "code",
      "execution_count": null,
      "metadata": {
        "colab": {
          "base_uri": "https://localhost:8080/"
        },
        "id": "IreSlFmlIrIm",
        "outputId": "5ae9344a-8c35-4ae8-cb12-0e94948ad2ab"
      },
      "outputs": [
        {
          "name": "stdout",
          "output_type": "stream",
          "text": [
            "Requirement already satisfied: evaluate in /usr/local/lib/python3.11/dist-packages (0.4.3)\n",
            "Requirement already satisfied: datasets>=2.0.0 in /usr/local/lib/python3.11/dist-packages (from evaluate) (3.5.0)\n",
            "Requirement already satisfied: numpy>=1.17 in /usr/local/lib/python3.11/dist-packages (from evaluate) (2.0.2)\n",
            "Requirement already satisfied: dill in /usr/local/lib/python3.11/dist-packages (from evaluate) (0.3.8)\n",
            "Requirement already satisfied: pandas in /usr/local/lib/python3.11/dist-packages (from evaluate) (2.2.2)\n",
            "Requirement already satisfied: requests>=2.19.0 in /usr/local/lib/python3.11/dist-packages (from evaluate) (2.32.3)\n",
            "Requirement already satisfied: tqdm>=4.62.1 in /usr/local/lib/python3.11/dist-packages (from evaluate) (4.67.1)\n",
            "Requirement already satisfied: xxhash in /usr/local/lib/python3.11/dist-packages (from evaluate) (3.5.0)\n",
            "Requirement already satisfied: multiprocess in /usr/local/lib/python3.11/dist-packages (from evaluate) (0.70.16)\n",
            "Requirement already satisfied: fsspec>=2021.05.0 in /usr/local/lib/python3.11/dist-packages (from fsspec[http]>=2021.05.0->evaluate) (2024.12.0)\n",
            "Requirement already satisfied: huggingface-hub>=0.7.0 in /usr/local/lib/python3.11/dist-packages (from evaluate) (0.30.1)\n",
            "Requirement already satisfied: packaging in /usr/local/lib/python3.11/dist-packages (from evaluate) (24.2)\n",
            "Requirement already satisfied: filelock in /usr/local/lib/python3.11/dist-packages (from datasets>=2.0.0->evaluate) (3.18.0)\n",
            "Requirement already satisfied: pyarrow>=15.0.0 in /usr/local/lib/python3.11/dist-packages (from datasets>=2.0.0->evaluate) (18.1.0)\n",
            "Requirement already satisfied: aiohttp in /usr/local/lib/python3.11/dist-packages (from datasets>=2.0.0->evaluate) (3.11.15)\n",
            "Requirement already satisfied: pyyaml>=5.1 in /usr/local/lib/python3.11/dist-packages (from datasets>=2.0.0->evaluate) (6.0.2)\n",
            "Requirement already satisfied: typing-extensions>=3.7.4.3 in /usr/local/lib/python3.11/dist-packages (from huggingface-hub>=0.7.0->evaluate) (4.13.0)\n",
            "Requirement already satisfied: charset-normalizer<4,>=2 in /usr/local/lib/python3.11/dist-packages (from requests>=2.19.0->evaluate) (3.4.1)\n",
            "Requirement already satisfied: idna<4,>=2.5 in /usr/local/lib/python3.11/dist-packages (from requests>=2.19.0->evaluate) (3.10)\n",
            "Requirement already satisfied: urllib3<3,>=1.21.1 in /usr/local/lib/python3.11/dist-packages (from requests>=2.19.0->evaluate) (2.3.0)\n",
            "Requirement already satisfied: certifi>=2017.4.17 in /usr/local/lib/python3.11/dist-packages (from requests>=2.19.0->evaluate) (2025.1.31)\n",
            "Requirement already satisfied: python-dateutil>=2.8.2 in /usr/local/lib/python3.11/dist-packages (from pandas->evaluate) (2.8.2)\n",
            "Requirement already satisfied: pytz>=2020.1 in /usr/local/lib/python3.11/dist-packages (from pandas->evaluate) (2025.2)\n",
            "Requirement already satisfied: tzdata>=2022.7 in /usr/local/lib/python3.11/dist-packages (from pandas->evaluate) (2025.2)\n",
            "Requirement already satisfied: aiohappyeyeballs>=2.3.0 in /usr/local/lib/python3.11/dist-packages (from aiohttp->datasets>=2.0.0->evaluate) (2.6.1)\n",
            "Requirement already satisfied: aiosignal>=1.1.2 in /usr/local/lib/python3.11/dist-packages (from aiohttp->datasets>=2.0.0->evaluate) (1.3.2)\n",
            "Requirement already satisfied: attrs>=17.3.0 in /usr/local/lib/python3.11/dist-packages (from aiohttp->datasets>=2.0.0->evaluate) (25.3.0)\n",
            "Requirement already satisfied: frozenlist>=1.1.1 in /usr/local/lib/python3.11/dist-packages (from aiohttp->datasets>=2.0.0->evaluate) (1.5.0)\n",
            "Requirement already satisfied: multidict<7.0,>=4.5 in /usr/local/lib/python3.11/dist-packages (from aiohttp->datasets>=2.0.0->evaluate) (6.3.1)\n",
            "Requirement already satisfied: propcache>=0.2.0 in /usr/local/lib/python3.11/dist-packages (from aiohttp->datasets>=2.0.0->evaluate) (0.3.1)\n",
            "Requirement already satisfied: yarl<2.0,>=1.17.0 in /usr/local/lib/python3.11/dist-packages (from aiohttp->datasets>=2.0.0->evaluate) (1.18.3)\n",
            "Requirement already satisfied: six>=1.5 in /usr/local/lib/python3.11/dist-packages (from python-dateutil>=2.8.2->pandas->evaluate) (1.17.0)\n"
          ]
        }
      ],
      "source": [
        "#from datasets import load_dataset, load_metric\n",
        "\n",
        "from datasets import load_dataset\n",
        "!pip install evaluate\n",
        "from evaluate import load"
      ]
    },
    {
      "cell_type": "code",
      "execution_count": null,
      "metadata": {
        "colab": {
          "base_uri": "https://localhost:8080/"
        },
        "id": "s_AY1ATSIrIq",
        "outputId": "8b0a3cb8-22db-4d2c-9125-b2f0adc6bea5"
      },
      "outputs": [
        {
          "name": "stdout",
          "output_type": "stream",
          "text": [
            "Task is: rte \n"
          ]
        },
        {
          "name": "stderr",
          "output_type": "stream",
          "text": [
            "/usr/local/lib/python3.11/dist-packages/huggingface_hub/utils/_auth.py:94: UserWarning: \n",
            "The secret `HF_TOKEN` does not exist in your Colab secrets.\n",
            "To authenticate with the Hugging Face Hub, create a token in your settings tab (https://huggingface.co/settings/tokens), set it as secret in your Google Colab and restart your session.\n",
            "You will be able to reuse this secret in all of your notebooks.\n",
            "Please note that authentication is recommended but still optional to access public models or datasets.\n",
            "  warnings.warn(\n"
          ]
        },
        {
          "name": "stdout",
          "output_type": "stream",
          "text": [
            "Requirement already satisfied: scikit-learn in /usr/local/lib/python3.11/dist-packages (1.6.1)\n",
            "Requirement already satisfied: numpy>=1.19.5 in /usr/local/lib/python3.11/dist-packages (from scikit-learn) (2.0.2)\n",
            "Requirement already satisfied: scipy>=1.6.0 in /usr/local/lib/python3.11/dist-packages (from scikit-learn) (1.14.1)\n",
            "Requirement already satisfied: joblib>=1.2.0 in /usr/local/lib/python3.11/dist-packages (from scikit-learn) (1.4.2)\n",
            "Requirement already satisfied: threadpoolctl>=3.1.0 in /usr/local/lib/python3.11/dist-packages (from scikit-learn) (3.6.0)\n"
          ]
        }
      ],
      "source": [
        "actual_task = \"mnli\" if task == \"mnli-mm\" else task\n",
        "print(f\"Task is: {actual_task} \")\n",
        "dataset = load_dataset(\"glue\", actual_task)\n",
        "\n",
        "!pip install scikit-learn\n",
        "metric = load(\"accuracy\")"
      ]
    },
    {
      "cell_type": "code",
      "execution_count": null,
      "metadata": {
        "colab": {
          "base_uri": "https://localhost:8080/"
        },
        "id": "GWiVUF0jIrIv",
        "outputId": "d555d7ae-e6ae-4aa9-9e32-1ddb8daa1b1c"
      },
      "outputs": [
        {
          "data": {
            "text/plain": [
              "DatasetDict({\n",
              "    train: Dataset({\n",
              "        features: ['sentence1', 'sentence2', 'label', 'idx'],\n",
              "        num_rows: 2490\n",
              "    })\n",
              "    validation: Dataset({\n",
              "        features: ['sentence1', 'sentence2', 'label', 'idx'],\n",
              "        num_rows: 277\n",
              "    })\n",
              "    test: Dataset({\n",
              "        features: ['sentence1', 'sentence2', 'label', 'idx'],\n",
              "        num_rows: 3000\n",
              "    })\n",
              "})"
            ]
          },
          "execution_count": 7,
          "metadata": {},
          "output_type": "execute_result"
        }
      ],
      "source": [
        "dataset"
      ]
    },
    {
      "cell_type": "markdown",
      "metadata": {
        "id": "u3EtYfeHIrIz"
      },
      "source": [
        "To access an actual element, you need to select a split first, then give an index:"
      ]
    },
    {
      "cell_type": "code",
      "execution_count": null,
      "metadata": {
        "colab": {
          "base_uri": "https://localhost:8080/"
        },
        "id": "X6HrpprwIrIz",
        "outputId": "c1916ac6-cd59-4c37-afd1-ee9458c8a7e2"
      },
      "outputs": [
        {
          "data": {
            "text/plain": [
              "{'sentence1': 'No Weapons of Mass Destruction Found in Iraq Yet.',\n",
              " 'sentence2': 'Weapons of Mass Destruction Found in Iraq.',\n",
              " 'label': 1,\n",
              " 'idx': 0}"
            ]
          },
          "execution_count": 8,
          "metadata": {},
          "output_type": "execute_result"
        }
      ],
      "source": [
        "dataset[\"train\"][0]"
      ]
    },
    {
      "cell_type": "code",
      "execution_count": null,
      "metadata": {
        "colab": {
          "base_uri": "https://localhost:8080/",
          "height": 424
        },
        "id": "AKXM46TAqN9w",
        "outputId": "25e04757-12e4-456d-8da1-cc1302cb4539"
      },
      "outputs": [
        {
          "data": {
            "application/vnd.google.colaboratory.intrinsic+json": {
              "summary": "{\n  \"name\": \"dataset[\\\"train\\\"]\",\n  \"rows\": 2490,\n  \"fields\": [\n    {\n      \"column\": \"sentence1\",\n      \"properties\": {\n        \"dtype\": \"string\",\n        \"num_unique_values\": 2379,\n        \"samples\": [\n          \"Microsoft's (MSFT) own search engine will permanently replace the Yahoo (YHOO) search technology that has been used on Microsoft's MSN website.\",\n          \"Edwin Hubble is recongized as having been one of the foremost astronomers of the modern era.\",\n          \"Over a course of days, the bank went from apparent strength to bankruptcy. Barings was Britain's oldest merchant bank. It had financed the Napoleonic wars, the Louisiana purchase, and the Erie Canal. Barings was the Queen's bank.\"\n        ],\n        \"semantic_type\": \"\",\n        \"description\": \"\"\n      }\n    },\n    {\n      \"column\": \"sentence2\",\n      \"properties\": {\n        \"dtype\": \"string\",\n        \"num_unique_values\": 2149,\n        \"samples\": [\n          \"Los Vegas hosted the Comdex trade show for 20 years.\",\n          \"The Vatican City is in Rome.\",\n          \"Johann Wolfgang von Goethe was born in Germany.\"\n        ],\n        \"semantic_type\": \"\",\n        \"description\": \"\"\n      }\n    },\n    {\n      \"column\": \"label\",\n      \"properties\": {\n        \"dtype\": \"number\",\n        \"std\": 0,\n        \"min\": 0,\n        \"max\": 1,\n        \"num_unique_values\": 2,\n        \"samples\": [\n          0,\n          1\n        ],\n        \"semantic_type\": \"\",\n        \"description\": \"\"\n      }\n    },\n    {\n      \"column\": \"idx\",\n      \"properties\": {\n        \"dtype\": \"int32\",\n        \"num_unique_values\": 2490,\n        \"samples\": [\n          1057,\n          478\n        ],\n        \"semantic_type\": \"\",\n        \"description\": \"\"\n      }\n    }\n  ]\n}",
              "type": "dataframe"
            },
            "text/html": [
              "\n",
              "  <div id=\"df-e80cfaac-15c1-4a55-a395-547acf68dd07\" class=\"colab-df-container\">\n",
              "    <div>\n",
              "<style scoped>\n",
              "    .dataframe tbody tr th:only-of-type {\n",
              "        vertical-align: middle;\n",
              "    }\n",
              "\n",
              "    .dataframe tbody tr th {\n",
              "        vertical-align: top;\n",
              "    }\n",
              "\n",
              "    .dataframe thead th {\n",
              "        text-align: right;\n",
              "    }\n",
              "</style>\n",
              "<table border=\"1\" class=\"dataframe\">\n",
              "  <thead>\n",
              "    <tr style=\"text-align: right;\">\n",
              "      <th></th>\n",
              "      <th>sentence1</th>\n",
              "      <th>sentence2</th>\n",
              "      <th>label</th>\n",
              "      <th>idx</th>\n",
              "    </tr>\n",
              "  </thead>\n",
              "  <tbody>\n",
              "    <tr>\n",
              "      <th>0</th>\n",
              "      <td>No Weapons of Mass Destruction Found in Iraq Yet.</td>\n",
              "      <td>Weapons of Mass Destruction Found in Iraq.</td>\n",
              "      <td>1</td>\n",
              "      <td>0</td>\n",
              "    </tr>\n",
              "    <tr>\n",
              "      <th>1</th>\n",
              "      <td>A place of sorrow, after Pope John Paul II die...</td>\n",
              "      <td>Pope Benedict XVI is the new leader of the Rom...</td>\n",
              "      <td>0</td>\n",
              "      <td>1</td>\n",
              "    </tr>\n",
              "    <tr>\n",
              "      <th>2</th>\n",
              "      <td>Herceptin was already approved to treat the si...</td>\n",
              "      <td>Herceptin can be used to treat breast cancer.</td>\n",
              "      <td>0</td>\n",
              "      <td>2</td>\n",
              "    </tr>\n",
              "    <tr>\n",
              "      <th>3</th>\n",
              "      <td>Judie Vivian, chief executive at ProMedica, a ...</td>\n",
              "      <td>The previous name of Ho Chi Minh City was Saigon.</td>\n",
              "      <td>0</td>\n",
              "      <td>3</td>\n",
              "    </tr>\n",
              "    <tr>\n",
              "      <th>4</th>\n",
              "      <td>A man is due in court later charged with the m...</td>\n",
              "      <td>Paul Stewart Hutchinson is accused of having s...</td>\n",
              "      <td>1</td>\n",
              "      <td>4</td>\n",
              "    </tr>\n",
              "    <tr>\n",
              "      <th>...</th>\n",
              "      <td>...</td>\n",
              "      <td>...</td>\n",
              "      <td>...</td>\n",
              "      <td>...</td>\n",
              "    </tr>\n",
              "    <tr>\n",
              "      <th>2485</th>\n",
              "      <td>There is none. They found as many weapons in t...</td>\n",
              "      <td>Weapons of mass destruction found in Iraq.</td>\n",
              "      <td>1</td>\n",
              "      <td>2485</td>\n",
              "    </tr>\n",
              "    <tr>\n",
              "      <th>2486</th>\n",
              "      <td>Dr. Eric Goosby, a pioneer in the fight agains...</td>\n",
              "      <td>Pepfar is committed to fighting AIDS.</td>\n",
              "      <td>0</td>\n",
              "      <td>2486</td>\n",
              "    </tr>\n",
              "    <tr>\n",
              "      <th>2487</th>\n",
              "      <td>NASA's Saturn exploration spacecraft, Cassini ...</td>\n",
              "      <td>Titan is the fifteenth of Saturn's known satel...</td>\n",
              "      <td>1</td>\n",
              "      <td>2487</td>\n",
              "    </tr>\n",
              "    <tr>\n",
              "      <th>2488</th>\n",
              "      <td>Brooklyn Borough Hall featured a Who's Who in ...</td>\n",
              "      <td>The Brooklyn Book Festival is held in Brooklyn...</td>\n",
              "      <td>0</td>\n",
              "      <td>2488</td>\n",
              "    </tr>\n",
              "    <tr>\n",
              "      <th>2489</th>\n",
              "      <td>Turkey is unlikely to become involved in, or a...</td>\n",
              "      <td>U.S. to use Turkish military bases.</td>\n",
              "      <td>1</td>\n",
              "      <td>2489</td>\n",
              "    </tr>\n",
              "  </tbody>\n",
              "</table>\n",
              "<p>2490 rows × 4 columns</p>\n",
              "</div>\n",
              "    <div class=\"colab-df-buttons\">\n",
              "\n",
              "  <div class=\"colab-df-container\">\n",
              "    <button class=\"colab-df-convert\" onclick=\"convertToInteractive('df-e80cfaac-15c1-4a55-a395-547acf68dd07')\"\n",
              "            title=\"Convert this dataframe to an interactive table.\"\n",
              "            style=\"display:none;\">\n",
              "\n",
              "  <svg xmlns=\"http://www.w3.org/2000/svg\" height=\"24px\" viewBox=\"0 -960 960 960\">\n",
              "    <path d=\"M120-120v-720h720v720H120Zm60-500h600v-160H180v160Zm220 220h160v-160H400v160Zm0 220h160v-160H400v160ZM180-400h160v-160H180v160Zm440 0h160v-160H620v160ZM180-180h160v-160H180v160Zm440 0h160v-160H620v160Z\"/>\n",
              "  </svg>\n",
              "    </button>\n",
              "\n",
              "  <style>\n",
              "    .colab-df-container {\n",
              "      display:flex;\n",
              "      gap: 12px;\n",
              "    }\n",
              "\n",
              "    .colab-df-convert {\n",
              "      background-color: #E8F0FE;\n",
              "      border: none;\n",
              "      border-radius: 50%;\n",
              "      cursor: pointer;\n",
              "      display: none;\n",
              "      fill: #1967D2;\n",
              "      height: 32px;\n",
              "      padding: 0 0 0 0;\n",
              "      width: 32px;\n",
              "    }\n",
              "\n",
              "    .colab-df-convert:hover {\n",
              "      background-color: #E2EBFA;\n",
              "      box-shadow: 0px 1px 2px rgba(60, 64, 67, 0.3), 0px 1px 3px 1px rgba(60, 64, 67, 0.15);\n",
              "      fill: #174EA6;\n",
              "    }\n",
              "\n",
              "    .colab-df-buttons div {\n",
              "      margin-bottom: 4px;\n",
              "    }\n",
              "\n",
              "    [theme=dark] .colab-df-convert {\n",
              "      background-color: #3B4455;\n",
              "      fill: #D2E3FC;\n",
              "    }\n",
              "\n",
              "    [theme=dark] .colab-df-convert:hover {\n",
              "      background-color: #434B5C;\n",
              "      box-shadow: 0px 1px 3px 1px rgba(0, 0, 0, 0.15);\n",
              "      filter: drop-shadow(0px 1px 2px rgba(0, 0, 0, 0.3));\n",
              "      fill: #FFFFFF;\n",
              "    }\n",
              "  </style>\n",
              "\n",
              "    <script>\n",
              "      const buttonEl =\n",
              "        document.querySelector('#df-e80cfaac-15c1-4a55-a395-547acf68dd07 button.colab-df-convert');\n",
              "      buttonEl.style.display =\n",
              "        google.colab.kernel.accessAllowed ? 'block' : 'none';\n",
              "\n",
              "      async function convertToInteractive(key) {\n",
              "        const element = document.querySelector('#df-e80cfaac-15c1-4a55-a395-547acf68dd07');\n",
              "        const dataTable =\n",
              "          await google.colab.kernel.invokeFunction('convertToInteractive',\n",
              "                                                    [key], {});\n",
              "        if (!dataTable) return;\n",
              "\n",
              "        const docLinkHtml = 'Like what you see? Visit the ' +\n",
              "          '<a target=\"_blank\" href=https://colab.research.google.com/notebooks/data_table.ipynb>data table notebook</a>'\n",
              "          + ' to learn more about interactive tables.';\n",
              "        element.innerHTML = '';\n",
              "        dataTable['output_type'] = 'display_data';\n",
              "        await google.colab.output.renderOutput(dataTable, element);\n",
              "        const docLink = document.createElement('div');\n",
              "        docLink.innerHTML = docLinkHtml;\n",
              "        element.appendChild(docLink);\n",
              "      }\n",
              "    </script>\n",
              "  </div>\n",
              "\n",
              "\n",
              "<div id=\"df-16c7b0a1-db63-4bcd-9ab5-23ee8d76f539\">\n",
              "  <button class=\"colab-df-quickchart\" onclick=\"quickchart('df-16c7b0a1-db63-4bcd-9ab5-23ee8d76f539')\"\n",
              "            title=\"Suggest charts\"\n",
              "            style=\"display:none;\">\n",
              "\n",
              "<svg xmlns=\"http://www.w3.org/2000/svg\" height=\"24px\"viewBox=\"0 0 24 24\"\n",
              "     width=\"24px\">\n",
              "    <g>\n",
              "        <path d=\"M19 3H5c-1.1 0-2 .9-2 2v14c0 1.1.9 2 2 2h14c1.1 0 2-.9 2-2V5c0-1.1-.9-2-2-2zM9 17H7v-7h2v7zm4 0h-2V7h2v10zm4 0h-2v-4h2v4z\"/>\n",
              "    </g>\n",
              "</svg>\n",
              "  </button>\n",
              "\n",
              "<style>\n",
              "  .colab-df-quickchart {\n",
              "      --bg-color: #E8F0FE;\n",
              "      --fill-color: #1967D2;\n",
              "      --hover-bg-color: #E2EBFA;\n",
              "      --hover-fill-color: #174EA6;\n",
              "      --disabled-fill-color: #AAA;\n",
              "      --disabled-bg-color: #DDD;\n",
              "  }\n",
              "\n",
              "  [theme=dark] .colab-df-quickchart {\n",
              "      --bg-color: #3B4455;\n",
              "      --fill-color: #D2E3FC;\n",
              "      --hover-bg-color: #434B5C;\n",
              "      --hover-fill-color: #FFFFFF;\n",
              "      --disabled-bg-color: #3B4455;\n",
              "      --disabled-fill-color: #666;\n",
              "  }\n",
              "\n",
              "  .colab-df-quickchart {\n",
              "    background-color: var(--bg-color);\n",
              "    border: none;\n",
              "    border-radius: 50%;\n",
              "    cursor: pointer;\n",
              "    display: none;\n",
              "    fill: var(--fill-color);\n",
              "    height: 32px;\n",
              "    padding: 0;\n",
              "    width: 32px;\n",
              "  }\n",
              "\n",
              "  .colab-df-quickchart:hover {\n",
              "    background-color: var(--hover-bg-color);\n",
              "    box-shadow: 0 1px 2px rgba(60, 64, 67, 0.3), 0 1px 3px 1px rgba(60, 64, 67, 0.15);\n",
              "    fill: var(--button-hover-fill-color);\n",
              "  }\n",
              "\n",
              "  .colab-df-quickchart-complete:disabled,\n",
              "  .colab-df-quickchart-complete:disabled:hover {\n",
              "    background-color: var(--disabled-bg-color);\n",
              "    fill: var(--disabled-fill-color);\n",
              "    box-shadow: none;\n",
              "  }\n",
              "\n",
              "  .colab-df-spinner {\n",
              "    border: 2px solid var(--fill-color);\n",
              "    border-color: transparent;\n",
              "    border-bottom-color: var(--fill-color);\n",
              "    animation:\n",
              "      spin 1s steps(1) infinite;\n",
              "  }\n",
              "\n",
              "  @keyframes spin {\n",
              "    0% {\n",
              "      border-color: transparent;\n",
              "      border-bottom-color: var(--fill-color);\n",
              "      border-left-color: var(--fill-color);\n",
              "    }\n",
              "    20% {\n",
              "      border-color: transparent;\n",
              "      border-left-color: var(--fill-color);\n",
              "      border-top-color: var(--fill-color);\n",
              "    }\n",
              "    30% {\n",
              "      border-color: transparent;\n",
              "      border-left-color: var(--fill-color);\n",
              "      border-top-color: var(--fill-color);\n",
              "      border-right-color: var(--fill-color);\n",
              "    }\n",
              "    40% {\n",
              "      border-color: transparent;\n",
              "      border-right-color: var(--fill-color);\n",
              "      border-top-color: var(--fill-color);\n",
              "    }\n",
              "    60% {\n",
              "      border-color: transparent;\n",
              "      border-right-color: var(--fill-color);\n",
              "    }\n",
              "    80% {\n",
              "      border-color: transparent;\n",
              "      border-right-color: var(--fill-color);\n",
              "      border-bottom-color: var(--fill-color);\n",
              "    }\n",
              "    90% {\n",
              "      border-color: transparent;\n",
              "      border-bottom-color: var(--fill-color);\n",
              "    }\n",
              "  }\n",
              "</style>\n",
              "\n",
              "  <script>\n",
              "    async function quickchart(key) {\n",
              "      const quickchartButtonEl =\n",
              "        document.querySelector('#' + key + ' button');\n",
              "      quickchartButtonEl.disabled = true;  // To prevent multiple clicks.\n",
              "      quickchartButtonEl.classList.add('colab-df-spinner');\n",
              "      try {\n",
              "        const charts = await google.colab.kernel.invokeFunction(\n",
              "            'suggestCharts', [key], {});\n",
              "      } catch (error) {\n",
              "        console.error('Error during call to suggestCharts:', error);\n",
              "      }\n",
              "      quickchartButtonEl.classList.remove('colab-df-spinner');\n",
              "      quickchartButtonEl.classList.add('colab-df-quickchart-complete');\n",
              "    }\n",
              "    (() => {\n",
              "      let quickchartButtonEl =\n",
              "        document.querySelector('#df-16c7b0a1-db63-4bcd-9ab5-23ee8d76f539 button');\n",
              "      quickchartButtonEl.style.display =\n",
              "        google.colab.kernel.accessAllowed ? 'block' : 'none';\n",
              "    })();\n",
              "  </script>\n",
              "</div>\n",
              "\n",
              "    </div>\n",
              "  </div>\n"
            ],
            "text/plain": [
              "                                              sentence1  \\\n",
              "0     No Weapons of Mass Destruction Found in Iraq Yet.   \n",
              "1     A place of sorrow, after Pope John Paul II die...   \n",
              "2     Herceptin was already approved to treat the si...   \n",
              "3     Judie Vivian, chief executive at ProMedica, a ...   \n",
              "4     A man is due in court later charged with the m...   \n",
              "...                                                 ...   \n",
              "2485  There is none. They found as many weapons in t...   \n",
              "2486  Dr. Eric Goosby, a pioneer in the fight agains...   \n",
              "2487  NASA's Saturn exploration spacecraft, Cassini ...   \n",
              "2488  Brooklyn Borough Hall featured a Who's Who in ...   \n",
              "2489  Turkey is unlikely to become involved in, or a...   \n",
              "\n",
              "                                              sentence2  label   idx  \n",
              "0            Weapons of Mass Destruction Found in Iraq.      1     0  \n",
              "1     Pope Benedict XVI is the new leader of the Rom...      0     1  \n",
              "2         Herceptin can be used to treat breast cancer.      0     2  \n",
              "3     The previous name of Ho Chi Minh City was Saigon.      0     3  \n",
              "4     Paul Stewart Hutchinson is accused of having s...      1     4  \n",
              "...                                                 ...    ...   ...  \n",
              "2485         Weapons of mass destruction found in Iraq.      1  2485  \n",
              "2486              Pepfar is committed to fighting AIDS.      0  2486  \n",
              "2487  Titan is the fifteenth of Saturn's known satel...      1  2487  \n",
              "2488  The Brooklyn Book Festival is held in Brooklyn...      0  2488  \n",
              "2489                U.S. to use Turkish military bases.      1  2489  \n",
              "\n",
              "[2490 rows x 4 columns]"
            ]
          },
          "execution_count": 9,
          "metadata": {},
          "output_type": "execute_result"
        }
      ],
      "source": [
        "dataset[\"train\"].to_pandas()"
      ]
    },
    {
      "cell_type": "code",
      "execution_count": null,
      "metadata": {
        "colab": {
          "base_uri": "https://localhost:8080/",
          "height": 424
        },
        "id": "W1e5M_PVql9e",
        "outputId": "9d7431a4-4eb6-4577-a626-b68f8d7ee4f0"
      },
      "outputs": [
        {
          "data": {
            "application/vnd.google.colaboratory.intrinsic+json": {
              "summary": "{\n  \"name\": \"dataset[\\\"validation\\\"]\",\n  \"rows\": 277,\n  \"fields\": [\n    {\n      \"column\": \"sentence1\",\n      \"properties\": {\n        \"dtype\": \"string\",\n        \"num_unique_values\": 274,\n        \"samples\": [\n          \"A smaller proportion of Yugoslavia's Italians were settled in Slovenia (at the 1991 national census, some 3000 inhabitants of Slovenia declared themselves as ethnic Italians).\",\n          \"Thompson, a renegade journalist whose 'gonzo' style threw out any pretense at objectivity and established the hard-living writer as a counter-culture icon, fatally shot himself at his Colorado home on Sunday night, police said.\",\n          \"Increased storage isn't all Microsoft will be offering its Hotmail users--they can also look forward to free anti-virus protection.\"\n        ],\n        \"semantic_type\": \"\",\n        \"description\": \"\"\n      }\n    },\n    {\n      \"column\": \"sentence2\",\n      \"properties\": {\n        \"dtype\": \"string\",\n        \"num_unique_values\": 265,\n        \"samples\": [\n          \"European cars sell in Russia.\",\n          \"The number of security screeners in US airports will be reduced.\",\n          \"There is a Supreme Court decision about the removal of life-support.\"\n        ],\n        \"semantic_type\": \"\",\n        \"description\": \"\"\n      }\n    },\n    {\n      \"column\": \"label\",\n      \"properties\": {\n        \"dtype\": \"number\",\n        \"std\": 0,\n        \"min\": 0,\n        \"max\": 1,\n        \"num_unique_values\": 2,\n        \"samples\": [\n          0,\n          1\n        ],\n        \"semantic_type\": \"\",\n        \"description\": \"\"\n      }\n    },\n    {\n      \"column\": \"idx\",\n      \"properties\": {\n        \"dtype\": \"int32\",\n        \"num_unique_values\": 277,\n        \"samples\": [\n          30,\n          126\n        ],\n        \"semantic_type\": \"\",\n        \"description\": \"\"\n      }\n    }\n  ]\n}",
              "type": "dataframe"
            },
            "text/html": [
              "\n",
              "  <div id=\"df-7d6b2851-8f01-4f96-bf89-9b2fd287c8b3\" class=\"colab-df-container\">\n",
              "    <div>\n",
              "<style scoped>\n",
              "    .dataframe tbody tr th:only-of-type {\n",
              "        vertical-align: middle;\n",
              "    }\n",
              "\n",
              "    .dataframe tbody tr th {\n",
              "        vertical-align: top;\n",
              "    }\n",
              "\n",
              "    .dataframe thead th {\n",
              "        text-align: right;\n",
              "    }\n",
              "</style>\n",
              "<table border=\"1\" class=\"dataframe\">\n",
              "  <thead>\n",
              "    <tr style=\"text-align: right;\">\n",
              "      <th></th>\n",
              "      <th>sentence1</th>\n",
              "      <th>sentence2</th>\n",
              "      <th>label</th>\n",
              "      <th>idx</th>\n",
              "    </tr>\n",
              "  </thead>\n",
              "  <tbody>\n",
              "    <tr>\n",
              "      <th>0</th>\n",
              "      <td>Dana Reeve, the widow of the actor Christopher...</td>\n",
              "      <td>Christopher Reeve had an accident.</td>\n",
              "      <td>1</td>\n",
              "      <td>0</td>\n",
              "    </tr>\n",
              "    <tr>\n",
              "      <th>1</th>\n",
              "      <td>Yet, we now are discovering that antibiotics a...</td>\n",
              "      <td>Bacteria is winning the war against antibiotics.</td>\n",
              "      <td>0</td>\n",
              "      <td>1</td>\n",
              "    </tr>\n",
              "    <tr>\n",
              "      <th>2</th>\n",
              "      <td>Cairo is now home to some 15 million people - ...</td>\n",
              "      <td>15 million tonnes of rubbish are produced dail...</td>\n",
              "      <td>1</td>\n",
              "      <td>2</td>\n",
              "    </tr>\n",
              "    <tr>\n",
              "      <th>3</th>\n",
              "      <td>The Amish community in Pennsylvania, which num...</td>\n",
              "      <td>Pennsylvania has the biggest Amish community i...</td>\n",
              "      <td>1</td>\n",
              "      <td>3</td>\n",
              "    </tr>\n",
              "    <tr>\n",
              "      <th>4</th>\n",
              "      <td>Security forces were on high alert after an el...</td>\n",
              "      <td>Security forces were on high alert after a cam...</td>\n",
              "      <td>0</td>\n",
              "      <td>4</td>\n",
              "    </tr>\n",
              "    <tr>\n",
              "      <th>...</th>\n",
              "      <td>...</td>\n",
              "      <td>...</td>\n",
              "      <td>...</td>\n",
              "      <td>...</td>\n",
              "    </tr>\n",
              "    <tr>\n",
              "      <th>272</th>\n",
              "      <td>Swansea striker Lee Trundle has negotiated a l...</td>\n",
              "      <td>Lee Trundle is in business with the League One...</td>\n",
              "      <td>0</td>\n",
              "      <td>272</td>\n",
              "    </tr>\n",
              "    <tr>\n",
              "      <th>273</th>\n",
              "      <td>A light blue 1975 Ford Escort GL once owned by...</td>\n",
              "      <td>A Houston multimillionaire buys the Pope's For...</td>\n",
              "      <td>0</td>\n",
              "      <td>273</td>\n",
              "    </tr>\n",
              "    <tr>\n",
              "      <th>274</th>\n",
              "      <td>On October 1 2001, EU and other countries intr...</td>\n",
              "      <td>In 2001, the EU introduced a passport for pets.</td>\n",
              "      <td>0</td>\n",
              "      <td>274</td>\n",
              "    </tr>\n",
              "    <tr>\n",
              "      <th>275</th>\n",
              "      <td>Kozlowski and the company's former chief finan...</td>\n",
              "      <td>Kozlowski was sentenced, Monday, to serve up t...</td>\n",
              "      <td>0</td>\n",
              "      <td>275</td>\n",
              "    </tr>\n",
              "    <tr>\n",
              "      <th>276</th>\n",
              "      <td>Danny Kennedy, Greenpeace campaigns director, ...</td>\n",
              "      <td>Greenpeace director said that peace is terrorism.</td>\n",
              "      <td>1</td>\n",
              "      <td>276</td>\n",
              "    </tr>\n",
              "  </tbody>\n",
              "</table>\n",
              "<p>277 rows × 4 columns</p>\n",
              "</div>\n",
              "    <div class=\"colab-df-buttons\">\n",
              "\n",
              "  <div class=\"colab-df-container\">\n",
              "    <button class=\"colab-df-convert\" onclick=\"convertToInteractive('df-7d6b2851-8f01-4f96-bf89-9b2fd287c8b3')\"\n",
              "            title=\"Convert this dataframe to an interactive table.\"\n",
              "            style=\"display:none;\">\n",
              "\n",
              "  <svg xmlns=\"http://www.w3.org/2000/svg\" height=\"24px\" viewBox=\"0 -960 960 960\">\n",
              "    <path d=\"M120-120v-720h720v720H120Zm60-500h600v-160H180v160Zm220 220h160v-160H400v160Zm0 220h160v-160H400v160ZM180-400h160v-160H180v160Zm440 0h160v-160H620v160ZM180-180h160v-160H180v160Zm440 0h160v-160H620v160Z\"/>\n",
              "  </svg>\n",
              "    </button>\n",
              "\n",
              "  <style>\n",
              "    .colab-df-container {\n",
              "      display:flex;\n",
              "      gap: 12px;\n",
              "    }\n",
              "\n",
              "    .colab-df-convert {\n",
              "      background-color: #E8F0FE;\n",
              "      border: none;\n",
              "      border-radius: 50%;\n",
              "      cursor: pointer;\n",
              "      display: none;\n",
              "      fill: #1967D2;\n",
              "      height: 32px;\n",
              "      padding: 0 0 0 0;\n",
              "      width: 32px;\n",
              "    }\n",
              "\n",
              "    .colab-df-convert:hover {\n",
              "      background-color: #E2EBFA;\n",
              "      box-shadow: 0px 1px 2px rgba(60, 64, 67, 0.3), 0px 1px 3px 1px rgba(60, 64, 67, 0.15);\n",
              "      fill: #174EA6;\n",
              "    }\n",
              "\n",
              "    .colab-df-buttons div {\n",
              "      margin-bottom: 4px;\n",
              "    }\n",
              "\n",
              "    [theme=dark] .colab-df-convert {\n",
              "      background-color: #3B4455;\n",
              "      fill: #D2E3FC;\n",
              "    }\n",
              "\n",
              "    [theme=dark] .colab-df-convert:hover {\n",
              "      background-color: #434B5C;\n",
              "      box-shadow: 0px 1px 3px 1px rgba(0, 0, 0, 0.15);\n",
              "      filter: drop-shadow(0px 1px 2px rgba(0, 0, 0, 0.3));\n",
              "      fill: #FFFFFF;\n",
              "    }\n",
              "  </style>\n",
              "\n",
              "    <script>\n",
              "      const buttonEl =\n",
              "        document.querySelector('#df-7d6b2851-8f01-4f96-bf89-9b2fd287c8b3 button.colab-df-convert');\n",
              "      buttonEl.style.display =\n",
              "        google.colab.kernel.accessAllowed ? 'block' : 'none';\n",
              "\n",
              "      async function convertToInteractive(key) {\n",
              "        const element = document.querySelector('#df-7d6b2851-8f01-4f96-bf89-9b2fd287c8b3');\n",
              "        const dataTable =\n",
              "          await google.colab.kernel.invokeFunction('convertToInteractive',\n",
              "                                                    [key], {});\n",
              "        if (!dataTable) return;\n",
              "\n",
              "        const docLinkHtml = 'Like what you see? Visit the ' +\n",
              "          '<a target=\"_blank\" href=https://colab.research.google.com/notebooks/data_table.ipynb>data table notebook</a>'\n",
              "          + ' to learn more about interactive tables.';\n",
              "        element.innerHTML = '';\n",
              "        dataTable['output_type'] = 'display_data';\n",
              "        await google.colab.output.renderOutput(dataTable, element);\n",
              "        const docLink = document.createElement('div');\n",
              "        docLink.innerHTML = docLinkHtml;\n",
              "        element.appendChild(docLink);\n",
              "      }\n",
              "    </script>\n",
              "  </div>\n",
              "\n",
              "\n",
              "<div id=\"df-360eef66-0855-4be8-bb4e-f9919746e3fb\">\n",
              "  <button class=\"colab-df-quickchart\" onclick=\"quickchart('df-360eef66-0855-4be8-bb4e-f9919746e3fb')\"\n",
              "            title=\"Suggest charts\"\n",
              "            style=\"display:none;\">\n",
              "\n",
              "<svg xmlns=\"http://www.w3.org/2000/svg\" height=\"24px\"viewBox=\"0 0 24 24\"\n",
              "     width=\"24px\">\n",
              "    <g>\n",
              "        <path d=\"M19 3H5c-1.1 0-2 .9-2 2v14c0 1.1.9 2 2 2h14c1.1 0 2-.9 2-2V5c0-1.1-.9-2-2-2zM9 17H7v-7h2v7zm4 0h-2V7h2v10zm4 0h-2v-4h2v4z\"/>\n",
              "    </g>\n",
              "</svg>\n",
              "  </button>\n",
              "\n",
              "<style>\n",
              "  .colab-df-quickchart {\n",
              "      --bg-color: #E8F0FE;\n",
              "      --fill-color: #1967D2;\n",
              "      --hover-bg-color: #E2EBFA;\n",
              "      --hover-fill-color: #174EA6;\n",
              "      --disabled-fill-color: #AAA;\n",
              "      --disabled-bg-color: #DDD;\n",
              "  }\n",
              "\n",
              "  [theme=dark] .colab-df-quickchart {\n",
              "      --bg-color: #3B4455;\n",
              "      --fill-color: #D2E3FC;\n",
              "      --hover-bg-color: #434B5C;\n",
              "      --hover-fill-color: #FFFFFF;\n",
              "      --disabled-bg-color: #3B4455;\n",
              "      --disabled-fill-color: #666;\n",
              "  }\n",
              "\n",
              "  .colab-df-quickchart {\n",
              "    background-color: var(--bg-color);\n",
              "    border: none;\n",
              "    border-radius: 50%;\n",
              "    cursor: pointer;\n",
              "    display: none;\n",
              "    fill: var(--fill-color);\n",
              "    height: 32px;\n",
              "    padding: 0;\n",
              "    width: 32px;\n",
              "  }\n",
              "\n",
              "  .colab-df-quickchart:hover {\n",
              "    background-color: var(--hover-bg-color);\n",
              "    box-shadow: 0 1px 2px rgba(60, 64, 67, 0.3), 0 1px 3px 1px rgba(60, 64, 67, 0.15);\n",
              "    fill: var(--button-hover-fill-color);\n",
              "  }\n",
              "\n",
              "  .colab-df-quickchart-complete:disabled,\n",
              "  .colab-df-quickchart-complete:disabled:hover {\n",
              "    background-color: var(--disabled-bg-color);\n",
              "    fill: var(--disabled-fill-color);\n",
              "    box-shadow: none;\n",
              "  }\n",
              "\n",
              "  .colab-df-spinner {\n",
              "    border: 2px solid var(--fill-color);\n",
              "    border-color: transparent;\n",
              "    border-bottom-color: var(--fill-color);\n",
              "    animation:\n",
              "      spin 1s steps(1) infinite;\n",
              "  }\n",
              "\n",
              "  @keyframes spin {\n",
              "    0% {\n",
              "      border-color: transparent;\n",
              "      border-bottom-color: var(--fill-color);\n",
              "      border-left-color: var(--fill-color);\n",
              "    }\n",
              "    20% {\n",
              "      border-color: transparent;\n",
              "      border-left-color: var(--fill-color);\n",
              "      border-top-color: var(--fill-color);\n",
              "    }\n",
              "    30% {\n",
              "      border-color: transparent;\n",
              "      border-left-color: var(--fill-color);\n",
              "      border-top-color: var(--fill-color);\n",
              "      border-right-color: var(--fill-color);\n",
              "    }\n",
              "    40% {\n",
              "      border-color: transparent;\n",
              "      border-right-color: var(--fill-color);\n",
              "      border-top-color: var(--fill-color);\n",
              "    }\n",
              "    60% {\n",
              "      border-color: transparent;\n",
              "      border-right-color: var(--fill-color);\n",
              "    }\n",
              "    80% {\n",
              "      border-color: transparent;\n",
              "      border-right-color: var(--fill-color);\n",
              "      border-bottom-color: var(--fill-color);\n",
              "    }\n",
              "    90% {\n",
              "      border-color: transparent;\n",
              "      border-bottom-color: var(--fill-color);\n",
              "    }\n",
              "  }\n",
              "</style>\n",
              "\n",
              "  <script>\n",
              "    async function quickchart(key) {\n",
              "      const quickchartButtonEl =\n",
              "        document.querySelector('#' + key + ' button');\n",
              "      quickchartButtonEl.disabled = true;  // To prevent multiple clicks.\n",
              "      quickchartButtonEl.classList.add('colab-df-spinner');\n",
              "      try {\n",
              "        const charts = await google.colab.kernel.invokeFunction(\n",
              "            'suggestCharts', [key], {});\n",
              "      } catch (error) {\n",
              "        console.error('Error during call to suggestCharts:', error);\n",
              "      }\n",
              "      quickchartButtonEl.classList.remove('colab-df-spinner');\n",
              "      quickchartButtonEl.classList.add('colab-df-quickchart-complete');\n",
              "    }\n",
              "    (() => {\n",
              "      let quickchartButtonEl =\n",
              "        document.querySelector('#df-360eef66-0855-4be8-bb4e-f9919746e3fb button');\n",
              "      quickchartButtonEl.style.display =\n",
              "        google.colab.kernel.accessAllowed ? 'block' : 'none';\n",
              "    })();\n",
              "  </script>\n",
              "</div>\n",
              "\n",
              "    </div>\n",
              "  </div>\n"
            ],
            "text/plain": [
              "                                             sentence1  \\\n",
              "0    Dana Reeve, the widow of the actor Christopher...   \n",
              "1    Yet, we now are discovering that antibiotics a...   \n",
              "2    Cairo is now home to some 15 million people - ...   \n",
              "3    The Amish community in Pennsylvania, which num...   \n",
              "4    Security forces were on high alert after an el...   \n",
              "..                                                 ...   \n",
              "272  Swansea striker Lee Trundle has negotiated a l...   \n",
              "273  A light blue 1975 Ford Escort GL once owned by...   \n",
              "274  On October 1 2001, EU and other countries intr...   \n",
              "275  Kozlowski and the company's former chief finan...   \n",
              "276  Danny Kennedy, Greenpeace campaigns director, ...   \n",
              "\n",
              "                                             sentence2  label  idx  \n",
              "0                   Christopher Reeve had an accident.      1    0  \n",
              "1     Bacteria is winning the war against antibiotics.      0    1  \n",
              "2    15 million tonnes of rubbish are produced dail...      1    2  \n",
              "3    Pennsylvania has the biggest Amish community i...      1    3  \n",
              "4    Security forces were on high alert after a cam...      0    4  \n",
              "..                                                 ...    ...  ...  \n",
              "272  Lee Trundle is in business with the League One...      0  272  \n",
              "273  A Houston multimillionaire buys the Pope's For...      0  273  \n",
              "274    In 2001, the EU introduced a passport for pets.      0  274  \n",
              "275  Kozlowski was sentenced, Monday, to serve up t...      0  275  \n",
              "276  Greenpeace director said that peace is terrorism.      1  276  \n",
              "\n",
              "[277 rows x 4 columns]"
            ]
          },
          "execution_count": 10,
          "metadata": {},
          "output_type": "execute_result"
        }
      ],
      "source": [
        "dataset[\"validation\"].to_pandas()"
      ]
    },
    {
      "cell_type": "code",
      "execution_count": null,
      "metadata": {
        "colab": {
          "base_uri": "https://localhost:8080/",
          "height": 424
        },
        "id": "dIG3j8yEqf8I",
        "outputId": "d608221d-1d3e-48ab-eefd-8eb0be50656b"
      },
      "outputs": [
        {
          "data": {
            "application/vnd.google.colaboratory.intrinsic+json": {
              "summary": "{\n  \"name\": \"dataset['test']\",\n  \"rows\": 3000,\n  \"fields\": [\n    {\n      \"column\": \"sentence1\",\n      \"properties\": {\n        \"dtype\": \"string\",\n        \"num_unique_values\": 2821,\n        \"samples\": [\n          \"Chrysler said it would recall 145,099 of its 2006 Dodge Ram 1500 pickup trucks to fix the passenger air bag and seat belt.\",\n          \"The Unemployment Olympics are the hastily planned brainchild of Nick Goddard, a gangly, angular man in small glasses and a navy blazer who runs from one event to the other, herding the 30-some-odd contestants around like an inexperienced babysitter at a children's birthday party. The former computer programmer has been without a job for less than two months and says the idea for the four-event competition \\u2014 Telephone toss, Payday pi\\u00f1ata, Pin-the-Blame-on-the-Boss and the \\\"You're Fired!\\\" race \\u2014 just popped into his head one night. \\\"Normally you think of things like this but never do them,\\\" he says, \\\"but I have so much free time right now, I decided to go for it.\\\" He built a rudimentary website, contacted local news outlets, and then watched in amazement as his email's inbox filled with hopeful participants.\",\n          \"During Reinsdorf's 24 seasons as chairman of the White Sox, the team has captured American League division championships three times, including an AL Central title in 2000.\"\n        ],\n        \"semantic_type\": \"\",\n        \"description\": \"\"\n      }\n    },\n    {\n      \"column\": \"sentence2\",\n      \"properties\": {\n        \"dtype\": \"string\",\n        \"num_unique_values\": 2615,\n        \"samples\": [\n          \"26 people died in Brazil on Sunday.\",\n          \"The name of George W. Bush's wife is Laura.\",\n          \"The oceans are getting more acidic due to the carbon dioxide emissions.\"\n        ],\n        \"semantic_type\": \"\",\n        \"description\": \"\"\n      }\n    },\n    {\n      \"column\": \"label\",\n      \"properties\": {\n        \"dtype\": \"number\",\n        \"std\": 0,\n        \"min\": -1,\n        \"max\": -1,\n        \"num_unique_values\": 1,\n        \"samples\": [\n          -1\n        ],\n        \"semantic_type\": \"\",\n        \"description\": \"\"\n      }\n    },\n    {\n      \"column\": \"idx\",\n      \"properties\": {\n        \"dtype\": \"int32\",\n        \"num_unique_values\": 3000,\n        \"samples\": [\n          1801\n        ],\n        \"semantic_type\": \"\",\n        \"description\": \"\"\n      }\n    }\n  ]\n}",
              "type": "dataframe"
            },
            "text/html": [
              "\n",
              "  <div id=\"df-1e70a378-4e0a-478b-9611-13eee2faa4ef\" class=\"colab-df-container\">\n",
              "    <div>\n",
              "<style scoped>\n",
              "    .dataframe tbody tr th:only-of-type {\n",
              "        vertical-align: middle;\n",
              "    }\n",
              "\n",
              "    .dataframe tbody tr th {\n",
              "        vertical-align: top;\n",
              "    }\n",
              "\n",
              "    .dataframe thead th {\n",
              "        text-align: right;\n",
              "    }\n",
              "</style>\n",
              "<table border=\"1\" class=\"dataframe\">\n",
              "  <thead>\n",
              "    <tr style=\"text-align: right;\">\n",
              "      <th></th>\n",
              "      <th>sentence1</th>\n",
              "      <th>sentence2</th>\n",
              "      <th>label</th>\n",
              "      <th>idx</th>\n",
              "    </tr>\n",
              "  </thead>\n",
              "  <tbody>\n",
              "    <tr>\n",
              "      <th>0</th>\n",
              "      <td>Mangla was summoned after Madhumita's sister N...</td>\n",
              "      <td>Shukla is related to Mangla.</td>\n",
              "      <td>-1</td>\n",
              "      <td>0</td>\n",
              "    </tr>\n",
              "    <tr>\n",
              "      <th>1</th>\n",
              "      <td>Authorities in Brazil say that more than 200 p...</td>\n",
              "      <td>Authorities in Brazil hold 200 people as hostage.</td>\n",
              "      <td>-1</td>\n",
              "      <td>1</td>\n",
              "    </tr>\n",
              "    <tr>\n",
              "      <th>2</th>\n",
              "      <td>A mercenary group faithful to the warmongering...</td>\n",
              "      <td>An interior ministry worker was killed by a me...</td>\n",
              "      <td>-1</td>\n",
              "      <td>2</td>\n",
              "    </tr>\n",
              "    <tr>\n",
              "      <th>3</th>\n",
              "      <td>The British ambassador to Egypt, Derek Plumbly...</td>\n",
              "      <td>Derek Plumbly resides in Egypt.</td>\n",
              "      <td>-1</td>\n",
              "      <td>3</td>\n",
              "    </tr>\n",
              "    <tr>\n",
              "      <th>4</th>\n",
              "      <td>Tibone estimated diamond production at four mi...</td>\n",
              "      <td>Botswana is a business partner of De Beers.</td>\n",
              "      <td>-1</td>\n",
              "      <td>4</td>\n",
              "    </tr>\n",
              "    <tr>\n",
              "      <th>...</th>\n",
              "      <td>...</td>\n",
              "      <td>...</td>\n",
              "      <td>...</td>\n",
              "      <td>...</td>\n",
              "    </tr>\n",
              "    <tr>\n",
              "      <th>2995</th>\n",
              "      <td>A small team from Britain's Scotland Yard has ...</td>\n",
              "      <td>Benazir Bhutto is dead.</td>\n",
              "      <td>-1</td>\n",
              "      <td>2995</td>\n",
              "    </tr>\n",
              "    <tr>\n",
              "      <th>2996</th>\n",
              "      <td>The current Iraqi president, Jalal Talabani, s...</td>\n",
              "      <td>Jalal Talabani agrees to divide Iraq.</td>\n",
              "      <td>-1</td>\n",
              "      <td>2996</td>\n",
              "    </tr>\n",
              "    <tr>\n",
              "      <th>2997</th>\n",
              "      <td>J K Rowling, the author of the \"Harry Potter\" ...</td>\n",
              "      <td>J.K. Rowling is the author of \"Harry Potter\".</td>\n",
              "      <td>-1</td>\n",
              "      <td>2997</td>\n",
              "    </tr>\n",
              "    <tr>\n",
              "      <th>2998</th>\n",
              "      <td>The forest was estimated to contain trees that...</td>\n",
              "      <td>Fossilized trees have been found in the USA.</td>\n",
              "      <td>-1</td>\n",
              "      <td>2998</td>\n",
              "    </tr>\n",
              "    <tr>\n",
              "      <th>2999</th>\n",
              "      <td>A Helios airliner (Boeing 737, flight HCY 522)...</td>\n",
              "      <td>26 people died in an airplane crash.</td>\n",
              "      <td>-1</td>\n",
              "      <td>2999</td>\n",
              "    </tr>\n",
              "  </tbody>\n",
              "</table>\n",
              "<p>3000 rows × 4 columns</p>\n",
              "</div>\n",
              "    <div class=\"colab-df-buttons\">\n",
              "\n",
              "  <div class=\"colab-df-container\">\n",
              "    <button class=\"colab-df-convert\" onclick=\"convertToInteractive('df-1e70a378-4e0a-478b-9611-13eee2faa4ef')\"\n",
              "            title=\"Convert this dataframe to an interactive table.\"\n",
              "            style=\"display:none;\">\n",
              "\n",
              "  <svg xmlns=\"http://www.w3.org/2000/svg\" height=\"24px\" viewBox=\"0 -960 960 960\">\n",
              "    <path d=\"M120-120v-720h720v720H120Zm60-500h600v-160H180v160Zm220 220h160v-160H400v160Zm0 220h160v-160H400v160ZM180-400h160v-160H180v160Zm440 0h160v-160H620v160ZM180-180h160v-160H180v160Zm440 0h160v-160H620v160Z\"/>\n",
              "  </svg>\n",
              "    </button>\n",
              "\n",
              "  <style>\n",
              "    .colab-df-container {\n",
              "      display:flex;\n",
              "      gap: 12px;\n",
              "    }\n",
              "\n",
              "    .colab-df-convert {\n",
              "      background-color: #E8F0FE;\n",
              "      border: none;\n",
              "      border-radius: 50%;\n",
              "      cursor: pointer;\n",
              "      display: none;\n",
              "      fill: #1967D2;\n",
              "      height: 32px;\n",
              "      padding: 0 0 0 0;\n",
              "      width: 32px;\n",
              "    }\n",
              "\n",
              "    .colab-df-convert:hover {\n",
              "      background-color: #E2EBFA;\n",
              "      box-shadow: 0px 1px 2px rgba(60, 64, 67, 0.3), 0px 1px 3px 1px rgba(60, 64, 67, 0.15);\n",
              "      fill: #174EA6;\n",
              "    }\n",
              "\n",
              "    .colab-df-buttons div {\n",
              "      margin-bottom: 4px;\n",
              "    }\n",
              "\n",
              "    [theme=dark] .colab-df-convert {\n",
              "      background-color: #3B4455;\n",
              "      fill: #D2E3FC;\n",
              "    }\n",
              "\n",
              "    [theme=dark] .colab-df-convert:hover {\n",
              "      background-color: #434B5C;\n",
              "      box-shadow: 0px 1px 3px 1px rgba(0, 0, 0, 0.15);\n",
              "      filter: drop-shadow(0px 1px 2px rgba(0, 0, 0, 0.3));\n",
              "      fill: #FFFFFF;\n",
              "    }\n",
              "  </style>\n",
              "\n",
              "    <script>\n",
              "      const buttonEl =\n",
              "        document.querySelector('#df-1e70a378-4e0a-478b-9611-13eee2faa4ef button.colab-df-convert');\n",
              "      buttonEl.style.display =\n",
              "        google.colab.kernel.accessAllowed ? 'block' : 'none';\n",
              "\n",
              "      async function convertToInteractive(key) {\n",
              "        const element = document.querySelector('#df-1e70a378-4e0a-478b-9611-13eee2faa4ef');\n",
              "        const dataTable =\n",
              "          await google.colab.kernel.invokeFunction('convertToInteractive',\n",
              "                                                    [key], {});\n",
              "        if (!dataTable) return;\n",
              "\n",
              "        const docLinkHtml = 'Like what you see? Visit the ' +\n",
              "          '<a target=\"_blank\" href=https://colab.research.google.com/notebooks/data_table.ipynb>data table notebook</a>'\n",
              "          + ' to learn more about interactive tables.';\n",
              "        element.innerHTML = '';\n",
              "        dataTable['output_type'] = 'display_data';\n",
              "        await google.colab.output.renderOutput(dataTable, element);\n",
              "        const docLink = document.createElement('div');\n",
              "        docLink.innerHTML = docLinkHtml;\n",
              "        element.appendChild(docLink);\n",
              "      }\n",
              "    </script>\n",
              "  </div>\n",
              "\n",
              "\n",
              "<div id=\"df-ce74d8a2-429a-43c1-b128-9ab8fdb68393\">\n",
              "  <button class=\"colab-df-quickchart\" onclick=\"quickchart('df-ce74d8a2-429a-43c1-b128-9ab8fdb68393')\"\n",
              "            title=\"Suggest charts\"\n",
              "            style=\"display:none;\">\n",
              "\n",
              "<svg xmlns=\"http://www.w3.org/2000/svg\" height=\"24px\"viewBox=\"0 0 24 24\"\n",
              "     width=\"24px\">\n",
              "    <g>\n",
              "        <path d=\"M19 3H5c-1.1 0-2 .9-2 2v14c0 1.1.9 2 2 2h14c1.1 0 2-.9 2-2V5c0-1.1-.9-2-2-2zM9 17H7v-7h2v7zm4 0h-2V7h2v10zm4 0h-2v-4h2v4z\"/>\n",
              "    </g>\n",
              "</svg>\n",
              "  </button>\n",
              "\n",
              "<style>\n",
              "  .colab-df-quickchart {\n",
              "      --bg-color: #E8F0FE;\n",
              "      --fill-color: #1967D2;\n",
              "      --hover-bg-color: #E2EBFA;\n",
              "      --hover-fill-color: #174EA6;\n",
              "      --disabled-fill-color: #AAA;\n",
              "      --disabled-bg-color: #DDD;\n",
              "  }\n",
              "\n",
              "  [theme=dark] .colab-df-quickchart {\n",
              "      --bg-color: #3B4455;\n",
              "      --fill-color: #D2E3FC;\n",
              "      --hover-bg-color: #434B5C;\n",
              "      --hover-fill-color: #FFFFFF;\n",
              "      --disabled-bg-color: #3B4455;\n",
              "      --disabled-fill-color: #666;\n",
              "  }\n",
              "\n",
              "  .colab-df-quickchart {\n",
              "    background-color: var(--bg-color);\n",
              "    border: none;\n",
              "    border-radius: 50%;\n",
              "    cursor: pointer;\n",
              "    display: none;\n",
              "    fill: var(--fill-color);\n",
              "    height: 32px;\n",
              "    padding: 0;\n",
              "    width: 32px;\n",
              "  }\n",
              "\n",
              "  .colab-df-quickchart:hover {\n",
              "    background-color: var(--hover-bg-color);\n",
              "    box-shadow: 0 1px 2px rgba(60, 64, 67, 0.3), 0 1px 3px 1px rgba(60, 64, 67, 0.15);\n",
              "    fill: var(--button-hover-fill-color);\n",
              "  }\n",
              "\n",
              "  .colab-df-quickchart-complete:disabled,\n",
              "  .colab-df-quickchart-complete:disabled:hover {\n",
              "    background-color: var(--disabled-bg-color);\n",
              "    fill: var(--disabled-fill-color);\n",
              "    box-shadow: none;\n",
              "  }\n",
              "\n",
              "  .colab-df-spinner {\n",
              "    border: 2px solid var(--fill-color);\n",
              "    border-color: transparent;\n",
              "    border-bottom-color: var(--fill-color);\n",
              "    animation:\n",
              "      spin 1s steps(1) infinite;\n",
              "  }\n",
              "\n",
              "  @keyframes spin {\n",
              "    0% {\n",
              "      border-color: transparent;\n",
              "      border-bottom-color: var(--fill-color);\n",
              "      border-left-color: var(--fill-color);\n",
              "    }\n",
              "    20% {\n",
              "      border-color: transparent;\n",
              "      border-left-color: var(--fill-color);\n",
              "      border-top-color: var(--fill-color);\n",
              "    }\n",
              "    30% {\n",
              "      border-color: transparent;\n",
              "      border-left-color: var(--fill-color);\n",
              "      border-top-color: var(--fill-color);\n",
              "      border-right-color: var(--fill-color);\n",
              "    }\n",
              "    40% {\n",
              "      border-color: transparent;\n",
              "      border-right-color: var(--fill-color);\n",
              "      border-top-color: var(--fill-color);\n",
              "    }\n",
              "    60% {\n",
              "      border-color: transparent;\n",
              "      border-right-color: var(--fill-color);\n",
              "    }\n",
              "    80% {\n",
              "      border-color: transparent;\n",
              "      border-right-color: var(--fill-color);\n",
              "      border-bottom-color: var(--fill-color);\n",
              "    }\n",
              "    90% {\n",
              "      border-color: transparent;\n",
              "      border-bottom-color: var(--fill-color);\n",
              "    }\n",
              "  }\n",
              "</style>\n",
              "\n",
              "  <script>\n",
              "    async function quickchart(key) {\n",
              "      const quickchartButtonEl =\n",
              "        document.querySelector('#' + key + ' button');\n",
              "      quickchartButtonEl.disabled = true;  // To prevent multiple clicks.\n",
              "      quickchartButtonEl.classList.add('colab-df-spinner');\n",
              "      try {\n",
              "        const charts = await google.colab.kernel.invokeFunction(\n",
              "            'suggestCharts', [key], {});\n",
              "      } catch (error) {\n",
              "        console.error('Error during call to suggestCharts:', error);\n",
              "      }\n",
              "      quickchartButtonEl.classList.remove('colab-df-spinner');\n",
              "      quickchartButtonEl.classList.add('colab-df-quickchart-complete');\n",
              "    }\n",
              "    (() => {\n",
              "      let quickchartButtonEl =\n",
              "        document.querySelector('#df-ce74d8a2-429a-43c1-b128-9ab8fdb68393 button');\n",
              "      quickchartButtonEl.style.display =\n",
              "        google.colab.kernel.accessAllowed ? 'block' : 'none';\n",
              "    })();\n",
              "  </script>\n",
              "</div>\n",
              "\n",
              "    </div>\n",
              "  </div>\n"
            ],
            "text/plain": [
              "                                              sentence1  \\\n",
              "0     Mangla was summoned after Madhumita's sister N...   \n",
              "1     Authorities in Brazil say that more than 200 p...   \n",
              "2     A mercenary group faithful to the warmongering...   \n",
              "3     The British ambassador to Egypt, Derek Plumbly...   \n",
              "4     Tibone estimated diamond production at four mi...   \n",
              "...                                                 ...   \n",
              "2995  A small team from Britain's Scotland Yard has ...   \n",
              "2996  The current Iraqi president, Jalal Talabani, s...   \n",
              "2997  J K Rowling, the author of the \"Harry Potter\" ...   \n",
              "2998  The forest was estimated to contain trees that...   \n",
              "2999  A Helios airliner (Boeing 737, flight HCY 522)...   \n",
              "\n",
              "                                              sentence2  label   idx  \n",
              "0                          Shukla is related to Mangla.     -1     0  \n",
              "1     Authorities in Brazil hold 200 people as hostage.     -1     1  \n",
              "2     An interior ministry worker was killed by a me...     -1     2  \n",
              "3                       Derek Plumbly resides in Egypt.     -1     3  \n",
              "4           Botswana is a business partner of De Beers.     -1     4  \n",
              "...                                                 ...    ...   ...  \n",
              "2995                            Benazir Bhutto is dead.     -1  2995  \n",
              "2996              Jalal Talabani agrees to divide Iraq.     -1  2996  \n",
              "2997      J.K. Rowling is the author of \"Harry Potter\".     -1  2997  \n",
              "2998       Fossilized trees have been found in the USA.     -1  2998  \n",
              "2999               26 people died in an airplane crash.     -1  2999  \n",
              "\n",
              "[3000 rows x 4 columns]"
            ]
          },
          "execution_count": 11,
          "metadata": {},
          "output_type": "execute_result"
        }
      ],
      "source": [
        "dataset['test'].to_pandas()"
      ]
    },
    {
      "cell_type": "code",
      "execution_count": null,
      "metadata": {
        "id": "i3j8APAoIrI3"
      },
      "outputs": [],
      "source": [
        "import datasets\n",
        "import random\n",
        "import pandas as pd\n",
        "from IPython.display import display, HTML\n",
        "\n",
        "def show_random_elements(dataset, num_examples=10):\n",
        "    assert num_examples <= len(dataset), \"Can't pick more elements than there are in the dataset.\"\n",
        "    picks = []\n",
        "    for _ in range(num_examples):\n",
        "        pick = random.randint(0, len(dataset)-1)\n",
        "        while pick in picks:\n",
        "            pick = random.randint(0, len(dataset)-1)\n",
        "        picks.append(pick)\n",
        "\n",
        "    df = pd.DataFrame(dataset[picks])\n",
        "    for column, typ in dataset.features.items():\n",
        "        if isinstance(typ, datasets.ClassLabel):\n",
        "            df[column] = df[column].transform(lambda i: typ.names[i])\n",
        "    display(HTML(df.to_html()))"
      ]
    },
    {
      "cell_type": "code",
      "execution_count": null,
      "metadata": {
        "colab": {
          "base_uri": "https://localhost:8080/",
          "height": 623
        },
        "id": "SZy5tRB_IrI7",
        "outputId": "725453f9-1886-4058-e017-06d9422b9947"
      },
      "outputs": [
        {
          "data": {
            "text/html": [
              "<table border=\"1\" class=\"dataframe\">\n",
              "  <thead>\n",
              "    <tr style=\"text-align: right;\">\n",
              "      <th></th>\n",
              "      <th>sentence1</th>\n",
              "      <th>sentence2</th>\n",
              "      <th>label</th>\n",
              "      <th>idx</th>\n",
              "    </tr>\n",
              "  </thead>\n",
              "  <tbody>\n",
              "    <tr>\n",
              "      <th>0</th>\n",
              "      <td>Councilman Pierce said he was advised that the car belonged to James Clark, 68, an acquaintance of the Jones family.</td>\n",
              "      <td>Councilman Pierce owns a car.</td>\n",
              "      <td>not_entailment</td>\n",
              "      <td>1391</td>\n",
              "    </tr>\n",
              "    <tr>\n",
              "      <th>1</th>\n",
              "      <td>Spain will recruit 500 extra police to fight Basque separatists ETA and Islamist militants in the next four years, Interior Minister Alfredo Perez Rubalcaba said on Tuesday. Including the new recruits, the number of anti-terrorism officers will have increased by 1,800 since the Socialist government took office in 2004, days after Islamist militants killed 191 people by bombing Madrid trains, Rubalcaba told a parliamentary committee. ETA has killed more than 800 people in four decades in its fight for an independent Basque Country composed of part of northern Spain and southern France. Its last fatal attack came on May 14, authorities believe, when a car bomb wrecked a police barracks in the Spanish Basque Country, killing one officer. The government will also provide an additional 800 officers to combat organised crime and another 1,248 staff to tackle domestic violence, Rubalcaba said.</td>\n",
              "      <td>ETA fights for the independence of Basque Country.</td>\n",
              "      <td>entailment</td>\n",
              "      <td>1091</td>\n",
              "    </tr>\n",
              "    <tr>\n",
              "      <th>2</th>\n",
              "      <td>A computer system failure closed down share trading at the Tokyo Stock Exchange for most of yesterday, the worst disruption to date for Asia's largest bourse.</td>\n",
              "      <td>The Tokyo Stock Exchange was closed down by computer system failure.</td>\n",
              "      <td>entailment</td>\n",
              "      <td>456</td>\n",
              "    </tr>\n",
              "    <tr>\n",
              "      <th>3</th>\n",
              "      <td>U.S. President George W. Bush and Congressional leaders from both political parties have reached agreement on US$150 billion in tax relief in an effort to help stimulate the United States economy. VOA White House Correspondent Scott Stearns has the story. The agreement includes provision to give up to US$600 in tax rebates to millions of wage earners and an additional US$300 refund for each child. It allows businesses to immediately write off 50 percent of capital equipment purchases.</td>\n",
              "      <td>The Congress wants to boost the economy.</td>\n",
              "      <td>entailment</td>\n",
              "      <td>169</td>\n",
              "    </tr>\n",
              "    <tr>\n",
              "      <th>4</th>\n",
              "      <td>On April 27th, Pavolini went on, ahead of his troops, and reached Mussolini. Accompanying him were Angela Curti, the former mistress of Mussolini.</td>\n",
              "      <td>Angela Curti was Mussolini's mistress.</td>\n",
              "      <td>entailment</td>\n",
              "      <td>905</td>\n",
              "    </tr>\n",
              "    <tr>\n",
              "      <th>5</th>\n",
              "      <td>Alex Dyer, spokesman for the group, stated that Santarchy in Auckland is part of a worldwide phenomenon.</td>\n",
              "      <td>Alex Dyer represents Santarchy.</td>\n",
              "      <td>not_entailment</td>\n",
              "      <td>1693</td>\n",
              "    </tr>\n",
              "    <tr>\n",
              "      <th>6</th>\n",
              "      <td>The cholera epidemic in Zimbabwe appears to have passed its peak, says the World Health Organization (WHO).  The number of new cases recorded in the week to mid-March nearly halved to 2,000, against 3,800 the preceding week and 8,000 cases a week in February.  But the agency warned the weekly statistics were not always accurate.  There have been more than 90,000 cholera cases in Zimbabwe since the start of the epidemic last August, about 4,000 of them fatal.</td>\n",
              "      <td>Since last August about 4,000 people died of cholera in Zimbabwe.</td>\n",
              "      <td>entailment</td>\n",
              "      <td>1381</td>\n",
              "    </tr>\n",
              "    <tr>\n",
              "      <th>7</th>\n",
              "      <td>San Salvador, Jan. 13, '90 (Acan-Efe) -The bodies of Hector Oqueli and Gilda Flores, who had been kidnapped yesterday, were found in Cuilapa, Guatemala, near the border with El Salvador, the relatives of one of the victims have reported.</td>\n",
              "      <td>Guatemala borders on El Salvador.</td>\n",
              "      <td>entailment</td>\n",
              "      <td>432</td>\n",
              "    </tr>\n",
              "    <tr>\n",
              "      <th>8</th>\n",
              "      <td>Two women from two counties are dead and police have some clues as to who murdered them.</td>\n",
              "      <td>Police gather clues in double assassination.</td>\n",
              "      <td>entailment</td>\n",
              "      <td>843</td>\n",
              "    </tr>\n",
              "    <tr>\n",
              "      <th>9</th>\n",
              "      <td>Thousands of Romanians participated in rallies on Monday to campaign for the release of three Romanian journalists kidnapped last month in Iraq . Crowds swelled in size after a weekend of smaller rallies sponsored by Romanian media workers and the Arab community in Romania.</td>\n",
              "      <td>Romania sent 730 troops in Iraq.</td>\n",
              "      <td>not_entailment</td>\n",
              "      <td>458</td>\n",
              "    </tr>\n",
              "  </tbody>\n",
              "</table>"
            ],
            "text/plain": [
              "<IPython.core.display.HTML object>"
            ]
          },
          "metadata": {},
          "output_type": "display_data"
        }
      ],
      "source": [
        "show_random_elements(dataset[\"train\"])"
      ]
    },
    {
      "cell_type": "code",
      "execution_count": null,
      "metadata": {
        "colab": {
          "base_uri": "https://localhost:8080/"
        },
        "id": "6XN1Rq0aIrJC",
        "outputId": "47ebcee1-d777-49cb-acb9-aa6554f977a4"
      },
      "outputs": [
        {
          "data": {
            "text/plain": [
              "{'accuracy': 0.484375}"
            ]
          },
          "execution_count": 14,
          "metadata": {},
          "output_type": "execute_result"
        }
      ],
      "source": [
        "import numpy as np\n",
        "\n",
        "fake_preds = np.random.randint(0, 2, size=(64,))\n",
        "fake_labels = np.random.randint(0, 2, size=(64,))\n",
        "metric.compute(predictions=fake_preds, references=fake_labels)"
      ]
    },
    {
      "cell_type": "code",
      "execution_count": null,
      "metadata": {
        "id": "eXNLu_-nIrJI"
      },
      "outputs": [],
      "source": [
        "from transformers import AutoTokenizer\n",
        "\n",
        "tokenizer = AutoTokenizer.from_pretrained(model_checkpoint, use_fast=True)"
      ]
    },
    {
      "cell_type": "code",
      "execution_count": null,
      "metadata": {
        "colab": {
          "base_uri": "https://localhost:8080/"
        },
        "id": "a5hBlsrHIrJL",
        "outputId": "2a8e2437-9668-46c3-fe1c-7865150b1e09"
      },
      "outputs": [
        {
          "data": {
            "text/plain": [
              "{'input_ids': [101, 7592, 1010, 2023, 2028, 6251, 999, 102, 0, 0, 0, 0, 0, 0, 0, 0, 0, 0, 0, 0, 0, 0, 0, 0, 0, 0, 0, 0, 0, 0, 0, 0, 0, 0, 0, 0, 0, 0, 0, 0, 0, 0, 0, 0, 0, 0, 0, 0, 0, 0], 'token_type_ids': [0, 0, 0, 0, 0, 0, 0, 0, 0, 0, 0, 0, 0, 0, 0, 0, 0, 0, 0, 0, 0, 0, 0, 0, 0, 0, 0, 0, 0, 0, 0, 0, 0, 0, 0, 0, 0, 0, 0, 0, 0, 0, 0, 0, 0, 0, 0, 0, 0, 0], 'attention_mask': [1, 1, 1, 1, 1, 1, 1, 1, 0, 0, 0, 0, 0, 0, 0, 0, 0, 0, 0, 0, 0, 0, 0, 0, 0, 0, 0, 0, 0, 0, 0, 0, 0, 0, 0, 0, 0, 0, 0, 0, 0, 0, 0, 0, 0, 0, 0, 0, 0, 0]}"
            ]
          },
          "execution_count": 16,
          "metadata": {},
          "output_type": "execute_result"
        }
      ],
      "source": [
        "tokenizer(\"Hello, this one sentence!\", max_length=50, padding=\"max_length\", truncation=True)"
      ]
    },
    {
      "cell_type": "code",
      "execution_count": null,
      "metadata": {
        "colab": {
          "base_uri": "https://localhost:8080/"
        },
        "id": "jkyh2Wkfy_67",
        "outputId": "e157eee6-2fa3-4195-b84b-9266c1d55af1"
      },
      "outputs": [
        {
          "data": {
            "text/plain": [
              "{'input_ids': [101, 7592, 1010, 2023, 2028, 6251, 999, 102], 'token_type_ids': [0, 0, 0, 0, 0, 0, 0, 0], 'attention_mask': [1, 1, 1, 1, 1, 1, 1, 1]}"
            ]
          },
          "execution_count": 17,
          "metadata": {},
          "output_type": "execute_result"
        }
      ],
      "source": [
        "tokenizer(\"Hello, this one sentence!\")"
      ]
    },
    {
      "cell_type": "code",
      "execution_count": null,
      "metadata": {
        "colab": {
          "base_uri": "https://localhost:8080/"
        },
        "id": "YyD5WzbPzFak",
        "outputId": "e815bb45-8bba-4119-9aa9-e6c68def3b4d"
      },
      "outputs": [
        {
          "data": {
            "text/plain": [
              "{'input_ids': [101, 7592, 1010, 2023, 2028, 6251, 999, 102, 2054, 2003, 2183, 2006, 2182, 999, 102], 'token_type_ids': [0, 0, 0, 0, 0, 0, 0, 0, 1, 1, 1, 1, 1, 1, 1], 'attention_mask': [1, 1, 1, 1, 1, 1, 1, 1, 1, 1, 1, 1, 1, 1, 1]}"
            ]
          },
          "execution_count": 18,
          "metadata": {},
          "output_type": "execute_result"
        }
      ],
      "source": [
        "tokenizer(\"Hello, this one sentence!\",\"What is going on here!\")"
      ]
    },
    {
      "cell_type": "code",
      "execution_count": null,
      "metadata": {
        "id": "fyGdtK9oIrJM"
      },
      "outputs": [],
      "source": [
        "task_to_keys = {\n",
        "    \"cola\": (\"sentence\", None),\n",
        "    \"mnli\": (\"premise\", \"hypothesis\"),\n",
        "    \"mnli-mm\": (\"premise\", \"hypothesis\"),\n",
        "    \"mrpc\": (\"sentence1\", \"sentence2\"),\n",
        "    \"qnli\": (\"question\", \"sentence\"),\n",
        "    \"qqp\": (\"question1\", \"question2\"),\n",
        "    \"rte\": (\"sentence1\", \"sentence2\"),\n",
        "    \"sst2\": (\"sentence\", None),\n",
        "    \"stsb\": (\"sentence1\", \"sentence2\"),\n",
        "    \"wnli\": (\"sentence1\", \"sentence2\"),\n",
        "}"
      ]
    },
    {
      "cell_type": "code",
      "execution_count": null,
      "metadata": {
        "colab": {
          "base_uri": "https://localhost:8080/"
        },
        "id": "2xoTaXvP4Tcm",
        "outputId": "2354ec68-7463-4d22-ef12-cdce5c0f6bd9"
      },
      "outputs": [
        {
          "data": {
            "text/plain": [
              "{'sentence1': 'No Weapons of Mass Destruction Found in Iraq Yet.',\n",
              " 'sentence2': 'Weapons of Mass Destruction Found in Iraq.',\n",
              " 'label': 1,\n",
              " 'idx': 0}"
            ]
          },
          "execution_count": 20,
          "metadata": {},
          "output_type": "execute_result"
        }
      ],
      "source": [
        "dataset['train'][0]"
      ]
    },
    {
      "cell_type": "code",
      "execution_count": null,
      "metadata": {
        "colab": {
          "base_uri": "https://localhost:8080/"
        },
        "id": "19GG646uIrJO",
        "outputId": "c93e97eb-4fdc-497a-888c-5952a7264673"
      },
      "outputs": [
        {
          "name": "stdout",
          "output_type": "stream",
          "text": [
            "Sentence 1: No Weapons of Mass Destruction Found in Iraq Yet.\n",
            "Sentence 2: Weapons of Mass Destruction Found in Iraq.\n"
          ]
        }
      ],
      "source": [
        "sentence1_key, sentence2_key = task_to_keys[task]\n",
        "if sentence2_key is None:\n",
        "    print(f\"Sentence: {dataset['train'][0][sentence1_key]}\")\n",
        "else:\n",
        "    print(f\"Sentence 1: {dataset['train'][0][sentence1_key]}\")\n",
        "    print(f\"Sentence 2: {dataset['train'][0][sentence2_key]}\")"
      ]
    },
    {
      "cell_type": "code",
      "execution_count": null,
      "metadata": {
        "id": "vc0BSBLIIrJQ"
      },
      "outputs": [],
      "source": [
        "def preprocess_function(examples):\n",
        "    if sentence2_key is None:\n",
        "        return tokenizer(examples[sentence1_key], truncation=True)\n",
        "    return tokenizer(examples[sentence1_key], examples[sentence2_key], truncation=True)"
      ]
    },
    {
      "cell_type": "code",
      "execution_count": null,
      "metadata": {
        "colab": {
          "base_uri": "https://localhost:8080/"
        },
        "id": "-b70jh26IrJS",
        "outputId": "414bbbe7-9c31-4d5e-a060-ae1a529c9780"
      },
      "outputs": [
        {
          "data": {
            "text/plain": [
              "{'input_ids': [[101, 2053, 4255, 1997, 3742, 6215, 2179, 1999, 5712, 2664, 1012, 102, 4255, 1997, 3742, 6215, 2179, 1999, 5712, 1012, 102]], 'token_type_ids': [[0, 0, 0, 0, 0, 0, 0, 0, 0, 0, 0, 0, 1, 1, 1, 1, 1, 1, 1, 1, 1]], 'attention_mask': [[1, 1, 1, 1, 1, 1, 1, 1, 1, 1, 1, 1, 1, 1, 1, 1, 1, 1, 1, 1, 1]]}"
            ]
          },
          "execution_count": 23,
          "metadata": {},
          "output_type": "execute_result"
        }
      ],
      "source": [
        "preprocess_function(dataset['train'][:1])\n"
      ]
    },
    {
      "cell_type": "code",
      "execution_count": null,
      "metadata": {
        "id": "DDtsaJeVIrJT"
      },
      "outputs": [],
      "source": [
        "encoded_dataset = dataset.map(preprocess_function, batched=True)"
      ]
    },
    {
      "cell_type": "code",
      "execution_count": null,
      "metadata": {
        "colab": {
          "base_uri": "https://localhost:8080/"
        },
        "id": "gePIsbnpqLCq",
        "outputId": "91ff7a8e-4528-47bf-82ca-3f91b41debd8"
      },
      "outputs": [
        {
          "data": {
            "text/plain": [
              "DatasetDict({\n",
              "    train: Dataset({\n",
              "        features: ['sentence1', 'sentence2', 'label', 'idx', 'input_ids', 'token_type_ids', 'attention_mask'],\n",
              "        num_rows: 2490\n",
              "    })\n",
              "    validation: Dataset({\n",
              "        features: ['sentence1', 'sentence2', 'label', 'idx', 'input_ids', 'token_type_ids', 'attention_mask'],\n",
              "        num_rows: 277\n",
              "    })\n",
              "    test: Dataset({\n",
              "        features: ['sentence1', 'sentence2', 'label', 'idx', 'input_ids', 'token_type_ids', 'attention_mask'],\n",
              "        num_rows: 3000\n",
              "    })\n",
              "})"
            ]
          },
          "execution_count": 25,
          "metadata": {},
          "output_type": "execute_result"
        }
      ],
      "source": [
        "encoded_dataset"
      ]
    },
    {
      "cell_type": "code",
      "execution_count": null,
      "metadata": {
        "id": "TlqNaB8jIrJW"
      },
      "outputs": [],
      "source": [
        "from transformers import AutoModelForSequenceClassification, TrainingArguments, Trainer\n",
        "import torch\n",
        "from transformers import logging\n",
        "\n",
        "logging.set_verbosity_error() #Since we learn the meaning of warning, we can silence it.\n",
        "\n",
        "num_labels = 3 if task.startswith(\"mnli\") else 1 if task==\"stsb\" else 2\n",
        "\n",
        "model_checkpoint = \"bert-base-uncased\"\n",
        "model = AutoModelForSequenceClassification.from_pretrained(model_checkpoint, num_labels=2)\n",
        "model.dropout.p = 0.2\n"
      ]
    },
    {
      "cell_type": "code",
      "execution_count": null,
      "metadata": {
        "colab": {
          "base_uri": "https://localhost:8080/"
        },
        "id": "le6yerAGzZzM",
        "outputId": "6a2f7bde-9069-4474-8a49-6eacceab06d9"
      },
      "outputs": [
        {
          "name": "stdout",
          "output_type": "stream",
          "text": [
            "BertForSequenceClassification(\n",
            "  (bert): BertModel(\n",
            "    (embeddings): BertEmbeddings(\n",
            "      (word_embeddings): Embedding(30522, 768, padding_idx=0)\n",
            "      (position_embeddings): Embedding(512, 768)\n",
            "      (token_type_embeddings): Embedding(2, 768)\n",
            "      (LayerNorm): LayerNorm((768,), eps=1e-12, elementwise_affine=True)\n",
            "      (dropout): Dropout(p=0.1, inplace=False)\n",
            "    )\n",
            "    (encoder): BertEncoder(\n",
            "      (layer): ModuleList(\n",
            "        (0-11): 12 x BertLayer(\n",
            "          (attention): BertAttention(\n",
            "            (self): BertSdpaSelfAttention(\n",
            "              (query): Linear(in_features=768, out_features=768, bias=True)\n",
            "              (key): Linear(in_features=768, out_features=768, bias=True)\n",
            "              (value): Linear(in_features=768, out_features=768, bias=True)\n",
            "              (dropout): Dropout(p=0.1, inplace=False)\n",
            "            )\n",
            "            (output): BertSelfOutput(\n",
            "              (dense): Linear(in_features=768, out_features=768, bias=True)\n",
            "              (LayerNorm): LayerNorm((768,), eps=1e-12, elementwise_affine=True)\n",
            "              (dropout): Dropout(p=0.1, inplace=False)\n",
            "            )\n",
            "          )\n",
            "          (intermediate): BertIntermediate(\n",
            "            (dense): Linear(in_features=768, out_features=3072, bias=True)\n",
            "            (intermediate_act_fn): GELUActivation()\n",
            "          )\n",
            "          (output): BertOutput(\n",
            "            (dense): Linear(in_features=3072, out_features=768, bias=True)\n",
            "            (LayerNorm): LayerNorm((768,), eps=1e-12, elementwise_affine=True)\n",
            "            (dropout): Dropout(p=0.1, inplace=False)\n",
            "          )\n",
            "        )\n",
            "      )\n",
            "    )\n",
            "    (pooler): BertPooler(\n",
            "      (dense): Linear(in_features=768, out_features=768, bias=True)\n",
            "      (activation): Tanh()\n",
            "    )\n",
            "  )\n",
            "  (dropout): Dropout(p=0.2, inplace=False)\n",
            "  (classifier): Linear(in_features=768, out_features=2, bias=True)\n",
            ")\n"
          ]
        }
      ],
      "source": [
        "print(model)"
      ]
    },
    {
      "cell_type": "code",
      "execution_count": null,
      "metadata": {
        "colab": {
          "base_uri": "https://localhost:8080/"
        },
        "id": "Bliy8zgjIrJY",
        "outputId": "607c83f8-e663-4894-f725-e3b739771801"
      },
      "outputs": [
        {
          "name": "stderr",
          "output_type": "stream",
          "text": [
            "/usr/local/lib/python3.11/dist-packages/transformers/training_args.py:1611: FutureWarning: `evaluation_strategy` is deprecated and will be removed in version 4.46 of 🤗 Transformers. Use `eval_strategy` instead\n",
            "  warnings.warn(\n"
          ]
        }
      ],
      "source": [
        "metric_name = \"pearson\" if task == \"stsb\" else \"matthews_correlation\" if task == \"cola\" else \"accuracy\"\n",
        "model_name = model_checkpoint.split(\"/\")[-1]\n",
        "run_no=\"3\"\n",
        "args = TrainingArguments(\n",
        "    f\"{model_name}-finetuned-{task}-run_{run_no}\",\n",
        "    evaluation_strategy = \"epoch\",\n",
        "    save_strategy = \"epoch\",\n",
        "    learning_rate=2e-5,\n",
        "    per_device_train_batch_size=batch_size,\n",
        "    per_device_eval_batch_size=batch_size,\n",
        "    num_train_epochs=2,\n",
        "    weight_decay=0.01,\n",
        "    load_best_model_at_end=True,\n",
        "    metric_for_best_model=metric_name,\n",
        "    push_to_hub=True,\n",
        ")"
      ]
    },
    {
      "cell_type": "code",
      "execution_count": null,
      "metadata": {
        "id": "UmvbnJ9JIrJd"
      },
      "outputs": [],
      "source": [
        "def compute_metrics(eval_pred):\n",
        "    predictions, labels = eval_pred\n",
        "    if task != \"stsb\":\n",
        "        predictions = np.argmax(predictions, axis=1)\n",
        "    else:\n",
        "        predictions = predictions[:, 0]\n",
        "    return metric.compute(predictions=predictions, references=labels)"
      ]
    },
    {
      "cell_type": "code",
      "execution_count": null,
      "metadata": {
        "colab": {
          "base_uri": "https://localhost:8080/"
        },
        "id": "imY1oC3SIrJf",
        "outputId": "be612ca1-d11d-450f-db3c-b2636593fe43"
      },
      "outputs": [
        {
          "name": "stderr",
          "output_type": "stream",
          "text": [
            "<ipython-input-30-4d7a7b54288c>:2: FutureWarning: `tokenizer` is deprecated and will be removed in version 5.0.0 for `Trainer.__init__`. Use `processing_class` instead.\n",
            "  trainer = Trainer(\n"
          ]
        }
      ],
      "source": [
        "validation_key = \"validation_mismatched\" if task == \"mnli-mm\" else \"validation_matched\" if task == \"mnli\" else \"validation\"\n",
        "trainer = Trainer(\n",
        "    model,\n",
        "    args,\n",
        "    train_dataset=encoded_dataset[\"train\"],\n",
        "    eval_dataset=encoded_dataset[validation_key],\n",
        "    tokenizer=tokenizer,\n",
        "    compute_metrics=compute_metrics\n",
        ")"
      ]
    },
    {
      "cell_type": "code",
      "execution_count": null,
      "metadata": {
        "colab": {
          "base_uri": "https://localhost:8080/"
        },
        "id": "NQRur9HBk4Do",
        "outputId": "9ab5f37b-7237-42dd-82f3-5c8315b99580"
      },
      "outputs": [
        {
          "name": "stdout",
          "output_type": "stream",
          "text": [
            "Mon Apr  7 10:59:05 2025       \n",
            "+-----------------------------------------------------------------------------------------+\n",
            "| NVIDIA-SMI 550.54.15              Driver Version: 550.54.15      CUDA Version: 12.4     |\n",
            "|-----------------------------------------+------------------------+----------------------+\n",
            "| GPU  Name                 Persistence-M | Bus-Id          Disp.A | Volatile Uncorr. ECC |\n",
            "| Fan  Temp   Perf          Pwr:Usage/Cap |           Memory-Usage | GPU-Util  Compute M. |\n",
            "|                                         |                        |               MIG M. |\n",
            "|=========================================+========================+======================|\n",
            "|   0  NVIDIA A100-SXM4-40GB          Off |   00000000:00:04.0 Off |                    0 |\n",
            "| N/A   35C    P0             49W /  400W |     895MiB /  40960MiB |      0%      Default |\n",
            "|                                         |                        |             Disabled |\n",
            "+-----------------------------------------+------------------------+----------------------+\n",
            "                                                                                         \n",
            "+-----------------------------------------------------------------------------------------+\n",
            "| Processes:                                                                              |\n",
            "|  GPU   GI   CI        PID   Type   Process name                              GPU Memory |\n",
            "|        ID   ID                                                               Usage      |\n",
            "|=========================================================================================|\n",
            "+-----------------------------------------------------------------------------------------+\n"
          ]
        }
      ],
      "source": [
        "# Recall that we have CUDA device. Lets check the amount of memory.\n",
        "!nvidia-smi"
      ]
    },
    {
      "cell_type": "code",
      "execution_count": null,
      "metadata": {
        "colab": {
          "base_uri": "https://localhost:8080/",
          "height": 225
        },
        "id": "uNx5pyRlIrJh",
        "outputId": "68b9c9fa-a3e3-47e1-ab45-9bf912c1ffd2"
      },
      "outputs": [
        {
          "name": "stderr",
          "output_type": "stream",
          "text": [
            "\u001b[34m\u001b[1mwandb\u001b[0m: \u001b[33mWARNING\u001b[0m The `run_name` is currently set to the same value as `TrainingArguments.output_dir`. If this was not intended, please specify a different run name by setting the `TrainingArguments.run_name` parameter.\n",
            "\u001b[34m\u001b[1mwandb\u001b[0m: Using wandb-core as the SDK backend.  Please refer to https://wandb.me/wandb-core for more information.\n",
            "\u001b[34m\u001b[1mwandb\u001b[0m: Currently logged in as: \u001b[33mbilkentbitirmehavelsan\u001b[0m (\u001b[33mbilkentbitirmehavelsan-bilkent-niversitesi\u001b[0m) to \u001b[32mhttps://api.wandb.ai\u001b[0m. Use \u001b[1m`wandb login --relogin`\u001b[0m to force relogin\n"
          ]
        },
        {
          "data": {
            "text/html": [
              "Tracking run with wandb version 0.19.9"
            ],
            "text/plain": [
              "<IPython.core.display.HTML object>"
            ]
          },
          "metadata": {},
          "output_type": "display_data"
        },
        {
          "data": {
            "text/html": [
              "Run data is saved locally in <code>/content/wandb/run-20250407_105907-jerbn608</code>"
            ],
            "text/plain": [
              "<IPython.core.display.HTML object>"
            ]
          },
          "metadata": {},
          "output_type": "display_data"
        },
        {
          "data": {
            "text/html": [
              "Syncing run <strong><a href='https://wandb.ai/bilkentbitirmehavelsan-bilkent-niversitesi/huggingface/runs/jerbn608' target=\"_blank\">bert-base-uncased-finetuned-rte-run_3</a></strong> to <a href='https://wandb.ai/bilkentbitirmehavelsan-bilkent-niversitesi/huggingface' target=\"_blank\">Weights & Biases</a> (<a href='https://wandb.me/developer-guide' target=\"_blank\">docs</a>)<br>"
            ],
            "text/plain": [
              "<IPython.core.display.HTML object>"
            ]
          },
          "metadata": {},
          "output_type": "display_data"
        },
        {
          "data": {
            "text/html": [
              " View project at <a href='https://wandb.ai/bilkentbitirmehavelsan-bilkent-niversitesi/huggingface' target=\"_blank\">https://wandb.ai/bilkentbitirmehavelsan-bilkent-niversitesi/huggingface</a>"
            ],
            "text/plain": [
              "<IPython.core.display.HTML object>"
            ]
          },
          "metadata": {},
          "output_type": "display_data"
        },
        {
          "data": {
            "text/html": [
              " View run at <a href='https://wandb.ai/bilkentbitirmehavelsan-bilkent-niversitesi/huggingface/runs/jerbn608' target=\"_blank\">https://wandb.ai/bilkentbitirmehavelsan-bilkent-niversitesi/huggingface/runs/jerbn608</a>"
            ],
            "text/plain": [
              "<IPython.core.display.HTML object>"
            ]
          },
          "metadata": {},
          "output_type": "display_data"
        },
        {
          "name": "stdout",
          "output_type": "stream",
          "text": [
            "{'eval_loss': 0.6800429224967957, 'eval_accuracy': 0.6028880866425993, 'eval_runtime': 0.6639, 'eval_samples_per_second': 417.212, 'eval_steps_per_second': 7.531, 'epoch': 1.0}\n",
            "{'eval_loss': 0.6681187748908997, 'eval_accuracy': 0.6245487364620939, 'eval_runtime': 0.6556, 'eval_samples_per_second': 422.541, 'eval_steps_per_second': 7.627, 'epoch': 2.0}\n",
            "{'train_runtime': 44.6039, 'train_samples_per_second': 111.649, 'train_steps_per_second': 1.749, 'train_loss': 0.6901067097981771, 'epoch': 2.0}\n"
          ]
        },
        {
          "data": {
            "text/plain": [
              "TrainOutput(global_step=78, training_loss=0.6901067097981771, metrics={'train_runtime': 44.6039, 'train_samples_per_second': 111.649, 'train_steps_per_second': 1.749, 'train_loss': 0.6901067097981771, 'epoch': 2.0})"
            ]
          },
          "execution_count": 32,
          "metadata": {},
          "output_type": "execute_result"
        }
      ],
      "source": [
        "trainer.train()"
      ]
    },
    {
      "cell_type": "markdown",
      "metadata": {
        "id": "CKASz-2vIrJi"
      },
      "source": [
        "We can check with the `evaluate` method that our `Trainer` did reload the best model properly (if it was not the last one):"
      ]
    },
    {
      "cell_type": "code",
      "execution_count": null,
      "metadata": {
        "colab": {
          "base_uri": "https://localhost:8080/"
        },
        "id": "UOUcBkX8IrJi",
        "outputId": "6b9f6838-9a27-413b-c82c-316ccba786cc"
      },
      "outputs": [
        {
          "name": "stdout",
          "output_type": "stream",
          "text": [
            "{'eval_loss': 0.6681187748908997, 'eval_accuracy': 0.6245487364620939, 'eval_runtime': 0.6847, 'eval_samples_per_second': 404.546, 'eval_steps_per_second': 7.302, 'epoch': 2.0}\n"
          ]
        },
        {
          "data": {
            "text/plain": [
              "{'eval_loss': 0.6681187748908997,\n",
              " 'eval_accuracy': 0.6245487364620939,\n",
              " 'eval_runtime': 0.6847,\n",
              " 'eval_samples_per_second': 404.546,\n",
              " 'eval_steps_per_second': 7.302,\n",
              " 'epoch': 2.0}"
            ]
          },
          "execution_count": 33,
          "metadata": {},
          "output_type": "execute_result"
        }
      ],
      "source": [
        "trainer.evaluate()"
      ]
    },
    {
      "cell_type": "code",
      "execution_count": null,
      "metadata": {
        "id": "af1m_unzjs4X"
      },
      "outputs": [],
      "source": [
        "%%capture\n",
        "trainer.push_to_hub()"
      ]
    },
    {
      "cell_type": "code",
      "execution_count": null,
      "metadata": {
        "colab": {
          "base_uri": "https://localhost:8080/",
          "height": 830,
          "referenced_widgets": [
            "3e0c0567e5f04bebbeedf1d301e4e2d1",
            "af52f4ce568c48b88f7a5d69f5b0da55",
            "7607dff3fbec4d5492b3f0dc9d238d8f",
            "1aea8bf89ad6475e9ec72753d3911552",
            "e52a4f5206d34afe820ed3c38942b791",
            "b6d76bc74075400b9a045183e7076ed7",
            "1b77959a25254b84bb2cf136749a01b8",
            "62f75885d7d94697af817988704cc399",
            "e3f2f140ec404b9f962f95e6812f6d82",
            "83746b8cbb434def969d74099fcbccdc",
            "228e67fd93b24681aea266c67bf853fc"
          ]
        },
        "id": "ZHdN3SOhlljK",
        "outputId": "aac4446b-914a-4add-9feb-30e19086fbe9"
      },
      "outputs": [
        {
          "data": {
            "application/vnd.jupyter.widget-view+json": {
              "model_id": "3e0c0567e5f04bebbeedf1d301e4e2d1",
              "version_major": 2,
              "version_minor": 0
            },
            "text/plain": [
              "model.safetensors:   0%|          | 0.00/438M [00:00<?, ?B/s]"
            ]
          },
          "metadata": {},
          "output_type": "display_data"
        },
        {
          "name": "stdout",
          "output_type": "stream",
          "text": [
            "BertForSequenceClassification(\n",
            "  (bert): BertModel(\n",
            "    (embeddings): BertEmbeddings(\n",
            "      (word_embeddings): Embedding(30522, 768, padding_idx=0)\n",
            "      (position_embeddings): Embedding(512, 768)\n",
            "      (token_type_embeddings): Embedding(2, 768)\n",
            "      (LayerNorm): LayerNorm((768,), eps=1e-12, elementwise_affine=True)\n",
            "      (dropout): Dropout(p=0.1, inplace=False)\n",
            "    )\n",
            "    (encoder): BertEncoder(\n",
            "      (layer): ModuleList(\n",
            "        (0-11): 12 x BertLayer(\n",
            "          (attention): BertAttention(\n",
            "            (self): BertSdpaSelfAttention(\n",
            "              (query): Linear(in_features=768, out_features=768, bias=True)\n",
            "              (key): Linear(in_features=768, out_features=768, bias=True)\n",
            "              (value): Linear(in_features=768, out_features=768, bias=True)\n",
            "              (dropout): Dropout(p=0.1, inplace=False)\n",
            "            )\n",
            "            (output): BertSelfOutput(\n",
            "              (dense): Linear(in_features=768, out_features=768, bias=True)\n",
            "              (LayerNorm): LayerNorm((768,), eps=1e-12, elementwise_affine=True)\n",
            "              (dropout): Dropout(p=0.1, inplace=False)\n",
            "            )\n",
            "          )\n",
            "          (intermediate): BertIntermediate(\n",
            "            (dense): Linear(in_features=768, out_features=3072, bias=True)\n",
            "            (intermediate_act_fn): GELUActivation()\n",
            "          )\n",
            "          (output): BertOutput(\n",
            "            (dense): Linear(in_features=3072, out_features=768, bias=True)\n",
            "            (LayerNorm): LayerNorm((768,), eps=1e-12, elementwise_affine=True)\n",
            "            (dropout): Dropout(p=0.1, inplace=False)\n",
            "          )\n",
            "        )\n",
            "      )\n",
            "    )\n",
            "    (pooler): BertPooler(\n",
            "      (dense): Linear(in_features=768, out_features=768, bias=True)\n",
            "      (activation): Tanh()\n",
            "    )\n",
            "  )\n",
            "  (dropout): Dropout(p=0.1, inplace=False)\n",
            "  (classifier): Linear(in_features=768, out_features=2, bias=True)\n",
            ")\n"
          ]
        }
      ],
      "source": [
        "from transformers import AutoModelForSequenceClassification\n",
        "\n",
        "model = AutoModelForSequenceClassification.from_pretrained(\"berkayaltntas/bert-base-uncased-finetuned-rte-run_3\")\n",
        "#check your own model also\n",
        "print(model)"
      ]
    },
    {
      "cell_type": "code",
      "execution_count": null,
      "metadata": {
        "id": "YUdakNBhIrJl"
      },
      "outputs": [],
      "source": [
        "%%capture\n",
        "! pip install optuna\n",
        "# ! pip install ray[tune]"
      ]
    },
    {
      "cell_type": "code",
      "execution_count": null,
      "metadata": {
        "id": "8sgjdLKcIrJm"
      },
      "outputs": [],
      "source": [
        "def model_init():\n",
        "    return AutoModelForSequenceClassification.from_pretrained(model_checkpoint, num_labels=num_labels)\n",
        "\n"
      ]
    },
    {
      "cell_type": "code",
      "execution_count": null,
      "metadata": {
        "colab": {
          "base_uri": "https://localhost:8080/"
        },
        "id": "71pt6N0eIrJo",
        "outputId": "5ea5916a-d455-4d6f-f7c6-06f12995ec70"
      },
      "outputs": [
        {
          "name": "stderr",
          "output_type": "stream",
          "text": [
            "<ipython-input-38-900d107e0d38>:1: FutureWarning: `tokenizer` is deprecated and will be removed in version 5.0.0 for `Trainer.__init__`. Use `processing_class` instead.\n",
            "  trainer = Trainer(\n"
          ]
        }
      ],
      "source": [
        "trainer = Trainer(\n",
        "    model_init=model_init,\n",
        "    args=args,\n",
        "    train_dataset=encoded_dataset[\"train\"],\n",
        "    eval_dataset=encoded_dataset[validation_key],\n",
        "    tokenizer=tokenizer,\n",
        "    compute_metrics=compute_metrics\n",
        ")"
      ]
    },
    {
      "cell_type": "code",
      "execution_count": null,
      "metadata": {
        "id": "n365o0VbAMqD"
      },
      "outputs": [],
      "source": [
        "import optuna\n",
        "\n",
        "def my_hp_space(trial: optuna.trial.Trial):\n",
        "    return {\n",
        "        \"learning_rate\": trial.suggest_float(\"learning_rate\", 1e-6, 5e-5, log=True),\n",
        "        \"num_train_epochs\": trial.suggest_categorical(\"num_train_epochs\", [2, 3, 4]),\n",
        "        \"per_device_train_batch_size\": trial.suggest_categorical(\"per_device_train_batch_size\", [16, 32]),\n",
        "        \"max_length\": trial.suggest_categorical(\"max_length\", [128, 256, 512]),\n",
        "        \"classifier_dropout\": trial.suggest_float(\"classifier_dropout\", 0.1, 0.5),\n",
        "    }"
      ]
    },
    {
      "cell_type": "code",
      "execution_count": null,
      "metadata": {
        "colab": {
          "base_uri": "https://localhost:8080/",
          "height": 1000
        },
        "id": "NboJ7kDOIrJq",
        "outputId": "f98489cf-fd23-4aee-8e7c-282e2b96367a"
      },
      "outputs": [
        {
          "name": "stderr",
          "output_type": "stream",
          "text": [
            "[I 2025-04-07 11:01:39,881] A new study created in memory with name: no-name-fa7979f2-e3c1-4a85-bde4-8956ca4948ab\n"
          ]
        },
        {
          "data": {
            "text/html": [],
            "text/plain": [
              "<IPython.core.display.HTML object>"
            ]
          },
          "metadata": {},
          "output_type": "display_data"
        },
        {
          "data": {
            "text/html": [
              "<br>    <style><br>        .wandb-row {<br>            display: flex;<br>            flex-direction: row;<br>            flex-wrap: wrap;<br>            justify-content: flex-start;<br>            width: 100%;<br>        }<br>        .wandb-col {<br>            display: flex;<br>            flex-direction: column;<br>            flex-basis: 100%;<br>            flex: 1;<br>            padding: 10px;<br>        }<br>    </style><br><div class=\"wandb-row\"><div class=\"wandb-col\"><h3>Run history:</h3><br/><table class=\"wandb\"><tr><td>eval/accuracy</td><td>▁██</td></tr><tr><td>eval/loss</td><td>█▁▁</td></tr><tr><td>eval/runtime</td><td>▃▁█</td></tr><tr><td>eval/samples_per_second</td><td>▆█▁</td></tr><tr><td>eval/steps_per_second</td><td>▆█▁</td></tr><tr><td>train/epoch</td><td>▁███</td></tr><tr><td>train/global_step</td><td>▁███</td></tr></table><br/></div><div class=\"wandb-col\"><h3>Run summary:</h3><br/><table class=\"wandb\"><tr><td>eval/accuracy</td><td>0.62455</td></tr><tr><td>eval/loss</td><td>0.66812</td></tr><tr><td>eval/runtime</td><td>0.6847</td></tr><tr><td>eval/samples_per_second</td><td>404.546</td></tr><tr><td>eval/steps_per_second</td><td>7.302</td></tr><tr><td>total_flos</td><td>509195947661040.0</td></tr><tr><td>train/epoch</td><td>2</td></tr><tr><td>train/global_step</td><td>78</td></tr><tr><td>train_loss</td><td>0.69011</td></tr><tr><td>train_runtime</td><td>44.6039</td></tr><tr><td>train_samples_per_second</td><td>111.649</td></tr><tr><td>train_steps_per_second</td><td>1.749</td></tr></table><br/></div></div>"
            ],
            "text/plain": [
              "<IPython.core.display.HTML object>"
            ]
          },
          "metadata": {},
          "output_type": "display_data"
        },
        {
          "data": {
            "text/html": [
              " View run <strong style=\"color:#cdcd00\">bert-base-uncased-finetuned-rte-run_3</strong> at: <a href='https://wandb.ai/bilkentbitirmehavelsan-bilkent-niversitesi/huggingface/runs/jerbn608' target=\"_blank\">https://wandb.ai/bilkentbitirmehavelsan-bilkent-niversitesi/huggingface/runs/jerbn608</a><br> View project at: <a href='https://wandb.ai/bilkentbitirmehavelsan-bilkent-niversitesi/huggingface' target=\"_blank\">https://wandb.ai/bilkentbitirmehavelsan-bilkent-niversitesi/huggingface</a><br>Synced 5 W&B file(s), 0 media file(s), 0 artifact file(s) and 0 other file(s)"
            ],
            "text/plain": [
              "<IPython.core.display.HTML object>"
            ]
          },
          "metadata": {},
          "output_type": "display_data"
        },
        {
          "data": {
            "text/html": [
              "Find logs at: <code>./wandb/run-20250407_105907-jerbn608/logs</code>"
            ],
            "text/plain": [
              "<IPython.core.display.HTML object>"
            ]
          },
          "metadata": {},
          "output_type": "display_data"
        },
        {
          "data": {
            "text/html": [
              "Tracking run with wandb version 0.19.9"
            ],
            "text/plain": [
              "<IPython.core.display.HTML object>"
            ]
          },
          "metadata": {},
          "output_type": "display_data"
        },
        {
          "data": {
            "text/html": [
              "Run data is saved locally in <code>/content/wandb/run-20250407_110141-tbforqx2</code>"
            ],
            "text/plain": [
              "<IPython.core.display.HTML object>"
            ]
          },
          "metadata": {},
          "output_type": "display_data"
        },
        {
          "data": {
            "text/html": [
              "Syncing run <strong><a href='https://wandb.ai/bilkentbitirmehavelsan-bilkent-niversitesi/huggingface/runs/tbforqx2' target=\"_blank\">robust-violet-3</a></strong> to <a href='https://wandb.ai/bilkentbitirmehavelsan-bilkent-niversitesi/huggingface' target=\"_blank\">Weights & Biases</a> (<a href='https://wandb.me/developer-guide' target=\"_blank\">docs</a>)<br>"
            ],
            "text/plain": [
              "<IPython.core.display.HTML object>"
            ]
          },
          "metadata": {},
          "output_type": "display_data"
        },
        {
          "data": {
            "text/html": [
              " View project at <a href='https://wandb.ai/bilkentbitirmehavelsan-bilkent-niversitesi/huggingface' target=\"_blank\">https://wandb.ai/bilkentbitirmehavelsan-bilkent-niversitesi/huggingface</a>"
            ],
            "text/plain": [
              "<IPython.core.display.HTML object>"
            ]
          },
          "metadata": {},
          "output_type": "display_data"
        },
        {
          "data": {
            "text/html": [
              " View run at <a href='https://wandb.ai/bilkentbitirmehavelsan-bilkent-niversitesi/huggingface/runs/tbforqx2' target=\"_blank\">https://wandb.ai/bilkentbitirmehavelsan-bilkent-niversitesi/huggingface/runs/tbforqx2</a>"
            ],
            "text/plain": [
              "<IPython.core.display.HTML object>"
            ]
          },
          "metadata": {},
          "output_type": "display_data"
        },
        {
          "name": "stdout",
          "output_type": "stream",
          "text": [
            "{'eval_loss': 0.7057711482048035, 'eval_accuracy': 0.49097472924187724, 'eval_runtime': 0.6548, 'eval_samples_per_second': 423.062, 'eval_steps_per_second': 7.636, 'epoch': 1.0}\n",
            "{'eval_loss': 0.6515233516693115, 'eval_accuracy': 0.631768953068592, 'eval_runtime': 0.6593, 'eval_samples_per_second': 420.154, 'eval_steps_per_second': 7.584, 'epoch': 2.0}\n",
            "{'eval_loss': 0.6529138684272766, 'eval_accuracy': 0.6425992779783394, 'eval_runtime': 0.6631, 'eval_samples_per_second': 417.743, 'eval_steps_per_second': 7.54, 'epoch': 3.0}\n",
            "{'train_runtime': 62.7448, 'train_samples_per_second': 119.054, 'train_steps_per_second': 3.729, 'train_loss': 0.6316716120793269, 'epoch': 3.0}\n"
          ]
        },
        {
          "name": "stderr",
          "output_type": "stream",
          "text": [
            "[I 2025-04-07 11:03:05,619] Trial 0 finished with value: 0.6425992779783394 and parameters: {'learning_rate': 1.632929904930613e-05, 'num_train_epochs': 3, 'per_device_train_batch_size': 32, 'max_length': 512, 'classifier_dropout': 0.24469588923063107}. Best is trial 0 with value: 0.6425992779783394.\n"
          ]
        },
        {
          "data": {
            "text/html": [],
            "text/plain": [
              "<IPython.core.display.HTML object>"
            ]
          },
          "metadata": {},
          "output_type": "display_data"
        },
        {
          "data": {
            "text/html": [
              "<br>    <style><br>        .wandb-row {<br>            display: flex;<br>            flex-direction: row;<br>            flex-wrap: wrap;<br>            justify-content: flex-start;<br>            width: 100%;<br>        }<br>        .wandb-col {<br>            display: flex;<br>            flex-direction: column;<br>            flex-basis: 100%;<br>            flex: 1;<br>            padding: 10px;<br>        }<br>    </style><br><div class=\"wandb-row\"><div class=\"wandb-col\"><h3>Run history:</h3><br/><table class=\"wandb\"><tr><td>eval/accuracy</td><td>▁▇█</td></tr><tr><td>eval/loss</td><td>█▁▁</td></tr><tr><td>eval/runtime</td><td>▁▅█</td></tr><tr><td>eval/samples_per_second</td><td>█▄▁</td></tr><tr><td>eval/steps_per_second</td><td>█▄▁</td></tr><tr><td>train/epoch</td><td>▁▅██</td></tr><tr><td>train/global_step</td><td>▁▅██</td></tr></table><br/></div><div class=\"wandb-col\"><h3>Run summary:</h3><br/><table class=\"wandb\"><tr><td>eval/accuracy</td><td>0.6426</td></tr><tr><td>eval/loss</td><td>0.65291</td></tr><tr><td>eval/runtime</td><td>0.6631</td></tr><tr><td>eval/samples_per_second</td><td>417.743</td></tr><tr><td>eval/steps_per_second</td><td>7.54</td></tr><tr><td>total_flos</td><td>698864074138560.0</td></tr><tr><td>train/epoch</td><td>3</td></tr><tr><td>train/global_step</td><td>234</td></tr><tr><td>train_loss</td><td>0.63167</td></tr><tr><td>train_runtime</td><td>62.7448</td></tr><tr><td>train_samples_per_second</td><td>119.054</td></tr><tr><td>train_steps_per_second</td><td>3.729</td></tr></table><br/></div></div>"
            ],
            "text/plain": [
              "<IPython.core.display.HTML object>"
            ]
          },
          "metadata": {},
          "output_type": "display_data"
        },
        {
          "data": {
            "text/html": [
              " View run <strong style=\"color:#cdcd00\">robust-violet-3</strong> at: <a href='https://wandb.ai/bilkentbitirmehavelsan-bilkent-niversitesi/huggingface/runs/tbforqx2' target=\"_blank\">https://wandb.ai/bilkentbitirmehavelsan-bilkent-niversitesi/huggingface/runs/tbforqx2</a><br> View project at: <a href='https://wandb.ai/bilkentbitirmehavelsan-bilkent-niversitesi/huggingface' target=\"_blank\">https://wandb.ai/bilkentbitirmehavelsan-bilkent-niversitesi/huggingface</a><br>Synced 5 W&B file(s), 0 media file(s), 0 artifact file(s) and 0 other file(s)"
            ],
            "text/plain": [
              "<IPython.core.display.HTML object>"
            ]
          },
          "metadata": {},
          "output_type": "display_data"
        },
        {
          "data": {
            "text/html": [
              "Find logs at: <code>./wandb/run-20250407_110141-tbforqx2/logs</code>"
            ],
            "text/plain": [
              "<IPython.core.display.HTML object>"
            ]
          },
          "metadata": {},
          "output_type": "display_data"
        },
        {
          "data": {
            "text/html": [
              "Tracking run with wandb version 0.19.9"
            ],
            "text/plain": [
              "<IPython.core.display.HTML object>"
            ]
          },
          "metadata": {},
          "output_type": "display_data"
        },
        {
          "data": {
            "text/html": [
              "Run data is saved locally in <code>/content/wandb/run-20250407_110306-xmprz0cl</code>"
            ],
            "text/plain": [
              "<IPython.core.display.HTML object>"
            ]
          },
          "metadata": {},
          "output_type": "display_data"
        },
        {
          "data": {
            "text/html": [
              "Syncing run <strong><a href='https://wandb.ai/bilkentbitirmehavelsan-bilkent-niversitesi/huggingface/runs/xmprz0cl' target=\"_blank\">drawn-forest-4</a></strong> to <a href='https://wandb.ai/bilkentbitirmehavelsan-bilkent-niversitesi/huggingface' target=\"_blank\">Weights & Biases</a> (<a href='https://wandb.me/developer-guide' target=\"_blank\">docs</a>)<br>"
            ],
            "text/plain": [
              "<IPython.core.display.HTML object>"
            ]
          },
          "metadata": {},
          "output_type": "display_data"
        },
        {
          "data": {
            "text/html": [
              " View project at <a href='https://wandb.ai/bilkentbitirmehavelsan-bilkent-niversitesi/huggingface' target=\"_blank\">https://wandb.ai/bilkentbitirmehavelsan-bilkent-niversitesi/huggingface</a>"
            ],
            "text/plain": [
              "<IPython.core.display.HTML object>"
            ]
          },
          "metadata": {},
          "output_type": "display_data"
        },
        {
          "data": {
            "text/html": [
              " View run at <a href='https://wandb.ai/bilkentbitirmehavelsan-bilkent-niversitesi/huggingface/runs/xmprz0cl' target=\"_blank\">https://wandb.ai/bilkentbitirmehavelsan-bilkent-niversitesi/huggingface/runs/xmprz0cl</a>"
            ],
            "text/plain": [
              "<IPython.core.display.HTML object>"
            ]
          },
          "metadata": {},
          "output_type": "display_data"
        },
        {
          "name": "stdout",
          "output_type": "stream",
          "text": [
            "{'eval_loss': 0.711394190788269, 'eval_accuracy': 0.4729241877256318, 'eval_runtime': 0.6554, 'eval_samples_per_second': 422.65, 'eval_steps_per_second': 7.629, 'epoch': 1.0}\n",
            "{'eval_loss': 0.707085371017456, 'eval_accuracy': 0.4693140794223827, 'eval_runtime': 0.6566, 'eval_samples_per_second': 421.873, 'eval_steps_per_second': 7.615, 'epoch': 2.0}\n",
            "{'train_runtime': 41.949, 'train_samples_per_second': 118.716, 'train_steps_per_second': 3.719, 'train_loss': 0.7153555063100961, 'epoch': 2.0}\n"
          ]
        },
        {
          "name": "stderr",
          "output_type": "stream",
          "text": [
            "[I 2025-04-07 11:04:58,657] Trial 1 finished with value: 0.4693140794223827 and parameters: {'learning_rate': 2.045155212850136e-06, 'num_train_epochs': 2, 'per_device_train_batch_size': 32, 'max_length': 128, 'classifier_dropout': 0.38923833300681054}. Best is trial 0 with value: 0.6425992779783394.\n"
          ]
        },
        {
          "data": {
            "text/html": [],
            "text/plain": [
              "<IPython.core.display.HTML object>"
            ]
          },
          "metadata": {},
          "output_type": "display_data"
        },
        {
          "data": {
            "text/html": [
              "<br>    <style><br>        .wandb-row {<br>            display: flex;<br>            flex-direction: row;<br>            flex-wrap: wrap;<br>            justify-content: flex-start;<br>            width: 100%;<br>        }<br>        .wandb-col {<br>            display: flex;<br>            flex-direction: column;<br>            flex-basis: 100%;<br>            flex: 1;<br>            padding: 10px;<br>        }<br>    </style><br><div class=\"wandb-row\"><div class=\"wandb-col\"><h3>Run history:</h3><br/><table class=\"wandb\"><tr><td>eval/accuracy</td><td>█▁</td></tr><tr><td>eval/loss</td><td>█▁</td></tr><tr><td>eval/runtime</td><td>▁█</td></tr><tr><td>eval/samples_per_second</td><td>█▁</td></tr><tr><td>eval/steps_per_second</td><td>█▁</td></tr><tr><td>train/epoch</td><td>▁██</td></tr><tr><td>train/global_step</td><td>▁██</td></tr></table><br/></div><div class=\"wandb-col\"><h3>Run summary:</h3><br/><table class=\"wandb\"><tr><td>eval/accuracy</td><td>0.46931</td></tr><tr><td>eval/loss</td><td>0.70709</td></tr><tr><td>eval/runtime</td><td>0.6566</td></tr><tr><td>eval/samples_per_second</td><td>421.873</td></tr><tr><td>eval/steps_per_second</td><td>7.615</td></tr><tr><td>total_flos</td><td>466407512283120.0</td></tr><tr><td>train/epoch</td><td>2</td></tr><tr><td>train/global_step</td><td>156</td></tr><tr><td>train_loss</td><td>0.71536</td></tr><tr><td>train_runtime</td><td>41.949</td></tr><tr><td>train_samples_per_second</td><td>118.716</td></tr><tr><td>train_steps_per_second</td><td>3.719</td></tr></table><br/></div></div>"
            ],
            "text/plain": [
              "<IPython.core.display.HTML object>"
            ]
          },
          "metadata": {},
          "output_type": "display_data"
        },
        {
          "data": {
            "text/html": [
              " View run <strong style=\"color:#cdcd00\">drawn-forest-4</strong> at: <a href='https://wandb.ai/bilkentbitirmehavelsan-bilkent-niversitesi/huggingface/runs/xmprz0cl' target=\"_blank\">https://wandb.ai/bilkentbitirmehavelsan-bilkent-niversitesi/huggingface/runs/xmprz0cl</a><br> View project at: <a href='https://wandb.ai/bilkentbitirmehavelsan-bilkent-niversitesi/huggingface' target=\"_blank\">https://wandb.ai/bilkentbitirmehavelsan-bilkent-niversitesi/huggingface</a><br>Synced 5 W&B file(s), 0 media file(s), 0 artifact file(s) and 0 other file(s)"
            ],
            "text/plain": [
              "<IPython.core.display.HTML object>"
            ]
          },
          "metadata": {},
          "output_type": "display_data"
        },
        {
          "data": {
            "text/html": [
              "Find logs at: <code>./wandb/run-20250407_110306-xmprz0cl/logs</code>"
            ],
            "text/plain": [
              "<IPython.core.display.HTML object>"
            ]
          },
          "metadata": {},
          "output_type": "display_data"
        },
        {
          "data": {
            "text/html": [
              "Tracking run with wandb version 0.19.9"
            ],
            "text/plain": [
              "<IPython.core.display.HTML object>"
            ]
          },
          "metadata": {},
          "output_type": "display_data"
        },
        {
          "data": {
            "text/html": [
              "Run data is saved locally in <code>/content/wandb/run-20250407_110459-tz07a97i</code>"
            ],
            "text/plain": [
              "<IPython.core.display.HTML object>"
            ]
          },
          "metadata": {},
          "output_type": "display_data"
        },
        {
          "data": {
            "text/html": [
              "Syncing run <strong><a href='https://wandb.ai/bilkentbitirmehavelsan-bilkent-niversitesi/huggingface/runs/tz07a97i' target=\"_blank\">elated-thunder-5</a></strong> to <a href='https://wandb.ai/bilkentbitirmehavelsan-bilkent-niversitesi/huggingface' target=\"_blank\">Weights & Biases</a> (<a href='https://wandb.me/developer-guide' target=\"_blank\">docs</a>)<br>"
            ],
            "text/plain": [
              "<IPython.core.display.HTML object>"
            ]
          },
          "metadata": {},
          "output_type": "display_data"
        },
        {
          "data": {
            "text/html": [
              " View project at <a href='https://wandb.ai/bilkentbitirmehavelsan-bilkent-niversitesi/huggingface' target=\"_blank\">https://wandb.ai/bilkentbitirmehavelsan-bilkent-niversitesi/huggingface</a>"
            ],
            "text/plain": [
              "<IPython.core.display.HTML object>"
            ]
          },
          "metadata": {},
          "output_type": "display_data"
        },
        {
          "data": {
            "text/html": [
              " View run at <a href='https://wandb.ai/bilkentbitirmehavelsan-bilkent-niversitesi/huggingface/runs/tz07a97i' target=\"_blank\">https://wandb.ai/bilkentbitirmehavelsan-bilkent-niversitesi/huggingface/runs/tz07a97i</a>"
            ],
            "text/plain": [
              "<IPython.core.display.HTML object>"
            ]
          },
          "metadata": {},
          "output_type": "display_data"
        },
        {
          "name": "stdout",
          "output_type": "stream",
          "text": [
            "{'eval_loss': 0.7075046300888062, 'eval_accuracy': 0.4693140794223827, 'eval_runtime': 0.6565, 'eval_samples_per_second': 421.929, 'eval_steps_per_second': 7.616, 'epoch': 1.0}\n",
            "{'eval_loss': 0.6988747119903564, 'eval_accuracy': 0.4693140794223827, 'eval_runtime': 0.6576, 'eval_samples_per_second': 421.253, 'eval_steps_per_second': 7.604, 'epoch': 2.0}\n",
            "{'eval_loss': 0.6960964798927307, 'eval_accuracy': 0.47653429602888087, 'eval_runtime': 0.6557, 'eval_samples_per_second': 422.437, 'eval_steps_per_second': 7.625, 'epoch': 3.0}\n",
            "{'loss': 0.7074, 'grad_norm': 3.278303623199463, 'learning_rate': 3.0609304973388343e-07, 'epoch': 3.2051282051282053}\n",
            "{'eval_loss': 0.6943700909614563, 'eval_accuracy': 0.47653429602888087, 'eval_runtime': 0.6704, 'eval_samples_per_second': 413.177, 'eval_steps_per_second': 7.458, 'epoch': 4.0}\n",
            "{'train_runtime': 81.1163, 'train_samples_per_second': 122.787, 'train_steps_per_second': 7.693, 'train_loss': 0.7055250803629557, 'epoch': 4.0}\n"
          ]
        },
        {
          "name": "stderr",
          "output_type": "stream",
          "text": [
            "[I 2025-04-07 11:06:34,268] Trial 2 finished with value: 0.47653429602888087 and parameters: {'learning_rate': 1.5403392180156714e-06, 'num_train_epochs': 4, 'per_device_train_batch_size': 16, 'max_length': 128, 'classifier_dropout': 0.43374638384590114}. Best is trial 0 with value: 0.6425992779783394.\n"
          ]
        },
        {
          "data": {
            "text/html": [],
            "text/plain": [
              "<IPython.core.display.HTML object>"
            ]
          },
          "metadata": {},
          "output_type": "display_data"
        },
        {
          "data": {
            "text/html": [
              "<br>    <style><br>        .wandb-row {<br>            display: flex;<br>            flex-direction: row;<br>            flex-wrap: wrap;<br>            justify-content: flex-start;<br>            width: 100%;<br>        }<br>        .wandb-col {<br>            display: flex;<br>            flex-direction: column;<br>            flex-basis: 100%;<br>            flex: 1;<br>            padding: 10px;<br>        }<br>    </style><br><div class=\"wandb-row\"><div class=\"wandb-col\"><h3>Run history:</h3><br/><table class=\"wandb\"><tr><td>eval/accuracy</td><td>▁▁██</td></tr><tr><td>eval/loss</td><td>█▃▂▁</td></tr><tr><td>eval/runtime</td><td>▁▂▁█</td></tr><tr><td>eval/samples_per_second</td><td>█▇█▁</td></tr><tr><td>eval/steps_per_second</td><td>█▇█▁</td></tr><tr><td>train/epoch</td><td>▁▃▆▆██</td></tr><tr><td>train/global_step</td><td>▁▃▆▆██</td></tr><tr><td>train/grad_norm</td><td>▁</td></tr><tr><td>train/learning_rate</td><td>▁</td></tr><tr><td>train/loss</td><td>▁</td></tr></table><br/></div><div class=\"wandb-col\"><h3>Run summary:</h3><br/><table class=\"wandb\"><tr><td>eval/accuracy</td><td>0.47653</td></tr><tr><td>eval/loss</td><td>0.69437</td></tr><tr><td>eval/runtime</td><td>0.6704</td></tr><tr><td>eval/samples_per_second</td><td>413.177</td></tr><tr><td>eval/steps_per_second</td><td>7.458</td></tr><tr><td>total_flos</td><td>835571850726840.0</td></tr><tr><td>train/epoch</td><td>4</td></tr><tr><td>train/global_step</td><td>624</td></tr><tr><td>train/grad_norm</td><td>3.2783</td></tr><tr><td>train/learning_rate</td><td>0.0</td></tr><tr><td>train/loss</td><td>0.7074</td></tr><tr><td>train_loss</td><td>0.70553</td></tr><tr><td>train_runtime</td><td>81.1163</td></tr><tr><td>train_samples_per_second</td><td>122.787</td></tr><tr><td>train_steps_per_second</td><td>7.693</td></tr></table><br/></div></div>"
            ],
            "text/plain": [
              "<IPython.core.display.HTML object>"
            ]
          },
          "metadata": {},
          "output_type": "display_data"
        },
        {
          "data": {
            "text/html": [
              " View run <strong style=\"color:#cdcd00\">elated-thunder-5</strong> at: <a href='https://wandb.ai/bilkentbitirmehavelsan-bilkent-niversitesi/huggingface/runs/tz07a97i' target=\"_blank\">https://wandb.ai/bilkentbitirmehavelsan-bilkent-niversitesi/huggingface/runs/tz07a97i</a><br> View project at: <a href='https://wandb.ai/bilkentbitirmehavelsan-bilkent-niversitesi/huggingface' target=\"_blank\">https://wandb.ai/bilkentbitirmehavelsan-bilkent-niversitesi/huggingface</a><br>Synced 5 W&B file(s), 0 media file(s), 0 artifact file(s) and 0 other file(s)"
            ],
            "text/plain": [
              "<IPython.core.display.HTML object>"
            ]
          },
          "metadata": {},
          "output_type": "display_data"
        },
        {
          "data": {
            "text/html": [
              "Find logs at: <code>./wandb/run-20250407_110459-tz07a97i/logs</code>"
            ],
            "text/plain": [
              "<IPython.core.display.HTML object>"
            ]
          },
          "metadata": {},
          "output_type": "display_data"
        },
        {
          "data": {
            "text/html": [
              "Tracking run with wandb version 0.19.9"
            ],
            "text/plain": [
              "<IPython.core.display.HTML object>"
            ]
          },
          "metadata": {},
          "output_type": "display_data"
        },
        {
          "data": {
            "text/html": [
              "Run data is saved locally in <code>/content/wandb/run-20250407_110635-l5afjrg3</code>"
            ],
            "text/plain": [
              "<IPython.core.display.HTML object>"
            ]
          },
          "metadata": {},
          "output_type": "display_data"
        },
        {
          "data": {
            "text/html": [
              "Syncing run <strong><a href='https://wandb.ai/bilkentbitirmehavelsan-bilkent-niversitesi/huggingface/runs/l5afjrg3' target=\"_blank\">woven-tree-6</a></strong> to <a href='https://wandb.ai/bilkentbitirmehavelsan-bilkent-niversitesi/huggingface' target=\"_blank\">Weights & Biases</a> (<a href='https://wandb.me/developer-guide' target=\"_blank\">docs</a>)<br>"
            ],
            "text/plain": [
              "<IPython.core.display.HTML object>"
            ]
          },
          "metadata": {},
          "output_type": "display_data"
        },
        {
          "data": {
            "text/html": [
              " View project at <a href='https://wandb.ai/bilkentbitirmehavelsan-bilkent-niversitesi/huggingface' target=\"_blank\">https://wandb.ai/bilkentbitirmehavelsan-bilkent-niversitesi/huggingface</a>"
            ],
            "text/plain": [
              "<IPython.core.display.HTML object>"
            ]
          },
          "metadata": {},
          "output_type": "display_data"
        },
        {
          "data": {
            "text/html": [
              " View run at <a href='https://wandb.ai/bilkentbitirmehavelsan-bilkent-niversitesi/huggingface/runs/l5afjrg3' target=\"_blank\">https://wandb.ai/bilkentbitirmehavelsan-bilkent-niversitesi/huggingface/runs/l5afjrg3</a>"
            ],
            "text/plain": [
              "<IPython.core.display.HTML object>"
            ]
          },
          "metadata": {},
          "output_type": "display_data"
        },
        {
          "name": "stdout",
          "output_type": "stream",
          "text": [
            "{'eval_loss': 0.7133588194847107, 'eval_accuracy': 0.4729241877256318, 'eval_runtime': 0.6543, 'eval_samples_per_second': 423.378, 'eval_steps_per_second': 7.642, 'epoch': 1.0}\n",
            "{'eval_loss': 0.7054754495620728, 'eval_accuracy': 0.4693140794223827, 'eval_runtime': 0.6546, 'eval_samples_per_second': 423.189, 'eval_steps_per_second': 7.639, 'epoch': 2.0}\n",
            "{'eval_loss': 0.7026856541633606, 'eval_accuracy': 0.4693140794223827, 'eval_runtime': 0.6577, 'eval_samples_per_second': 421.177, 'eval_steps_per_second': 7.602, 'epoch': 3.0}\n",
            "{'loss': 0.7115, 'grad_norm': 3.950421094894409, 'learning_rate': 2.0182888672249595e-07, 'epoch': 3.2051282051282053}\n",
            "{'eval_loss': 0.7013534307479858, 'eval_accuracy': 0.4693140794223827, 'eval_runtime': 0.6669, 'eval_samples_per_second': 415.345, 'eval_steps_per_second': 7.497, 'epoch': 4.0}\n",
            "{'train_runtime': 80.6588, 'train_samples_per_second': 123.483, 'train_steps_per_second': 7.736, 'train_loss': 0.709812628917205, 'epoch': 4.0}\n"
          ]
        },
        {
          "name": "stderr",
          "output_type": "stream",
          "text": [
            "[I 2025-04-07 11:08:53,610] Trial 3 finished with value: 0.4693140794223827 and parameters: {'learning_rate': 1.0156550428615926e-06, 'num_train_epochs': 4, 'per_device_train_batch_size': 16, 'max_length': 128, 'classifier_dropout': 0.12105067319922341}. Best is trial 0 with value: 0.6425992779783394.\n"
          ]
        },
        {
          "data": {
            "text/html": [],
            "text/plain": [
              "<IPython.core.display.HTML object>"
            ]
          },
          "metadata": {},
          "output_type": "display_data"
        },
        {
          "data": {
            "text/html": [
              "<br>    <style><br>        .wandb-row {<br>            display: flex;<br>            flex-direction: row;<br>            flex-wrap: wrap;<br>            justify-content: flex-start;<br>            width: 100%;<br>        }<br>        .wandb-col {<br>            display: flex;<br>            flex-direction: column;<br>            flex-basis: 100%;<br>            flex: 1;<br>            padding: 10px;<br>        }<br>    </style><br><div class=\"wandb-row\"><div class=\"wandb-col\"><h3>Run history:</h3><br/><table class=\"wandb\"><tr><td>eval/accuracy</td><td>█▁▁▁</td></tr><tr><td>eval/loss</td><td>█▃▂▁</td></tr><tr><td>eval/runtime</td><td>▁▁▃█</td></tr><tr><td>eval/samples_per_second</td><td>██▆▁</td></tr><tr><td>eval/steps_per_second</td><td>██▆▁</td></tr><tr><td>train/epoch</td><td>▁▃▆▆██</td></tr><tr><td>train/global_step</td><td>▁▃▆▆██</td></tr><tr><td>train/grad_norm</td><td>▁</td></tr><tr><td>train/learning_rate</td><td>▁</td></tr><tr><td>train/loss</td><td>▁</td></tr></table><br/></div><div class=\"wandb-col\"><h3>Run summary:</h3><br/><table class=\"wandb\"><tr><td>eval/accuracy</td><td>0.46931</td></tr><tr><td>eval/loss</td><td>0.70135</td></tr><tr><td>eval/runtime</td><td>0.6669</td></tr><tr><td>eval/samples_per_second</td><td>415.345</td></tr><tr><td>eval/steps_per_second</td><td>7.497</td></tr><tr><td>total_flos</td><td>835571850726840.0</td></tr><tr><td>train/epoch</td><td>4</td></tr><tr><td>train/global_step</td><td>624</td></tr><tr><td>train/grad_norm</td><td>3.95042</td></tr><tr><td>train/learning_rate</td><td>0.0</td></tr><tr><td>train/loss</td><td>0.7115</td></tr><tr><td>train_loss</td><td>0.70981</td></tr><tr><td>train_runtime</td><td>80.6588</td></tr><tr><td>train_samples_per_second</td><td>123.483</td></tr><tr><td>train_steps_per_second</td><td>7.736</td></tr></table><br/></div></div>"
            ],
            "text/plain": [
              "<IPython.core.display.HTML object>"
            ]
          },
          "metadata": {},
          "output_type": "display_data"
        },
        {
          "data": {
            "text/html": [
              " View run <strong style=\"color:#cdcd00\">woven-tree-6</strong> at: <a href='https://wandb.ai/bilkentbitirmehavelsan-bilkent-niversitesi/huggingface/runs/l5afjrg3' target=\"_blank\">https://wandb.ai/bilkentbitirmehavelsan-bilkent-niversitesi/huggingface/runs/l5afjrg3</a><br> View project at: <a href='https://wandb.ai/bilkentbitirmehavelsan-bilkent-niversitesi/huggingface' target=\"_blank\">https://wandb.ai/bilkentbitirmehavelsan-bilkent-niversitesi/huggingface</a><br>Synced 5 W&B file(s), 0 media file(s), 0 artifact file(s) and 0 other file(s)"
            ],
            "text/plain": [
              "<IPython.core.display.HTML object>"
            ]
          },
          "metadata": {},
          "output_type": "display_data"
        },
        {
          "data": {
            "text/html": [
              "Find logs at: <code>./wandb/run-20250407_110635-l5afjrg3/logs</code>"
            ],
            "text/plain": [
              "<IPython.core.display.HTML object>"
            ]
          },
          "metadata": {},
          "output_type": "display_data"
        },
        {
          "data": {
            "text/html": [
              "Tracking run with wandb version 0.19.9"
            ],
            "text/plain": [
              "<IPython.core.display.HTML object>"
            ]
          },
          "metadata": {},
          "output_type": "display_data"
        },
        {
          "data": {
            "text/html": [
              "Run data is saved locally in <code>/content/wandb/run-20250407_110855-ugsvotsl</code>"
            ],
            "text/plain": [
              "<IPython.core.display.HTML object>"
            ]
          },
          "metadata": {},
          "output_type": "display_data"
        },
        {
          "data": {
            "text/html": [
              "Syncing run <strong><a href='https://wandb.ai/bilkentbitirmehavelsan-bilkent-niversitesi/huggingface/runs/ugsvotsl' target=\"_blank\">zesty-breeze-7</a></strong> to <a href='https://wandb.ai/bilkentbitirmehavelsan-bilkent-niversitesi/huggingface' target=\"_blank\">Weights & Biases</a> (<a href='https://wandb.me/developer-guide' target=\"_blank\">docs</a>)<br>"
            ],
            "text/plain": [
              "<IPython.core.display.HTML object>"
            ]
          },
          "metadata": {},
          "output_type": "display_data"
        },
        {
          "data": {
            "text/html": [
              " View project at <a href='https://wandb.ai/bilkentbitirmehavelsan-bilkent-niversitesi/huggingface' target=\"_blank\">https://wandb.ai/bilkentbitirmehavelsan-bilkent-niversitesi/huggingface</a>"
            ],
            "text/plain": [
              "<IPython.core.display.HTML object>"
            ]
          },
          "metadata": {},
          "output_type": "display_data"
        },
        {
          "data": {
            "text/html": [
              " View run at <a href='https://wandb.ai/bilkentbitirmehavelsan-bilkent-niversitesi/huggingface/runs/ugsvotsl' target=\"_blank\">https://wandb.ai/bilkentbitirmehavelsan-bilkent-niversitesi/huggingface/runs/ugsvotsl</a>"
            ],
            "text/plain": [
              "<IPython.core.display.HTML object>"
            ]
          },
          "metadata": {},
          "output_type": "display_data"
        },
        {
          "name": "stdout",
          "output_type": "stream",
          "text": [
            "{'eval_loss': 0.6337697505950928, 'eval_accuracy': 0.6173285198555957, 'eval_runtime': 0.6567, 'eval_samples_per_second': 421.833, 'eval_steps_per_second': 7.614, 'epoch': 1.0}\n"
          ]
        },
        {
          "name": "stderr",
          "output_type": "stream",
          "text": [
            "It seems you are trying to upload a large folder at once. This might take some time and then fail if the folder is too large. For such cases, it is recommended to upload in smaller batches or to use `HfApi().upload_large_folder(...)`/`huggingface-cli upload-large-folder` instead. For more details, check out https://huggingface.co/docs/huggingface_hub/main/en/guides/upload#upload-a-large-folder.\n",
            "WARNING:huggingface_hub.hf_api:It seems you are trying to upload a large folder at once. This might take some time and then fail if the folder is too large. For such cases, it is recommended to upload in smaller batches or to use `HfApi().upload_large_folder(...)`/`huggingface-cli upload-large-folder` instead. For more details, check out https://huggingface.co/docs/huggingface_hub/main/en/guides/upload#upload-a-large-folder.\n"
          ]
        },
        {
          "name": "stdout",
          "output_type": "stream",
          "text": [
            "{'eval_loss': 0.6482953429222107, 'eval_accuracy': 0.6714801444043321, 'eval_runtime': 0.6552, 'eval_samples_per_second': 422.743, 'eval_steps_per_second': 7.631, 'epoch': 2.0}\n",
            "{'eval_loss': 0.8421153426170349, 'eval_accuracy': 0.6714801444043321, 'eval_runtime': 0.6576, 'eval_samples_per_second': 421.201, 'eval_steps_per_second': 7.603, 'epoch': 3.0}\n",
            "{'loss': 0.4762, 'grad_norm': 16.375808715820312, 'learning_rate': 7.4903341095600405e-06, 'epoch': 3.2051282051282053}\n",
            "{'eval_loss': 1.0134923458099365, 'eval_accuracy': 0.6823104693140795, 'eval_runtime': 0.6576, 'eval_samples_per_second': 421.252, 'eval_steps_per_second': 7.604, 'epoch': 4.0}\n",
            "{'train_runtime': 79.8031, 'train_samples_per_second': 124.807, 'train_steps_per_second': 7.819, 'train_loss': 0.4119668068029942, 'epoch': 4.0}\n"
          ]
        },
        {
          "name": "stderr",
          "output_type": "stream",
          "text": [
            "[I 2025-04-07 11:11:26,707] Trial 4 finished with value: 0.6823104693140795 and parameters: {'learning_rate': 3.7693294228753754e-05, 'num_train_epochs': 4, 'per_device_train_batch_size': 16, 'max_length': 512, 'classifier_dropout': 0.10166181013063974}. Best is trial 4 with value: 0.6823104693140795.\n"
          ]
        },
        {
          "data": {
            "text/html": [],
            "text/plain": [
              "<IPython.core.display.HTML object>"
            ]
          },
          "metadata": {},
          "output_type": "display_data"
        },
        {
          "data": {
            "text/html": [
              "<br>    <style><br>        .wandb-row {<br>            display: flex;<br>            flex-direction: row;<br>            flex-wrap: wrap;<br>            justify-content: flex-start;<br>            width: 100%;<br>        }<br>        .wandb-col {<br>            display: flex;<br>            flex-direction: column;<br>            flex-basis: 100%;<br>            flex: 1;<br>            padding: 10px;<br>        }<br>    </style><br><div class=\"wandb-row\"><div class=\"wandb-col\"><h3>Run history:</h3><br/><table class=\"wandb\"><tr><td>eval/accuracy</td><td>▁▇▇█</td></tr><tr><td>eval/loss</td><td>▁▁▅█</td></tr><tr><td>eval/runtime</td><td>▅▁██</td></tr><tr><td>eval/samples_per_second</td><td>▄█▁▁</td></tr><tr><td>eval/steps_per_second</td><td>▄█▁▁</td></tr><tr><td>train/epoch</td><td>▁▃▆▆██</td></tr><tr><td>train/global_step</td><td>▁▃▆▆██</td></tr><tr><td>train/grad_norm</td><td>▁</td></tr><tr><td>train/learning_rate</td><td>▁</td></tr><tr><td>train/loss</td><td>▁</td></tr></table><br/></div><div class=\"wandb-col\"><h3>Run summary:</h3><br/><table class=\"wandb\"><tr><td>eval/accuracy</td><td>0.68231</td></tr><tr><td>eval/loss</td><td>1.01349</td></tr><tr><td>eval/runtime</td><td>0.6576</td></tr><tr><td>eval/samples_per_second</td><td>421.252</td></tr><tr><td>eval/steps_per_second</td><td>7.604</td></tr><tr><td>total_flos</td><td>835571850726840.0</td></tr><tr><td>train/epoch</td><td>4</td></tr><tr><td>train/global_step</td><td>624</td></tr><tr><td>train/grad_norm</td><td>16.37581</td></tr><tr><td>train/learning_rate</td><td>1e-05</td></tr><tr><td>train/loss</td><td>0.4762</td></tr><tr><td>train_loss</td><td>0.41197</td></tr><tr><td>train_runtime</td><td>79.8031</td></tr><tr><td>train_samples_per_second</td><td>124.807</td></tr><tr><td>train_steps_per_second</td><td>7.819</td></tr></table><br/></div></div>"
            ],
            "text/plain": [
              "<IPython.core.display.HTML object>"
            ]
          },
          "metadata": {},
          "output_type": "display_data"
        },
        {
          "data": {
            "text/html": [
              " View run <strong style=\"color:#cdcd00\">zesty-breeze-7</strong> at: <a href='https://wandb.ai/bilkentbitirmehavelsan-bilkent-niversitesi/huggingface/runs/ugsvotsl' target=\"_blank\">https://wandb.ai/bilkentbitirmehavelsan-bilkent-niversitesi/huggingface/runs/ugsvotsl</a><br> View project at: <a href='https://wandb.ai/bilkentbitirmehavelsan-bilkent-niversitesi/huggingface' target=\"_blank\">https://wandb.ai/bilkentbitirmehavelsan-bilkent-niversitesi/huggingface</a><br>Synced 5 W&B file(s), 0 media file(s), 0 artifact file(s) and 0 other file(s)"
            ],
            "text/plain": [
              "<IPython.core.display.HTML object>"
            ]
          },
          "metadata": {},
          "output_type": "display_data"
        },
        {
          "data": {
            "text/html": [
              "Find logs at: <code>./wandb/run-20250407_110855-ugsvotsl/logs</code>"
            ],
            "text/plain": [
              "<IPython.core.display.HTML object>"
            ]
          },
          "metadata": {},
          "output_type": "display_data"
        },
        {
          "data": {
            "text/html": [
              "Tracking run with wandb version 0.19.9"
            ],
            "text/plain": [
              "<IPython.core.display.HTML object>"
            ]
          },
          "metadata": {},
          "output_type": "display_data"
        },
        {
          "data": {
            "text/html": [
              "Run data is saved locally in <code>/content/wandb/run-20250407_111128-a66r6xad</code>"
            ],
            "text/plain": [
              "<IPython.core.display.HTML object>"
            ]
          },
          "metadata": {},
          "output_type": "display_data"
        },
        {
          "data": {
            "text/html": [
              "Syncing run <strong><a href='https://wandb.ai/bilkentbitirmehavelsan-bilkent-niversitesi/huggingface/runs/a66r6xad' target=\"_blank\">ruby-sound-8</a></strong> to <a href='https://wandb.ai/bilkentbitirmehavelsan-bilkent-niversitesi/huggingface' target=\"_blank\">Weights & Biases</a> (<a href='https://wandb.me/developer-guide' target=\"_blank\">docs</a>)<br>"
            ],
            "text/plain": [
              "<IPython.core.display.HTML object>"
            ]
          },
          "metadata": {},
          "output_type": "display_data"
        },
        {
          "data": {
            "text/html": [
              " View project at <a href='https://wandb.ai/bilkentbitirmehavelsan-bilkent-niversitesi/huggingface' target=\"_blank\">https://wandb.ai/bilkentbitirmehavelsan-bilkent-niversitesi/huggingface</a>"
            ],
            "text/plain": [
              "<IPython.core.display.HTML object>"
            ]
          },
          "metadata": {},
          "output_type": "display_data"
        },
        {
          "data": {
            "text/html": [
              " View run at <a href='https://wandb.ai/bilkentbitirmehavelsan-bilkent-niversitesi/huggingface/runs/a66r6xad' target=\"_blank\">https://wandb.ai/bilkentbitirmehavelsan-bilkent-niversitesi/huggingface/runs/a66r6xad</a>"
            ],
            "text/plain": [
              "<IPython.core.display.HTML object>"
            ]
          },
          "metadata": {},
          "output_type": "display_data"
        },
        {
          "name": "stdout",
          "output_type": "stream",
          "text": [
            "{'eval_loss': 0.7094579935073853, 'eval_accuracy': 0.4729241877256318, 'eval_runtime': 0.6559, 'eval_samples_per_second': 422.293, 'eval_steps_per_second': 7.623, 'epoch': 1.0}\n"
          ]
        },
        {
          "name": "stderr",
          "output_type": "stream",
          "text": [
            "It seems you are trying to upload a large folder at once. This might take some time and then fail if the folder is too large. For such cases, it is recommended to upload in smaller batches or to use `HfApi().upload_large_folder(...)`/`huggingface-cli upload-large-folder` instead. For more details, check out https://huggingface.co/docs/huggingface_hub/main/en/guides/upload#upload-a-large-folder.\n",
            "WARNING:huggingface_hub.hf_api:It seems you are trying to upload a large folder at once. This might take some time and then fail if the folder is too large. For such cases, it is recommended to upload in smaller batches or to use `HfApi().upload_large_folder(...)`/`huggingface-cli upload-large-folder` instead. For more details, check out https://huggingface.co/docs/huggingface_hub/main/en/guides/upload#upload-a-large-folder.\n"
          ]
        },
        {
          "name": "stdout",
          "output_type": "stream",
          "text": [
            "{'eval_loss': 0.7010825276374817, 'eval_accuracy': 0.4693140794223827, 'eval_runtime': 0.6542, 'eval_samples_per_second': 423.45, 'eval_steps_per_second': 7.643, 'epoch': 2.0}\n"
          ]
        },
        {
          "name": "stderr",
          "output_type": "stream",
          "text": [
            "[I 2025-04-07 11:12:26,685] Trial 5 pruned. \n"
          ]
        },
        {
          "name": "stdout",
          "output_type": "stream",
          "text": [
            "{'eval_loss': 0.6984142065048218, 'eval_accuracy': 0.4693140794223827, 'eval_runtime': 0.6565, 'eval_samples_per_second': 421.944, 'eval_steps_per_second': 7.616, 'epoch': 3.0}\n"
          ]
        },
        {
          "data": {
            "text/html": [],
            "text/plain": [
              "<IPython.core.display.HTML object>"
            ]
          },
          "metadata": {},
          "output_type": "display_data"
        },
        {
          "data": {
            "text/html": [
              "<br>    <style><br>        .wandb-row {<br>            display: flex;<br>            flex-direction: row;<br>            flex-wrap: wrap;<br>            justify-content: flex-start;<br>            width: 100%;<br>        }<br>        .wandb-col {<br>            display: flex;<br>            flex-direction: column;<br>            flex-basis: 100%;<br>            flex: 1;<br>            padding: 10px;<br>        }<br>    </style><br><div class=\"wandb-row\"><div class=\"wandb-col\"><h3>Run history:</h3><br/><table class=\"wandb\"><tr><td>eval/accuracy</td><td>█▁▁</td></tr><tr><td>eval/loss</td><td>█▃▁</td></tr><tr><td>eval/runtime</td><td>▆▁█</td></tr><tr><td>eval/samples_per_second</td><td>▃█▁</td></tr><tr><td>eval/steps_per_second</td><td>▃█▁</td></tr><tr><td>train/epoch</td><td>▁▅█</td></tr><tr><td>train/global_step</td><td>▁▅█</td></tr></table><br/></div><div class=\"wandb-col\"><h3>Run summary:</h3><br/><table class=\"wandb\"><tr><td>eval/accuracy</td><td>0.46931</td></tr><tr><td>eval/loss</td><td>0.69841</td></tr><tr><td>eval/runtime</td><td>0.6565</td></tr><tr><td>eval/samples_per_second</td><td>421.944</td></tr><tr><td>eval/steps_per_second</td><td>7.616</td></tr><tr><td>train/epoch</td><td>3</td></tr><tr><td>train/global_step</td><td>468</td></tr></table><br/></div></div>"
            ],
            "text/plain": [
              "<IPython.core.display.HTML object>"
            ]
          },
          "metadata": {},
          "output_type": "display_data"
        },
        {
          "data": {
            "text/html": [
              " View run <strong style=\"color:#cdcd00\">ruby-sound-8</strong> at: <a href='https://wandb.ai/bilkentbitirmehavelsan-bilkent-niversitesi/huggingface/runs/a66r6xad' target=\"_blank\">https://wandb.ai/bilkentbitirmehavelsan-bilkent-niversitesi/huggingface/runs/a66r6xad</a><br> View project at: <a href='https://wandb.ai/bilkentbitirmehavelsan-bilkent-niversitesi/huggingface' target=\"_blank\">https://wandb.ai/bilkentbitirmehavelsan-bilkent-niversitesi/huggingface</a><br>Synced 5 W&B file(s), 0 media file(s), 0 artifact file(s) and 0 other file(s)"
            ],
            "text/plain": [
              "<IPython.core.display.HTML object>"
            ]
          },
          "metadata": {},
          "output_type": "display_data"
        },
        {
          "data": {
            "text/html": [
              "Find logs at: <code>./wandb/run-20250407_111128-a66r6xad/logs</code>"
            ],
            "text/plain": [
              "<IPython.core.display.HTML object>"
            ]
          },
          "metadata": {},
          "output_type": "display_data"
        },
        {
          "data": {
            "text/html": [
              "Tracking run with wandb version 0.19.9"
            ],
            "text/plain": [
              "<IPython.core.display.HTML object>"
            ]
          },
          "metadata": {},
          "output_type": "display_data"
        },
        {
          "data": {
            "text/html": [
              "Run data is saved locally in <code>/content/wandb/run-20250407_111228-hi02eja0</code>"
            ],
            "text/plain": [
              "<IPython.core.display.HTML object>"
            ]
          },
          "metadata": {},
          "output_type": "display_data"
        },
        {
          "data": {
            "text/html": [
              "Syncing run <strong><a href='https://wandb.ai/bilkentbitirmehavelsan-bilkent-niversitesi/huggingface/runs/hi02eja0' target=\"_blank\">zany-shadow-9</a></strong> to <a href='https://wandb.ai/bilkentbitirmehavelsan-bilkent-niversitesi/huggingface' target=\"_blank\">Weights & Biases</a> (<a href='https://wandb.me/developer-guide' target=\"_blank\">docs</a>)<br>"
            ],
            "text/plain": [
              "<IPython.core.display.HTML object>"
            ]
          },
          "metadata": {},
          "output_type": "display_data"
        },
        {
          "data": {
            "text/html": [
              " View project at <a href='https://wandb.ai/bilkentbitirmehavelsan-bilkent-niversitesi/huggingface' target=\"_blank\">https://wandb.ai/bilkentbitirmehavelsan-bilkent-niversitesi/huggingface</a>"
            ],
            "text/plain": [
              "<IPython.core.display.HTML object>"
            ]
          },
          "metadata": {},
          "output_type": "display_data"
        },
        {
          "data": {
            "text/html": [
              " View run at <a href='https://wandb.ai/bilkentbitirmehavelsan-bilkent-niversitesi/huggingface/runs/hi02eja0' target=\"_blank\">https://wandb.ai/bilkentbitirmehavelsan-bilkent-niversitesi/huggingface/runs/hi02eja0</a>"
            ],
            "text/plain": [
              "<IPython.core.display.HTML object>"
            ]
          },
          "metadata": {},
          "output_type": "display_data"
        },
        {
          "name": "stdout",
          "output_type": "stream",
          "text": [
            "{'eval_loss': 0.7125602960586548, 'eval_accuracy': 0.4729241877256318, 'eval_runtime': 0.6582, 'eval_samples_per_second': 420.874, 'eval_steps_per_second': 7.597, 'epoch': 1.0}\n",
            "{'eval_loss': 0.7045787572860718, 'eval_accuracy': 0.4693140794223827, 'eval_runtime': 0.6572, 'eval_samples_per_second': 421.495, 'eval_steps_per_second': 7.608, 'epoch': 2.0}\n"
          ]
        },
        {
          "name": "stderr",
          "output_type": "stream",
          "text": [
            "[I 2025-04-07 11:13:26,025] Trial 6 pruned. \n"
          ]
        },
        {
          "name": "stdout",
          "output_type": "stream",
          "text": [
            "{'eval_loss': 0.7018769979476929, 'eval_accuracy': 0.4693140794223827, 'eval_runtime': 0.6696, 'eval_samples_per_second': 413.69, 'eval_steps_per_second': 7.467, 'epoch': 3.0}\n"
          ]
        },
        {
          "data": {
            "text/html": [],
            "text/plain": [
              "<IPython.core.display.HTML object>"
            ]
          },
          "metadata": {},
          "output_type": "display_data"
        },
        {
          "data": {
            "text/html": [
              "<br>    <style><br>        .wandb-row {<br>            display: flex;<br>            flex-direction: row;<br>            flex-wrap: wrap;<br>            justify-content: flex-start;<br>            width: 100%;<br>        }<br>        .wandb-col {<br>            display: flex;<br>            flex-direction: column;<br>            flex-basis: 100%;<br>            flex: 1;<br>            padding: 10px;<br>        }<br>    </style><br><div class=\"wandb-row\"><div class=\"wandb-col\"><h3>Run history:</h3><br/><table class=\"wandb\"><tr><td>eval/accuracy</td><td>█▁▁</td></tr><tr><td>eval/loss</td><td>█▃▁</td></tr><tr><td>eval/runtime</td><td>▂▁█</td></tr><tr><td>eval/samples_per_second</td><td>▇█▁</td></tr><tr><td>eval/steps_per_second</td><td>▇█▁</td></tr><tr><td>train/epoch</td><td>▁▅█</td></tr><tr><td>train/global_step</td><td>▁▅█</td></tr></table><br/></div><div class=\"wandb-col\"><h3>Run summary:</h3><br/><table class=\"wandb\"><tr><td>eval/accuracy</td><td>0.46931</td></tr><tr><td>eval/loss</td><td>0.70188</td></tr><tr><td>eval/runtime</td><td>0.6696</td></tr><tr><td>eval/samples_per_second</td><td>413.69</td></tr><tr><td>eval/steps_per_second</td><td>7.467</td></tr><tr><td>train/epoch</td><td>3</td></tr><tr><td>train/global_step</td><td>468</td></tr></table><br/></div></div>"
            ],
            "text/plain": [
              "<IPython.core.display.HTML object>"
            ]
          },
          "metadata": {},
          "output_type": "display_data"
        },
        {
          "data": {
            "text/html": [
              " View run <strong style=\"color:#cdcd00\">zany-shadow-9</strong> at: <a href='https://wandb.ai/bilkentbitirmehavelsan-bilkent-niversitesi/huggingface/runs/hi02eja0' target=\"_blank\">https://wandb.ai/bilkentbitirmehavelsan-bilkent-niversitesi/huggingface/runs/hi02eja0</a><br> View project at: <a href='https://wandb.ai/bilkentbitirmehavelsan-bilkent-niversitesi/huggingface' target=\"_blank\">https://wandb.ai/bilkentbitirmehavelsan-bilkent-niversitesi/huggingface</a><br>Synced 5 W&B file(s), 0 media file(s), 0 artifact file(s) and 0 other file(s)"
            ],
            "text/plain": [
              "<IPython.core.display.HTML object>"
            ]
          },
          "metadata": {},
          "output_type": "display_data"
        },
        {
          "data": {
            "text/html": [
              "Find logs at: <code>./wandb/run-20250407_111228-hi02eja0/logs</code>"
            ],
            "text/plain": [
              "<IPython.core.display.HTML object>"
            ]
          },
          "metadata": {},
          "output_type": "display_data"
        },
        {
          "data": {
            "text/html": [
              "Tracking run with wandb version 0.19.9"
            ],
            "text/plain": [
              "<IPython.core.display.HTML object>"
            ]
          },
          "metadata": {},
          "output_type": "display_data"
        },
        {
          "data": {
            "text/html": [
              "Run data is saved locally in <code>/content/wandb/run-20250407_111327-bplngrdg</code>"
            ],
            "text/plain": [
              "<IPython.core.display.HTML object>"
            ]
          },
          "metadata": {},
          "output_type": "display_data"
        },
        {
          "data": {
            "text/html": [
              "Syncing run <strong><a href='https://wandb.ai/bilkentbitirmehavelsan-bilkent-niversitesi/huggingface/runs/bplngrdg' target=\"_blank\">bumbling-capybara-10</a></strong> to <a href='https://wandb.ai/bilkentbitirmehavelsan-bilkent-niversitesi/huggingface' target=\"_blank\">Weights & Biases</a> (<a href='https://wandb.me/developer-guide' target=\"_blank\">docs</a>)<br>"
            ],
            "text/plain": [
              "<IPython.core.display.HTML object>"
            ]
          },
          "metadata": {},
          "output_type": "display_data"
        },
        {
          "data": {
            "text/html": [
              " View project at <a href='https://wandb.ai/bilkentbitirmehavelsan-bilkent-niversitesi/huggingface' target=\"_blank\">https://wandb.ai/bilkentbitirmehavelsan-bilkent-niversitesi/huggingface</a>"
            ],
            "text/plain": [
              "<IPython.core.display.HTML object>"
            ]
          },
          "metadata": {},
          "output_type": "display_data"
        },
        {
          "data": {
            "text/html": [
              " View run at <a href='https://wandb.ai/bilkentbitirmehavelsan-bilkent-niversitesi/huggingface/runs/bplngrdg' target=\"_blank\">https://wandb.ai/bilkentbitirmehavelsan-bilkent-niversitesi/huggingface/runs/bplngrdg</a>"
            ],
            "text/plain": [
              "<IPython.core.display.HTML object>"
            ]
          },
          "metadata": {},
          "output_type": "display_data"
        },
        {
          "name": "stderr",
          "output_type": "stream",
          "text": [
            "[I 2025-04-07 11:13:47,405] Trial 7 pruned. \n"
          ]
        },
        {
          "name": "stdout",
          "output_type": "stream",
          "text": [
            "{'eval_loss': 0.7039880752563477, 'eval_accuracy': 0.4693140794223827, 'eval_runtime': 0.6613, 'eval_samples_per_second': 418.901, 'eval_steps_per_second': 7.561, 'epoch': 1.0}\n"
          ]
        },
        {
          "data": {
            "text/html": [],
            "text/plain": [
              "<IPython.core.display.HTML object>"
            ]
          },
          "metadata": {},
          "output_type": "display_data"
        },
        {
          "data": {
            "text/html": [
              "<br>    <style><br>        .wandb-row {<br>            display: flex;<br>            flex-direction: row;<br>            flex-wrap: wrap;<br>            justify-content: flex-start;<br>            width: 100%;<br>        }<br>        .wandb-col {<br>            display: flex;<br>            flex-direction: column;<br>            flex-basis: 100%;<br>            flex: 1;<br>            padding: 10px;<br>        }<br>    </style><br><div class=\"wandb-row\"><div class=\"wandb-col\"><h3>Run history:</h3><br/><table class=\"wandb\"><tr><td>eval/accuracy</td><td>▁</td></tr><tr><td>eval/loss</td><td>▁</td></tr><tr><td>eval/runtime</td><td>▁</td></tr><tr><td>eval/samples_per_second</td><td>▁</td></tr><tr><td>eval/steps_per_second</td><td>▁</td></tr><tr><td>train/epoch</td><td>▁</td></tr><tr><td>train/global_step</td><td>▁</td></tr></table><br/></div><div class=\"wandb-col\"><h3>Run summary:</h3><br/><table class=\"wandb\"><tr><td>eval/accuracy</td><td>0.46931</td></tr><tr><td>eval/loss</td><td>0.70399</td></tr><tr><td>eval/runtime</td><td>0.6613</td></tr><tr><td>eval/samples_per_second</td><td>418.901</td></tr><tr><td>eval/steps_per_second</td><td>7.561</td></tr><tr><td>train/epoch</td><td>1</td></tr><tr><td>train/global_step</td><td>78</td></tr></table><br/></div></div>"
            ],
            "text/plain": [
              "<IPython.core.display.HTML object>"
            ]
          },
          "metadata": {},
          "output_type": "display_data"
        },
        {
          "data": {
            "text/html": [
              " View run <strong style=\"color:#cdcd00\">bumbling-capybara-10</strong> at: <a href='https://wandb.ai/bilkentbitirmehavelsan-bilkent-niversitesi/huggingface/runs/bplngrdg' target=\"_blank\">https://wandb.ai/bilkentbitirmehavelsan-bilkent-niversitesi/huggingface/runs/bplngrdg</a><br> View project at: <a href='https://wandb.ai/bilkentbitirmehavelsan-bilkent-niversitesi/huggingface' target=\"_blank\">https://wandb.ai/bilkentbitirmehavelsan-bilkent-niversitesi/huggingface</a><br>Synced 5 W&B file(s), 0 media file(s), 0 artifact file(s) and 0 other file(s)"
            ],
            "text/plain": [
              "<IPython.core.display.HTML object>"
            ]
          },
          "metadata": {},
          "output_type": "display_data"
        },
        {
          "data": {
            "text/html": [
              "Find logs at: <code>./wandb/run-20250407_111327-bplngrdg/logs</code>"
            ],
            "text/plain": [
              "<IPython.core.display.HTML object>"
            ]
          },
          "metadata": {},
          "output_type": "display_data"
        },
        {
          "data": {
            "text/html": [
              "Tracking run with wandb version 0.19.9"
            ],
            "text/plain": [
              "<IPython.core.display.HTML object>"
            ]
          },
          "metadata": {},
          "output_type": "display_data"
        },
        {
          "data": {
            "text/html": [
              "Run data is saved locally in <code>/content/wandb/run-20250407_111349-badko3sh</code>"
            ],
            "text/plain": [
              "<IPython.core.display.HTML object>"
            ]
          },
          "metadata": {},
          "output_type": "display_data"
        },
        {
          "data": {
            "text/html": [
              "Syncing run <strong><a href='https://wandb.ai/bilkentbitirmehavelsan-bilkent-niversitesi/huggingface/runs/badko3sh' target=\"_blank\">dainty-sunset-11</a></strong> to <a href='https://wandb.ai/bilkentbitirmehavelsan-bilkent-niversitesi/huggingface' target=\"_blank\">Weights & Biases</a> (<a href='https://wandb.me/developer-guide' target=\"_blank\">docs</a>)<br>"
            ],
            "text/plain": [
              "<IPython.core.display.HTML object>"
            ]
          },
          "metadata": {},
          "output_type": "display_data"
        },
        {
          "data": {
            "text/html": [
              " View project at <a href='https://wandb.ai/bilkentbitirmehavelsan-bilkent-niversitesi/huggingface' target=\"_blank\">https://wandb.ai/bilkentbitirmehavelsan-bilkent-niversitesi/huggingface</a>"
            ],
            "text/plain": [
              "<IPython.core.display.HTML object>"
            ]
          },
          "metadata": {},
          "output_type": "display_data"
        },
        {
          "data": {
            "text/html": [
              " View run at <a href='https://wandb.ai/bilkentbitirmehavelsan-bilkent-niversitesi/huggingface/runs/badko3sh' target=\"_blank\">https://wandb.ai/bilkentbitirmehavelsan-bilkent-niversitesi/huggingface/runs/badko3sh</a>"
            ],
            "text/plain": [
              "<IPython.core.display.HTML object>"
            ]
          },
          "metadata": {},
          "output_type": "display_data"
        },
        {
          "name": "stdout",
          "output_type": "stream",
          "text": [
            "{'eval_loss': 0.6886783242225647, 'eval_accuracy': 0.6028880866425993, 'eval_runtime': 0.6558, 'eval_samples_per_second': 422.378, 'eval_steps_per_second': 7.624, 'epoch': 1.0}\n",
            "{'eval_loss': 0.6687993407249451, 'eval_accuracy': 0.6173285198555957, 'eval_runtime': 0.6547, 'eval_samples_per_second': 423.094, 'eval_steps_per_second': 7.637, 'epoch': 2.0}\n"
          ]
        },
        {
          "name": "stderr",
          "output_type": "stream",
          "text": [
            "It seems you are trying to upload a large folder at once. This might take some time and then fail if the folder is too large. For such cases, it is recommended to upload in smaller batches or to use `HfApi().upload_large_folder(...)`/`huggingface-cli upload-large-folder` instead. For more details, check out https://huggingface.co/docs/huggingface_hub/main/en/guides/upload#upload-a-large-folder.\n",
            "WARNING:huggingface_hub.hf_api:It seems you are trying to upload a large folder at once. This might take some time and then fail if the folder is too large. For such cases, it is recommended to upload in smaller batches or to use `HfApi().upload_large_folder(...)`/`huggingface-cli upload-large-folder` instead. For more details, check out https://huggingface.co/docs/huggingface_hub/main/en/guides/upload#upload-a-large-folder.\n",
            "[I 2025-04-07 11:14:48,299] Trial 8 pruned. \n"
          ]
        },
        {
          "name": "stdout",
          "output_type": "stream",
          "text": [
            "{'eval_loss': 0.6822176575660706, 'eval_accuracy': 0.5848375451263538, 'eval_runtime': 0.6554, 'eval_samples_per_second': 422.647, 'eval_steps_per_second': 7.629, 'epoch': 3.0}\n"
          ]
        },
        {
          "data": {
            "text/html": [],
            "text/plain": [
              "<IPython.core.display.HTML object>"
            ]
          },
          "metadata": {},
          "output_type": "display_data"
        },
        {
          "data": {
            "text/html": [
              "<br>    <style><br>        .wandb-row {<br>            display: flex;<br>            flex-direction: row;<br>            flex-wrap: wrap;<br>            justify-content: flex-start;<br>            width: 100%;<br>        }<br>        .wandb-col {<br>            display: flex;<br>            flex-direction: column;<br>            flex-basis: 100%;<br>            flex: 1;<br>            padding: 10px;<br>        }<br>    </style><br><div class=\"wandb-row\"><div class=\"wandb-col\"><h3>Run history:</h3><br/><table class=\"wandb\"><tr><td>eval/accuracy</td><td>▅█▁</td></tr><tr><td>eval/loss</td><td>█▁▆</td></tr><tr><td>eval/runtime</td><td>█▁▅</td></tr><tr><td>eval/samples_per_second</td><td>▁█▄</td></tr><tr><td>eval/steps_per_second</td><td>▁█▄</td></tr><tr><td>train/epoch</td><td>▁▅█</td></tr><tr><td>train/global_step</td><td>▁▅█</td></tr></table><br/></div><div class=\"wandb-col\"><h3>Run summary:</h3><br/><table class=\"wandb\"><tr><td>eval/accuracy</td><td>0.58484</td></tr><tr><td>eval/loss</td><td>0.68222</td></tr><tr><td>eval/runtime</td><td>0.6554</td></tr><tr><td>eval/samples_per_second</td><td>422.647</td></tr><tr><td>eval/steps_per_second</td><td>7.629</td></tr><tr><td>train/epoch</td><td>3</td></tr><tr><td>train/global_step</td><td>234</td></tr></table><br/></div></div>"
            ],
            "text/plain": [
              "<IPython.core.display.HTML object>"
            ]
          },
          "metadata": {},
          "output_type": "display_data"
        },
        {
          "data": {
            "text/html": [
              " View run <strong style=\"color:#cdcd00\">dainty-sunset-11</strong> at: <a href='https://wandb.ai/bilkentbitirmehavelsan-bilkent-niversitesi/huggingface/runs/badko3sh' target=\"_blank\">https://wandb.ai/bilkentbitirmehavelsan-bilkent-niversitesi/huggingface/runs/badko3sh</a><br> View project at: <a href='https://wandb.ai/bilkentbitirmehavelsan-bilkent-niversitesi/huggingface' target=\"_blank\">https://wandb.ai/bilkentbitirmehavelsan-bilkent-niversitesi/huggingface</a><br>Synced 5 W&B file(s), 0 media file(s), 0 artifact file(s) and 0 other file(s)"
            ],
            "text/plain": [
              "<IPython.core.display.HTML object>"
            ]
          },
          "metadata": {},
          "output_type": "display_data"
        },
        {
          "data": {
            "text/html": [
              "Find logs at: <code>./wandb/run-20250407_111349-badko3sh/logs</code>"
            ],
            "text/plain": [
              "<IPython.core.display.HTML object>"
            ]
          },
          "metadata": {},
          "output_type": "display_data"
        },
        {
          "data": {
            "text/html": [
              "Tracking run with wandb version 0.19.9"
            ],
            "text/plain": [
              "<IPython.core.display.HTML object>"
            ]
          },
          "metadata": {},
          "output_type": "display_data"
        },
        {
          "data": {
            "text/html": [
              "Run data is saved locally in <code>/content/wandb/run-20250407_111449-om9ef8oz</code>"
            ],
            "text/plain": [
              "<IPython.core.display.HTML object>"
            ]
          },
          "metadata": {},
          "output_type": "display_data"
        },
        {
          "data": {
            "text/html": [
              "Syncing run <strong><a href='https://wandb.ai/bilkentbitirmehavelsan-bilkent-niversitesi/huggingface/runs/om9ef8oz' target=\"_blank\">legendary-dust-12</a></strong> to <a href='https://wandb.ai/bilkentbitirmehavelsan-bilkent-niversitesi/huggingface' target=\"_blank\">Weights & Biases</a> (<a href='https://wandb.me/developer-guide' target=\"_blank\">docs</a>)<br>"
            ],
            "text/plain": [
              "<IPython.core.display.HTML object>"
            ]
          },
          "metadata": {},
          "output_type": "display_data"
        },
        {
          "data": {
            "text/html": [
              " View project at <a href='https://wandb.ai/bilkentbitirmehavelsan-bilkent-niversitesi/huggingface' target=\"_blank\">https://wandb.ai/bilkentbitirmehavelsan-bilkent-niversitesi/huggingface</a>"
            ],
            "text/plain": [
              "<IPython.core.display.HTML object>"
            ]
          },
          "metadata": {},
          "output_type": "display_data"
        },
        {
          "data": {
            "text/html": [
              " View run at <a href='https://wandb.ai/bilkentbitirmehavelsan-bilkent-niversitesi/huggingface/runs/om9ef8oz' target=\"_blank\">https://wandb.ai/bilkentbitirmehavelsan-bilkent-niversitesi/huggingface/runs/om9ef8oz</a>"
            ],
            "text/plain": [
              "<IPython.core.display.HTML object>"
            ]
          },
          "metadata": {},
          "output_type": "display_data"
        },
        {
          "name": "stdout",
          "output_type": "stream",
          "text": [
            "{'eval_loss': 0.6890994906425476, 'eval_accuracy': 0.5740072202166066, 'eval_runtime': 0.654, 'eval_samples_per_second': 423.573, 'eval_steps_per_second': 7.646, 'epoch': 1.0}\n",
            "{'eval_loss': 0.6779555678367615, 'eval_accuracy': 0.5776173285198556, 'eval_runtime': 0.6562, 'eval_samples_per_second': 422.133, 'eval_steps_per_second': 7.62, 'epoch': 2.0}\n",
            "{'train_runtime': 40.9007, 'train_samples_per_second': 121.758, 'train_steps_per_second': 7.628, 'train_loss': 0.6969411801069211, 'epoch': 2.0}\n"
          ]
        },
        {
          "name": "stderr",
          "output_type": "stream",
          "text": [
            "[I 2025-04-07 11:17:23,515] Trial 9 finished with value: 0.5776173285198556 and parameters: {'learning_rate': 6.3406321145340925e-06, 'num_train_epochs': 2, 'per_device_train_batch_size': 16, 'max_length': 512, 'classifier_dropout': 0.33282255094216256}. Best is trial 4 with value: 0.6823104693140795.\n"
          ]
        },
        {
          "data": {
            "text/html": [],
            "text/plain": [
              "<IPython.core.display.HTML object>"
            ]
          },
          "metadata": {},
          "output_type": "display_data"
        },
        {
          "data": {
            "text/html": [
              "<br>    <style><br>        .wandb-row {<br>            display: flex;<br>            flex-direction: row;<br>            flex-wrap: wrap;<br>            justify-content: flex-start;<br>            width: 100%;<br>        }<br>        .wandb-col {<br>            display: flex;<br>            flex-direction: column;<br>            flex-basis: 100%;<br>            flex: 1;<br>            padding: 10px;<br>        }<br>    </style><br><div class=\"wandb-row\"><div class=\"wandb-col\"><h3>Run history:</h3><br/><table class=\"wandb\"><tr><td>eval/accuracy</td><td>▁█</td></tr><tr><td>eval/loss</td><td>█▁</td></tr><tr><td>eval/runtime</td><td>▁█</td></tr><tr><td>eval/samples_per_second</td><td>█▁</td></tr><tr><td>eval/steps_per_second</td><td>█▁</td></tr><tr><td>train/epoch</td><td>▁██</td></tr><tr><td>train/global_step</td><td>▁██</td></tr></table><br/></div><div class=\"wandb-col\"><h3>Run summary:</h3><br/><table class=\"wandb\"><tr><td>eval/accuracy</td><td>0.57762</td></tr><tr><td>eval/loss</td><td>0.67796</td></tr><tr><td>eval/runtime</td><td>0.6562</td></tr><tr><td>eval/samples_per_second</td><td>422.133</td></tr><tr><td>eval/steps_per_second</td><td>7.62</td></tr><tr><td>total_flos</td><td>2603595920541240.0</td></tr><tr><td>train/epoch</td><td>2</td></tr><tr><td>train/global_step</td><td>312</td></tr><tr><td>train_loss</td><td>0.69694</td></tr><tr><td>train_runtime</td><td>40.9007</td></tr><tr><td>train_samples_per_second</td><td>121.758</td></tr><tr><td>train_steps_per_second</td><td>7.628</td></tr></table><br/></div></div>"
            ],
            "text/plain": [
              "<IPython.core.display.HTML object>"
            ]
          },
          "metadata": {},
          "output_type": "display_data"
        },
        {
          "data": {
            "text/html": [
              " View run <strong style=\"color:#cdcd00\">legendary-dust-12</strong> at: <a href='https://wandb.ai/bilkentbitirmehavelsan-bilkent-niversitesi/huggingface/runs/om9ef8oz' target=\"_blank\">https://wandb.ai/bilkentbitirmehavelsan-bilkent-niversitesi/huggingface/runs/om9ef8oz</a><br> View project at: <a href='https://wandb.ai/bilkentbitirmehavelsan-bilkent-niversitesi/huggingface' target=\"_blank\">https://wandb.ai/bilkentbitirmehavelsan-bilkent-niversitesi/huggingface</a><br>Synced 5 W&B file(s), 0 media file(s), 0 artifact file(s) and 0 other file(s)"
            ],
            "text/plain": [
              "<IPython.core.display.HTML object>"
            ]
          },
          "metadata": {},
          "output_type": "display_data"
        },
        {
          "data": {
            "text/html": [
              "Find logs at: <code>./wandb/run-20250407_111449-om9ef8oz/logs</code>"
            ],
            "text/plain": [
              "<IPython.core.display.HTML object>"
            ]
          },
          "metadata": {},
          "output_type": "display_data"
        },
        {
          "data": {
            "text/html": [
              "Tracking run with wandb version 0.19.9"
            ],
            "text/plain": [
              "<IPython.core.display.HTML object>"
            ]
          },
          "metadata": {},
          "output_type": "display_data"
        },
        {
          "data": {
            "text/html": [
              "Run data is saved locally in <code>/content/wandb/run-20250407_111724-jvpjo6sz</code>"
            ],
            "text/plain": [
              "<IPython.core.display.HTML object>"
            ]
          },
          "metadata": {},
          "output_type": "display_data"
        },
        {
          "data": {
            "text/html": [
              "Syncing run <strong><a href='https://wandb.ai/bilkentbitirmehavelsan-bilkent-niversitesi/huggingface/runs/jvpjo6sz' target=\"_blank\">flowing-frost-13</a></strong> to <a href='https://wandb.ai/bilkentbitirmehavelsan-bilkent-niversitesi/huggingface' target=\"_blank\">Weights & Biases</a> (<a href='https://wandb.me/developer-guide' target=\"_blank\">docs</a>)<br>"
            ],
            "text/plain": [
              "<IPython.core.display.HTML object>"
            ]
          },
          "metadata": {},
          "output_type": "display_data"
        },
        {
          "data": {
            "text/html": [
              " View project at <a href='https://wandb.ai/bilkentbitirmehavelsan-bilkent-niversitesi/huggingface' target=\"_blank\">https://wandb.ai/bilkentbitirmehavelsan-bilkent-niversitesi/huggingface</a>"
            ],
            "text/plain": [
              "<IPython.core.display.HTML object>"
            ]
          },
          "metadata": {},
          "output_type": "display_data"
        },
        {
          "data": {
            "text/html": [
              " View run at <a href='https://wandb.ai/bilkentbitirmehavelsan-bilkent-niversitesi/huggingface/runs/jvpjo6sz' target=\"_blank\">https://wandb.ai/bilkentbitirmehavelsan-bilkent-niversitesi/huggingface/runs/jvpjo6sz</a>"
            ],
            "text/plain": [
              "<IPython.core.display.HTML object>"
            ]
          },
          "metadata": {},
          "output_type": "display_data"
        },
        {
          "name": "stdout",
          "output_type": "stream",
          "text": [
            "{'eval_loss': 0.6351022124290466, 'eval_accuracy': 0.6606498194945848, 'eval_runtime': 0.6544, 'eval_samples_per_second': 423.274, 'eval_steps_per_second': 7.64, 'epoch': 1.0}\n"
          ]
        },
        {
          "name": "stderr",
          "output_type": "stream",
          "text": [
            "It seems you are trying to upload a large folder at once. This might take some time and then fail if the folder is too large. For such cases, it is recommended to upload in smaller batches or to use `HfApi().upload_large_folder(...)`/`huggingface-cli upload-large-folder` instead. For more details, check out https://huggingface.co/docs/huggingface_hub/main/en/guides/upload#upload-a-large-folder.\n",
            "WARNING:huggingface_hub.hf_api:It seems you are trying to upload a large folder at once. This might take some time and then fail if the folder is too large. For such cases, it is recommended to upload in smaller batches or to use `HfApi().upload_large_folder(...)`/`huggingface-cli upload-large-folder` instead. For more details, check out https://huggingface.co/docs/huggingface_hub/main/en/guides/upload#upload-a-large-folder.\n"
          ]
        },
        {
          "name": "stdout",
          "output_type": "stream",
          "text": [
            "{'eval_loss': 0.6425051689147949, 'eval_accuracy': 0.6570397111913358, 'eval_runtime': 0.6546, 'eval_samples_per_second': 423.143, 'eval_steps_per_second': 7.638, 'epoch': 2.0}\n",
            "{'eval_loss': 0.907383143901825, 'eval_accuracy': 0.6389891696750902, 'eval_runtime': 0.6587, 'eval_samples_per_second': 420.549, 'eval_steps_per_second': 7.591, 'epoch': 3.0}\n",
            "{'train_runtime': 61.4175, 'train_samples_per_second': 121.627, 'train_steps_per_second': 7.62, 'train_loss': 0.5008352230756711, 'epoch': 3.0}\n"
          ]
        },
        {
          "name": "stderr",
          "output_type": "stream",
          "text": [
            "[I 2025-04-07 11:20:28,065] Trial 10 finished with value: 0.6389891696750902 and parameters: {'learning_rate': 4.813710106555415e-05, 'num_train_epochs': 3, 'per_device_train_batch_size': 16, 'max_length': 256, 'classifier_dropout': 0.19880893323294635}. Best is trial 4 with value: 0.6823104693140795.\n"
          ]
        },
        {
          "data": {
            "text/html": [],
            "text/plain": [
              "<IPython.core.display.HTML object>"
            ]
          },
          "metadata": {},
          "output_type": "display_data"
        },
        {
          "data": {
            "text/html": [
              "<br>    <style><br>        .wandb-row {<br>            display: flex;<br>            flex-direction: row;<br>            flex-wrap: wrap;<br>            justify-content: flex-start;<br>            width: 100%;<br>        }<br>        .wandb-col {<br>            display: flex;<br>            flex-direction: column;<br>            flex-basis: 100%;<br>            flex: 1;<br>            padding: 10px;<br>        }<br>    </style><br><div class=\"wandb-row\"><div class=\"wandb-col\"><h3>Run history:</h3><br/><table class=\"wandb\"><tr><td>eval/accuracy</td><td>█▇▁</td></tr><tr><td>eval/loss</td><td>▁▁█</td></tr><tr><td>eval/runtime</td><td>▁▁█</td></tr><tr><td>eval/samples_per_second</td><td>██▁</td></tr><tr><td>eval/steps_per_second</td><td>██▁</td></tr><tr><td>train/epoch</td><td>▁▅██</td></tr><tr><td>train/global_step</td><td>▁▅██</td></tr></table><br/></div><div class=\"wandb-col\"><h3>Run summary:</h3><br/><table class=\"wandb\"><tr><td>eval/accuracy</td><td>0.63899</td></tr><tr><td>eval/loss</td><td>0.90738</td></tr><tr><td>eval/runtime</td><td>0.6587</td></tr><tr><td>eval/samples_per_second</td><td>420.549</td></tr><tr><td>eval/steps_per_second</td><td>7.591</td></tr><tr><td>total_flos</td><td>627288617082600.0</td></tr><tr><td>train/epoch</td><td>3</td></tr><tr><td>train/global_step</td><td>468</td></tr><tr><td>train_loss</td><td>0.50084</td></tr><tr><td>train_runtime</td><td>61.4175</td></tr><tr><td>train_samples_per_second</td><td>121.627</td></tr><tr><td>train_steps_per_second</td><td>7.62</td></tr></table><br/></div></div>"
            ],
            "text/plain": [
              "<IPython.core.display.HTML object>"
            ]
          },
          "metadata": {},
          "output_type": "display_data"
        },
        {
          "data": {
            "text/html": [
              " View run <strong style=\"color:#cdcd00\">flowing-frost-13</strong> at: <a href='https://wandb.ai/bilkentbitirmehavelsan-bilkent-niversitesi/huggingface/runs/jvpjo6sz' target=\"_blank\">https://wandb.ai/bilkentbitirmehavelsan-bilkent-niversitesi/huggingface/runs/jvpjo6sz</a><br> View project at: <a href='https://wandb.ai/bilkentbitirmehavelsan-bilkent-niversitesi/huggingface' target=\"_blank\">https://wandb.ai/bilkentbitirmehavelsan-bilkent-niversitesi/huggingface</a><br>Synced 5 W&B file(s), 0 media file(s), 0 artifact file(s) and 0 other file(s)"
            ],
            "text/plain": [
              "<IPython.core.display.HTML object>"
            ]
          },
          "metadata": {},
          "output_type": "display_data"
        },
        {
          "data": {
            "text/html": [
              "Find logs at: <code>./wandb/run-20250407_111724-jvpjo6sz/logs</code>"
            ],
            "text/plain": [
              "<IPython.core.display.HTML object>"
            ]
          },
          "metadata": {},
          "output_type": "display_data"
        },
        {
          "data": {
            "text/html": [
              "Tracking run with wandb version 0.19.9"
            ],
            "text/plain": [
              "<IPython.core.display.HTML object>"
            ]
          },
          "metadata": {},
          "output_type": "display_data"
        },
        {
          "data": {
            "text/html": [
              "Run data is saved locally in <code>/content/wandb/run-20250407_112029-hcntpq77</code>"
            ],
            "text/plain": [
              "<IPython.core.display.HTML object>"
            ]
          },
          "metadata": {},
          "output_type": "display_data"
        },
        {
          "data": {
            "text/html": [
              "Syncing run <strong><a href='https://wandb.ai/bilkentbitirmehavelsan-bilkent-niversitesi/huggingface/runs/hcntpq77' target=\"_blank\">rural-shadow-14</a></strong> to <a href='https://wandb.ai/bilkentbitirmehavelsan-bilkent-niversitesi/huggingface' target=\"_blank\">Weights & Biases</a> (<a href='https://wandb.me/developer-guide' target=\"_blank\">docs</a>)<br>"
            ],
            "text/plain": [
              "<IPython.core.display.HTML object>"
            ]
          },
          "metadata": {},
          "output_type": "display_data"
        },
        {
          "data": {
            "text/html": [
              " View project at <a href='https://wandb.ai/bilkentbitirmehavelsan-bilkent-niversitesi/huggingface' target=\"_blank\">https://wandb.ai/bilkentbitirmehavelsan-bilkent-niversitesi/huggingface</a>"
            ],
            "text/plain": [
              "<IPython.core.display.HTML object>"
            ]
          },
          "metadata": {},
          "output_type": "display_data"
        },
        {
          "data": {
            "text/html": [
              " View run at <a href='https://wandb.ai/bilkentbitirmehavelsan-bilkent-niversitesi/huggingface/runs/hcntpq77' target=\"_blank\">https://wandb.ai/bilkentbitirmehavelsan-bilkent-niversitesi/huggingface/runs/hcntpq77</a>"
            ],
            "text/plain": [
              "<IPython.core.display.HTML object>"
            ]
          },
          "metadata": {},
          "output_type": "display_data"
        },
        {
          "name": "stdout",
          "output_type": "stream",
          "text": [
            "{'eval_loss': 0.6525694727897644, 'eval_accuracy': 0.6064981949458483, 'eval_runtime': 0.6575, 'eval_samples_per_second': 421.267, 'eval_steps_per_second': 7.604, 'epoch': 1.0}\n"
          ]
        },
        {
          "name": "stderr",
          "output_type": "stream",
          "text": [
            "It seems you are trying to upload a large folder at once. This might take some time and then fail if the folder is too large. For such cases, it is recommended to upload in smaller batches or to use `HfApi().upload_large_folder(...)`/`huggingface-cli upload-large-folder` instead. For more details, check out https://huggingface.co/docs/huggingface_hub/main/en/guides/upload#upload-a-large-folder.\n",
            "WARNING:huggingface_hub.hf_api:It seems you are trying to upload a large folder at once. This might take some time and then fail if the folder is too large. For such cases, it is recommended to upload in smaller batches or to use `HfApi().upload_large_folder(...)`/`huggingface-cli upload-large-folder` instead. For more details, check out https://huggingface.co/docs/huggingface_hub/main/en/guides/upload#upload-a-large-folder.\n"
          ]
        },
        {
          "name": "stdout",
          "output_type": "stream",
          "text": [
            "{'eval_loss': 0.6530539989471436, 'eval_accuracy': 0.6534296028880866, 'eval_runtime': 0.6609, 'eval_samples_per_second': 419.119, 'eval_steps_per_second': 7.565, 'epoch': 2.0}\n",
            "{'eval_loss': 0.7431728839874268, 'eval_accuracy': 0.6462093862815884, 'eval_runtime': 0.6548, 'eval_samples_per_second': 423.008, 'eval_steps_per_second': 7.636, 'epoch': 3.0}\n",
            "{'train_runtime': 61.1837, 'train_samples_per_second': 122.091, 'train_steps_per_second': 3.825, 'train_loss': 0.552665775657719, 'epoch': 3.0}\n"
          ]
        },
        {
          "name": "stderr",
          "output_type": "stream",
          "text": [
            "[I 2025-04-07 11:23:48,725] Trial 11 finished with value: 0.6462093862815884 and parameters: {'learning_rate': 3.3350497859706814e-05, 'num_train_epochs': 3, 'per_device_train_batch_size': 32, 'max_length': 512, 'classifier_dropout': 0.22612756535079392}. Best is trial 4 with value: 0.6823104693140795.\n"
          ]
        },
        {
          "data": {
            "text/html": [],
            "text/plain": [
              "<IPython.core.display.HTML object>"
            ]
          },
          "metadata": {},
          "output_type": "display_data"
        },
        {
          "data": {
            "text/html": [
              "<br>    <style><br>        .wandb-row {<br>            display: flex;<br>            flex-direction: row;<br>            flex-wrap: wrap;<br>            justify-content: flex-start;<br>            width: 100%;<br>        }<br>        .wandb-col {<br>            display: flex;<br>            flex-direction: column;<br>            flex-basis: 100%;<br>            flex: 1;<br>            padding: 10px;<br>        }<br>    </style><br><div class=\"wandb-row\"><div class=\"wandb-col\"><h3>Run history:</h3><br/><table class=\"wandb\"><tr><td>eval/accuracy</td><td>▁█▇</td></tr><tr><td>eval/loss</td><td>▁▁█</td></tr><tr><td>eval/runtime</td><td>▄█▁</td></tr><tr><td>eval/samples_per_second</td><td>▅▁█</td></tr><tr><td>eval/steps_per_second</td><td>▅▁█</td></tr><tr><td>train/epoch</td><td>▁▅██</td></tr><tr><td>train/global_step</td><td>▁▅██</td></tr></table><br/></div><div class=\"wandb-col\"><h3>Run summary:</h3><br/><table class=\"wandb\"><tr><td>eval/accuracy</td><td>0.64621</td></tr><tr><td>eval/loss</td><td>0.74317</td></tr><tr><td>eval/runtime</td><td>0.6548</td></tr><tr><td>eval/samples_per_second</td><td>423.008</td></tr><tr><td>eval/steps_per_second</td><td>7.636</td></tr><tr><td>total_flos</td><td>698864074138560.0</td></tr><tr><td>train/epoch</td><td>3</td></tr><tr><td>train/global_step</td><td>234</td></tr><tr><td>train_loss</td><td>0.55267</td></tr><tr><td>train_runtime</td><td>61.1837</td></tr><tr><td>train_samples_per_second</td><td>122.091</td></tr><tr><td>train_steps_per_second</td><td>3.825</td></tr></table><br/></div></div>"
            ],
            "text/plain": [
              "<IPython.core.display.HTML object>"
            ]
          },
          "metadata": {},
          "output_type": "display_data"
        },
        {
          "data": {
            "text/html": [
              " View run <strong style=\"color:#cdcd00\">rural-shadow-14</strong> at: <a href='https://wandb.ai/bilkentbitirmehavelsan-bilkent-niversitesi/huggingface/runs/hcntpq77' target=\"_blank\">https://wandb.ai/bilkentbitirmehavelsan-bilkent-niversitesi/huggingface/runs/hcntpq77</a><br> View project at: <a href='https://wandb.ai/bilkentbitirmehavelsan-bilkent-niversitesi/huggingface' target=\"_blank\">https://wandb.ai/bilkentbitirmehavelsan-bilkent-niversitesi/huggingface</a><br>Synced 5 W&B file(s), 0 media file(s), 0 artifact file(s) and 0 other file(s)"
            ],
            "text/plain": [
              "<IPython.core.display.HTML object>"
            ]
          },
          "metadata": {},
          "output_type": "display_data"
        },
        {
          "data": {
            "text/html": [
              "Find logs at: <code>./wandb/run-20250407_112029-hcntpq77/logs</code>"
            ],
            "text/plain": [
              "<IPython.core.display.HTML object>"
            ]
          },
          "metadata": {},
          "output_type": "display_data"
        },
        {
          "data": {
            "text/html": [
              "Tracking run with wandb version 0.19.9"
            ],
            "text/plain": [
              "<IPython.core.display.HTML object>"
            ]
          },
          "metadata": {},
          "output_type": "display_data"
        },
        {
          "data": {
            "text/html": [
              "Run data is saved locally in <code>/content/wandb/run-20250407_112351-j385gqva</code>"
            ],
            "text/plain": [
              "<IPython.core.display.HTML object>"
            ]
          },
          "metadata": {},
          "output_type": "display_data"
        },
        {
          "data": {
            "text/html": [
              "Syncing run <strong><a href='https://wandb.ai/bilkentbitirmehavelsan-bilkent-niversitesi/huggingface/runs/j385gqva' target=\"_blank\">lilac-feather-15</a></strong> to <a href='https://wandb.ai/bilkentbitirmehavelsan-bilkent-niversitesi/huggingface' target=\"_blank\">Weights & Biases</a> (<a href='https://wandb.me/developer-guide' target=\"_blank\">docs</a>)<br>"
            ],
            "text/plain": [
              "<IPython.core.display.HTML object>"
            ]
          },
          "metadata": {},
          "output_type": "display_data"
        },
        {
          "data": {
            "text/html": [
              " View project at <a href='https://wandb.ai/bilkentbitirmehavelsan-bilkent-niversitesi/huggingface' target=\"_blank\">https://wandb.ai/bilkentbitirmehavelsan-bilkent-niversitesi/huggingface</a>"
            ],
            "text/plain": [
              "<IPython.core.display.HTML object>"
            ]
          },
          "metadata": {},
          "output_type": "display_data"
        },
        {
          "data": {
            "text/html": [
              " View run at <a href='https://wandb.ai/bilkentbitirmehavelsan-bilkent-niversitesi/huggingface/runs/j385gqva' target=\"_blank\">https://wandb.ai/bilkentbitirmehavelsan-bilkent-niversitesi/huggingface/runs/j385gqva</a>"
            ],
            "text/plain": [
              "<IPython.core.display.HTML object>"
            ]
          },
          "metadata": {},
          "output_type": "display_data"
        },
        {
          "name": "stdout",
          "output_type": "stream",
          "text": [
            "{'eval_loss': 0.6413371562957764, 'eval_accuracy': 0.6606498194945848, 'eval_runtime': 0.6567, 'eval_samples_per_second': 421.822, 'eval_steps_per_second': 7.614, 'epoch': 1.0}\n"
          ]
        },
        {
          "name": "stderr",
          "output_type": "stream",
          "text": [
            "It seems you are trying to upload a large folder at once. This might take some time and then fail if the folder is too large. For such cases, it is recommended to upload in smaller batches or to use `HfApi().upload_large_folder(...)`/`huggingface-cli upload-large-folder` instead. For more details, check out https://huggingface.co/docs/huggingface_hub/main/en/guides/upload#upload-a-large-folder.\n",
            "WARNING:huggingface_hub.hf_api:It seems you are trying to upload a large folder at once. This might take some time and then fail if the folder is too large. For such cases, it is recommended to upload in smaller batches or to use `HfApi().upload_large_folder(...)`/`huggingface-cli upload-large-folder` instead. For more details, check out https://huggingface.co/docs/huggingface_hub/main/en/guides/upload#upload-a-large-folder.\n"
          ]
        },
        {
          "name": "stdout",
          "output_type": "stream",
          "text": [
            "{'eval_loss': 0.6564910411834717, 'eval_accuracy': 0.631768953068592, 'eval_runtime': 0.6587, 'eval_samples_per_second': 420.504, 'eval_steps_per_second': 7.59, 'epoch': 2.0}\n",
            "{'eval_loss': 0.769026517868042, 'eval_accuracy': 0.6642599277978339, 'eval_runtime': 0.6562, 'eval_samples_per_second': 422.156, 'eval_steps_per_second': 7.62, 'epoch': 3.0}\n",
            "{'train_runtime': 61.5888, 'train_samples_per_second': 121.288, 'train_steps_per_second': 3.799, 'train_loss': 0.5250004499386518, 'epoch': 3.0}\n"
          ]
        },
        {
          "name": "stderr",
          "output_type": "stream",
          "text": [
            "[I 2025-04-07 11:27:19,744] Trial 12 finished with value: 0.6642599277978339 and parameters: {'learning_rate': 4.296837445131292e-05, 'num_train_epochs': 3, 'per_device_train_batch_size': 32, 'max_length': 512, 'classifier_dropout': 0.19913678351398936}. Best is trial 4 with value: 0.6823104693140795.\n"
          ]
        },
        {
          "data": {
            "text/html": [],
            "text/plain": [
              "<IPython.core.display.HTML object>"
            ]
          },
          "metadata": {},
          "output_type": "display_data"
        },
        {
          "data": {
            "text/html": [
              "<br>    <style><br>        .wandb-row {<br>            display: flex;<br>            flex-direction: row;<br>            flex-wrap: wrap;<br>            justify-content: flex-start;<br>            width: 100%;<br>        }<br>        .wandb-col {<br>            display: flex;<br>            flex-direction: column;<br>            flex-basis: 100%;<br>            flex: 1;<br>            padding: 10px;<br>        }<br>    </style><br><div class=\"wandb-row\"><div class=\"wandb-col\"><h3>Run history:</h3><br/><table class=\"wandb\"><tr><td>eval/accuracy</td><td>▇▁█</td></tr><tr><td>eval/loss</td><td>▁▂█</td></tr><tr><td>eval/runtime</td><td>▂█▁</td></tr><tr><td>eval/samples_per_second</td><td>▇▁█</td></tr><tr><td>eval/steps_per_second</td><td>▇▁█</td></tr><tr><td>train/epoch</td><td>▁▅██</td></tr><tr><td>train/global_step</td><td>▁▅██</td></tr></table><br/></div><div class=\"wandb-col\"><h3>Run summary:</h3><br/><table class=\"wandb\"><tr><td>eval/accuracy</td><td>0.66426</td></tr><tr><td>eval/loss</td><td>0.76903</td></tr><tr><td>eval/runtime</td><td>0.6562</td></tr><tr><td>eval/samples_per_second</td><td>422.156</td></tr><tr><td>eval/steps_per_second</td><td>7.62</td></tr><tr><td>total_flos</td><td>698864074138560.0</td></tr><tr><td>train/epoch</td><td>3</td></tr><tr><td>train/global_step</td><td>234</td></tr><tr><td>train_loss</td><td>0.525</td></tr><tr><td>train_runtime</td><td>61.5888</td></tr><tr><td>train_samples_per_second</td><td>121.288</td></tr><tr><td>train_steps_per_second</td><td>3.799</td></tr></table><br/></div></div>"
            ],
            "text/plain": [
              "<IPython.core.display.HTML object>"
            ]
          },
          "metadata": {},
          "output_type": "display_data"
        },
        {
          "data": {
            "text/html": [
              " View run <strong style=\"color:#cdcd00\">lilac-feather-15</strong> at: <a href='https://wandb.ai/bilkentbitirmehavelsan-bilkent-niversitesi/huggingface/runs/j385gqva' target=\"_blank\">https://wandb.ai/bilkentbitirmehavelsan-bilkent-niversitesi/huggingface/runs/j385gqva</a><br> View project at: <a href='https://wandb.ai/bilkentbitirmehavelsan-bilkent-niversitesi/huggingface' target=\"_blank\">https://wandb.ai/bilkentbitirmehavelsan-bilkent-niversitesi/huggingface</a><br>Synced 5 W&B file(s), 0 media file(s), 0 artifact file(s) and 0 other file(s)"
            ],
            "text/plain": [
              "<IPython.core.display.HTML object>"
            ]
          },
          "metadata": {},
          "output_type": "display_data"
        },
        {
          "data": {
            "text/html": [
              "Find logs at: <code>./wandb/run-20250407_112351-j385gqva/logs</code>"
            ],
            "text/plain": [
              "<IPython.core.display.HTML object>"
            ]
          },
          "metadata": {},
          "output_type": "display_data"
        },
        {
          "data": {
            "text/html": [
              "Tracking run with wandb version 0.19.9"
            ],
            "text/plain": [
              "<IPython.core.display.HTML object>"
            ]
          },
          "metadata": {},
          "output_type": "display_data"
        },
        {
          "data": {
            "text/html": [
              "Run data is saved locally in <code>/content/wandb/run-20250407_112721-hsixanzy</code>"
            ],
            "text/plain": [
              "<IPython.core.display.HTML object>"
            ]
          },
          "metadata": {},
          "output_type": "display_data"
        },
        {
          "data": {
            "text/html": [
              "Syncing run <strong><a href='https://wandb.ai/bilkentbitirmehavelsan-bilkent-niversitesi/huggingface/runs/hsixanzy' target=\"_blank\">desert-terrain-16</a></strong> to <a href='https://wandb.ai/bilkentbitirmehavelsan-bilkent-niversitesi/huggingface' target=\"_blank\">Weights & Biases</a> (<a href='https://wandb.me/developer-guide' target=\"_blank\">docs</a>)<br>"
            ],
            "text/plain": [
              "<IPython.core.display.HTML object>"
            ]
          },
          "metadata": {},
          "output_type": "display_data"
        },
        {
          "data": {
            "text/html": [
              " View project at <a href='https://wandb.ai/bilkentbitirmehavelsan-bilkent-niversitesi/huggingface' target=\"_blank\">https://wandb.ai/bilkentbitirmehavelsan-bilkent-niversitesi/huggingface</a>"
            ],
            "text/plain": [
              "<IPython.core.display.HTML object>"
            ]
          },
          "metadata": {},
          "output_type": "display_data"
        },
        {
          "data": {
            "text/html": [
              " View run at <a href='https://wandb.ai/bilkentbitirmehavelsan-bilkent-niversitesi/huggingface/runs/hsixanzy' target=\"_blank\">https://wandb.ai/bilkentbitirmehavelsan-bilkent-niversitesi/huggingface/runs/hsixanzy</a>"
            ],
            "text/plain": [
              "<IPython.core.display.HTML object>"
            ]
          },
          "metadata": {},
          "output_type": "display_data"
        },
        {
          "name": "stderr",
          "output_type": "stream",
          "text": [
            "[I 2025-04-07 11:27:39,473] Trial 13 pruned. \n"
          ]
        },
        {
          "name": "stdout",
          "output_type": "stream",
          "text": [
            "{'eval_loss': 0.6871308088302612, 'eval_accuracy': 0.51985559566787, 'eval_runtime': 0.6555, 'eval_samples_per_second': 422.588, 'eval_steps_per_second': 7.628, 'epoch': 1.0}\n"
          ]
        },
        {
          "data": {
            "text/html": [],
            "text/plain": [
              "<IPython.core.display.HTML object>"
            ]
          },
          "metadata": {},
          "output_type": "display_data"
        },
        {
          "data": {
            "text/html": [
              "<br>    <style><br>        .wandb-row {<br>            display: flex;<br>            flex-direction: row;<br>            flex-wrap: wrap;<br>            justify-content: flex-start;<br>            width: 100%;<br>        }<br>        .wandb-col {<br>            display: flex;<br>            flex-direction: column;<br>            flex-basis: 100%;<br>            flex: 1;<br>            padding: 10px;<br>        }<br>    </style><br><div class=\"wandb-row\"><div class=\"wandb-col\"><h3>Run history:</h3><br/><table class=\"wandb\"><tr><td>eval/accuracy</td><td>▁</td></tr><tr><td>eval/loss</td><td>▁</td></tr><tr><td>eval/runtime</td><td>▁</td></tr><tr><td>eval/samples_per_second</td><td>▁</td></tr><tr><td>eval/steps_per_second</td><td>▁</td></tr><tr><td>train/epoch</td><td>▁</td></tr><tr><td>train/global_step</td><td>▁</td></tr></table><br/></div><div class=\"wandb-col\"><h3>Run summary:</h3><br/><table class=\"wandb\"><tr><td>eval/accuracy</td><td>0.51986</td></tr><tr><td>eval/loss</td><td>0.68713</td></tr><tr><td>eval/runtime</td><td>0.6555</td></tr><tr><td>eval/samples_per_second</td><td>422.588</td></tr><tr><td>eval/steps_per_second</td><td>7.628</td></tr><tr><td>train/epoch</td><td>1</td></tr><tr><td>train/global_step</td><td>78</td></tr></table><br/></div></div>"
            ],
            "text/plain": [
              "<IPython.core.display.HTML object>"
            ]
          },
          "metadata": {},
          "output_type": "display_data"
        },
        {
          "data": {
            "text/html": [
              " View run <strong style=\"color:#cdcd00\">desert-terrain-16</strong> at: <a href='https://wandb.ai/bilkentbitirmehavelsan-bilkent-niversitesi/huggingface/runs/hsixanzy' target=\"_blank\">https://wandb.ai/bilkentbitirmehavelsan-bilkent-niversitesi/huggingface/runs/hsixanzy</a><br> View project at: <a href='https://wandb.ai/bilkentbitirmehavelsan-bilkent-niversitesi/huggingface' target=\"_blank\">https://wandb.ai/bilkentbitirmehavelsan-bilkent-niversitesi/huggingface</a><br>Synced 5 W&B file(s), 0 media file(s), 0 artifact file(s) and 0 other file(s)"
            ],
            "text/plain": [
              "<IPython.core.display.HTML object>"
            ]
          },
          "metadata": {},
          "output_type": "display_data"
        },
        {
          "data": {
            "text/html": [
              "Find logs at: <code>./wandb/run-20250407_112721-hsixanzy/logs</code>"
            ],
            "text/plain": [
              "<IPython.core.display.HTML object>"
            ]
          },
          "metadata": {},
          "output_type": "display_data"
        },
        {
          "data": {
            "text/html": [
              "Tracking run with wandb version 0.19.9"
            ],
            "text/plain": [
              "<IPython.core.display.HTML object>"
            ]
          },
          "metadata": {},
          "output_type": "display_data"
        },
        {
          "data": {
            "text/html": [
              "Run data is saved locally in <code>/content/wandb/run-20250407_112741-8x3psc9l</code>"
            ],
            "text/plain": [
              "<IPython.core.display.HTML object>"
            ]
          },
          "metadata": {},
          "output_type": "display_data"
        },
        {
          "data": {
            "text/html": [
              "Syncing run <strong><a href='https://wandb.ai/bilkentbitirmehavelsan-bilkent-niversitesi/huggingface/runs/8x3psc9l' target=\"_blank\">restful-durian-17</a></strong> to <a href='https://wandb.ai/bilkentbitirmehavelsan-bilkent-niversitesi/huggingface' target=\"_blank\">Weights & Biases</a> (<a href='https://wandb.me/developer-guide' target=\"_blank\">docs</a>)<br>"
            ],
            "text/plain": [
              "<IPython.core.display.HTML object>"
            ]
          },
          "metadata": {},
          "output_type": "display_data"
        },
        {
          "data": {
            "text/html": [
              " View project at <a href='https://wandb.ai/bilkentbitirmehavelsan-bilkent-niversitesi/huggingface' target=\"_blank\">https://wandb.ai/bilkentbitirmehavelsan-bilkent-niversitesi/huggingface</a>"
            ],
            "text/plain": [
              "<IPython.core.display.HTML object>"
            ]
          },
          "metadata": {},
          "output_type": "display_data"
        },
        {
          "data": {
            "text/html": [
              " View run at <a href='https://wandb.ai/bilkentbitirmehavelsan-bilkent-niversitesi/huggingface/runs/8x3psc9l' target=\"_blank\">https://wandb.ai/bilkentbitirmehavelsan-bilkent-niversitesi/huggingface/runs/8x3psc9l</a>"
            ],
            "text/plain": [
              "<IPython.core.display.HTML object>"
            ]
          },
          "metadata": {},
          "output_type": "display_data"
        },
        {
          "name": "stderr",
          "output_type": "stream",
          "text": [
            "[I 2025-04-07 11:27:59,969] Trial 14 pruned. \n"
          ]
        },
        {
          "name": "stdout",
          "output_type": "stream",
          "text": [
            "{'eval_loss': 0.6762688159942627, 'eval_accuracy': 0.5523465703971119, 'eval_runtime': 0.6553, 'eval_samples_per_second': 422.739, 'eval_steps_per_second': 7.631, 'epoch': 1.0}\n"
          ]
        },
        {
          "data": {
            "text/html": [],
            "text/plain": [
              "<IPython.core.display.HTML object>"
            ]
          },
          "metadata": {},
          "output_type": "display_data"
        },
        {
          "data": {
            "text/html": [
              "<br>    <style><br>        .wandb-row {<br>            display: flex;<br>            flex-direction: row;<br>            flex-wrap: wrap;<br>            justify-content: flex-start;<br>            width: 100%;<br>        }<br>        .wandb-col {<br>            display: flex;<br>            flex-direction: column;<br>            flex-basis: 100%;<br>            flex: 1;<br>            padding: 10px;<br>        }<br>    </style><br><div class=\"wandb-row\"><div class=\"wandb-col\"><h3>Run history:</h3><br/><table class=\"wandb\"><tr><td>eval/accuracy</td><td>▁</td></tr><tr><td>eval/loss</td><td>▁</td></tr><tr><td>eval/runtime</td><td>▁</td></tr><tr><td>eval/samples_per_second</td><td>▁</td></tr><tr><td>eval/steps_per_second</td><td>▁</td></tr><tr><td>train/epoch</td><td>▁</td></tr><tr><td>train/global_step</td><td>▁</td></tr></table><br/></div><div class=\"wandb-col\"><h3>Run summary:</h3><br/><table class=\"wandb\"><tr><td>eval/accuracy</td><td>0.55235</td></tr><tr><td>eval/loss</td><td>0.67627</td></tr><tr><td>eval/runtime</td><td>0.6553</td></tr><tr><td>eval/samples_per_second</td><td>422.739</td></tr><tr><td>eval/steps_per_second</td><td>7.631</td></tr><tr><td>train/epoch</td><td>1</td></tr><tr><td>train/global_step</td><td>156</td></tr></table><br/></div></div>"
            ],
            "text/plain": [
              "<IPython.core.display.HTML object>"
            ]
          },
          "metadata": {},
          "output_type": "display_data"
        },
        {
          "data": {
            "text/html": [
              " View run <strong style=\"color:#cdcd00\">restful-durian-17</strong> at: <a href='https://wandb.ai/bilkentbitirmehavelsan-bilkent-niversitesi/huggingface/runs/8x3psc9l' target=\"_blank\">https://wandb.ai/bilkentbitirmehavelsan-bilkent-niversitesi/huggingface/runs/8x3psc9l</a><br> View project at: <a href='https://wandb.ai/bilkentbitirmehavelsan-bilkent-niversitesi/huggingface' target=\"_blank\">https://wandb.ai/bilkentbitirmehavelsan-bilkent-niversitesi/huggingface</a><br>Synced 5 W&B file(s), 0 media file(s), 0 artifact file(s) and 0 other file(s)"
            ],
            "text/plain": [
              "<IPython.core.display.HTML object>"
            ]
          },
          "metadata": {},
          "output_type": "display_data"
        },
        {
          "data": {
            "text/html": [
              "Find logs at: <code>./wandb/run-20250407_112741-8x3psc9l/logs</code>"
            ],
            "text/plain": [
              "<IPython.core.display.HTML object>"
            ]
          },
          "metadata": {},
          "output_type": "display_data"
        },
        {
          "data": {
            "text/html": [
              "Tracking run with wandb version 0.19.9"
            ],
            "text/plain": [
              "<IPython.core.display.HTML object>"
            ]
          },
          "metadata": {},
          "output_type": "display_data"
        },
        {
          "data": {
            "text/html": [
              "Run data is saved locally in <code>/content/wandb/run-20250407_112801-cpoqdg4x</code>"
            ],
            "text/plain": [
              "<IPython.core.display.HTML object>"
            ]
          },
          "metadata": {},
          "output_type": "display_data"
        },
        {
          "data": {
            "text/html": [
              "Syncing run <strong><a href='https://wandb.ai/bilkentbitirmehavelsan-bilkent-niversitesi/huggingface/runs/cpoqdg4x' target=\"_blank\">cerulean-flower-18</a></strong> to <a href='https://wandb.ai/bilkentbitirmehavelsan-bilkent-niversitesi/huggingface' target=\"_blank\">Weights & Biases</a> (<a href='https://wandb.me/developer-guide' target=\"_blank\">docs</a>)<br>"
            ],
            "text/plain": [
              "<IPython.core.display.HTML object>"
            ]
          },
          "metadata": {},
          "output_type": "display_data"
        },
        {
          "data": {
            "text/html": [
              " View project at <a href='https://wandb.ai/bilkentbitirmehavelsan-bilkent-niversitesi/huggingface' target=\"_blank\">https://wandb.ai/bilkentbitirmehavelsan-bilkent-niversitesi/huggingface</a>"
            ],
            "text/plain": [
              "<IPython.core.display.HTML object>"
            ]
          },
          "metadata": {},
          "output_type": "display_data"
        },
        {
          "data": {
            "text/html": [
              " View run at <a href='https://wandb.ai/bilkentbitirmehavelsan-bilkent-niversitesi/huggingface/runs/cpoqdg4x' target=\"_blank\">https://wandb.ai/bilkentbitirmehavelsan-bilkent-niversitesi/huggingface/runs/cpoqdg4x</a>"
            ],
            "text/plain": [
              "<IPython.core.display.HTML object>"
            ]
          },
          "metadata": {},
          "output_type": "display_data"
        },
        {
          "name": "stdout",
          "output_type": "stream",
          "text": [
            "{'eval_loss': 0.6520236730575562, 'eval_accuracy': 0.6498194945848376, 'eval_runtime': 0.6553, 'eval_samples_per_second': 422.697, 'eval_steps_per_second': 7.63, 'epoch': 1.0}\n"
          ]
        },
        {
          "name": "stderr",
          "output_type": "stream",
          "text": [
            "It seems you are trying to upload a large folder at once. This might take some time and then fail if the folder is too large. For such cases, it is recommended to upload in smaller batches or to use `HfApi().upload_large_folder(...)`/`huggingface-cli upload-large-folder` instead. For more details, check out https://huggingface.co/docs/huggingface_hub/main/en/guides/upload#upload-a-large-folder.\n",
            "WARNING:huggingface_hub.hf_api:It seems you are trying to upload a large folder at once. This might take some time and then fail if the folder is too large. For such cases, it is recommended to upload in smaller batches or to use `HfApi().upload_large_folder(...)`/`huggingface-cli upload-large-folder` instead. For more details, check out https://huggingface.co/docs/huggingface_hub/main/en/guides/upload#upload-a-large-folder.\n"
          ]
        },
        {
          "name": "stdout",
          "output_type": "stream",
          "text": [
            "{'eval_loss': 0.6644654273986816, 'eval_accuracy': 0.6425992779783394, 'eval_runtime': 0.6582, 'eval_samples_per_second': 420.823, 'eval_steps_per_second': 7.596, 'epoch': 2.0}\n",
            "{'eval_loss': 0.808093249797821, 'eval_accuracy': 0.6714801444043321, 'eval_runtime': 0.657, 'eval_samples_per_second': 421.589, 'eval_steps_per_second': 7.61, 'epoch': 3.0}\n",
            "{'eval_loss': 0.9361995458602905, 'eval_accuracy': 0.6678700361010831, 'eval_runtime': 0.6574, 'eval_samples_per_second': 421.374, 'eval_steps_per_second': 7.606, 'epoch': 4.0}\n",
            "{'train_runtime': 80.9255, 'train_samples_per_second': 123.076, 'train_steps_per_second': 3.855, 'train_loss': 0.43746434725247896, 'epoch': 4.0}\n"
          ]
        },
        {
          "name": "stderr",
          "output_type": "stream",
          "text": [
            "[I 2025-04-07 11:31:42,807] Trial 15 finished with value: 0.6678700361010831 and parameters: {'learning_rate': 4.1246175140413976e-05, 'num_train_epochs': 4, 'per_device_train_batch_size': 32, 'max_length': 512, 'classifier_dropout': 0.25486425341149616}. Best is trial 4 with value: 0.6823104693140795.\n"
          ]
        },
        {
          "data": {
            "text/html": [],
            "text/plain": [
              "<IPython.core.display.HTML object>"
            ]
          },
          "metadata": {},
          "output_type": "display_data"
        },
        {
          "data": {
            "text/html": [
              "<br>    <style><br>        .wandb-row {<br>            display: flex;<br>            flex-direction: row;<br>            flex-wrap: wrap;<br>            justify-content: flex-start;<br>            width: 100%;<br>        }<br>        .wandb-col {<br>            display: flex;<br>            flex-direction: column;<br>            flex-basis: 100%;<br>            flex: 1;<br>            padding: 10px;<br>        }<br>    </style><br><div class=\"wandb-row\"><div class=\"wandb-col\"><h3>Run history:</h3><br/><table class=\"wandb\"><tr><td>eval/accuracy</td><td>▃▁█▇</td></tr><tr><td>eval/loss</td><td>▁▁▅█</td></tr><tr><td>eval/runtime</td><td>▁█▅▆</td></tr><tr><td>eval/samples_per_second</td><td>█▁▄▃</td></tr><tr><td>eval/steps_per_second</td><td>█▁▄▃</td></tr><tr><td>train/epoch</td><td>▁▃▆██</td></tr><tr><td>train/global_step</td><td>▁▃▆██</td></tr></table><br/></div><div class=\"wandb-col\"><h3>Run summary:</h3><br/><table class=\"wandb\"><tr><td>eval/accuracy</td><td>0.66787</td></tr><tr><td>eval/loss</td><td>0.9362</td></tr><tr><td>eval/runtime</td><td>0.6574</td></tr><tr><td>eval/samples_per_second</td><td>421.374</td></tr><tr><td>eval/steps_per_second</td><td>7.606</td></tr><tr><td>total_flos</td><td>1372774736897880.0</td></tr><tr><td>train/epoch</td><td>4</td></tr><tr><td>train/global_step</td><td>312</td></tr><tr><td>train_loss</td><td>0.43746</td></tr><tr><td>train_runtime</td><td>80.9255</td></tr><tr><td>train_samples_per_second</td><td>123.076</td></tr><tr><td>train_steps_per_second</td><td>3.855</td></tr></table><br/></div></div>"
            ],
            "text/plain": [
              "<IPython.core.display.HTML object>"
            ]
          },
          "metadata": {},
          "output_type": "display_data"
        },
        {
          "data": {
            "text/html": [
              " View run <strong style=\"color:#cdcd00\">cerulean-flower-18</strong> at: <a href='https://wandb.ai/bilkentbitirmehavelsan-bilkent-niversitesi/huggingface/runs/cpoqdg4x' target=\"_blank\">https://wandb.ai/bilkentbitirmehavelsan-bilkent-niversitesi/huggingface/runs/cpoqdg4x</a><br> View project at: <a href='https://wandb.ai/bilkentbitirmehavelsan-bilkent-niversitesi/huggingface' target=\"_blank\">https://wandb.ai/bilkentbitirmehavelsan-bilkent-niversitesi/huggingface</a><br>Synced 5 W&B file(s), 0 media file(s), 0 artifact file(s) and 0 other file(s)"
            ],
            "text/plain": [
              "<IPython.core.display.HTML object>"
            ]
          },
          "metadata": {},
          "output_type": "display_data"
        },
        {
          "data": {
            "text/html": [
              "Find logs at: <code>./wandb/run-20250407_112801-cpoqdg4x/logs</code>"
            ],
            "text/plain": [
              "<IPython.core.display.HTML object>"
            ]
          },
          "metadata": {},
          "output_type": "display_data"
        },
        {
          "data": {
            "text/html": [
              "Tracking run with wandb version 0.19.9"
            ],
            "text/plain": [
              "<IPython.core.display.HTML object>"
            ]
          },
          "metadata": {},
          "output_type": "display_data"
        },
        {
          "data": {
            "text/html": [
              "Run data is saved locally in <code>/content/wandb/run-20250407_113144-lv9nbhdh</code>"
            ],
            "text/plain": [
              "<IPython.core.display.HTML object>"
            ]
          },
          "metadata": {},
          "output_type": "display_data"
        },
        {
          "data": {
            "text/html": [
              "Syncing run <strong><a href='https://wandb.ai/bilkentbitirmehavelsan-bilkent-niversitesi/huggingface/runs/lv9nbhdh' target=\"_blank\">leafy-river-19</a></strong> to <a href='https://wandb.ai/bilkentbitirmehavelsan-bilkent-niversitesi/huggingface' target=\"_blank\">Weights & Biases</a> (<a href='https://wandb.me/developer-guide' target=\"_blank\">docs</a>)<br>"
            ],
            "text/plain": [
              "<IPython.core.display.HTML object>"
            ]
          },
          "metadata": {},
          "output_type": "display_data"
        },
        {
          "data": {
            "text/html": [
              " View project at <a href='https://wandb.ai/bilkentbitirmehavelsan-bilkent-niversitesi/huggingface' target=\"_blank\">https://wandb.ai/bilkentbitirmehavelsan-bilkent-niversitesi/huggingface</a>"
            ],
            "text/plain": [
              "<IPython.core.display.HTML object>"
            ]
          },
          "metadata": {},
          "output_type": "display_data"
        },
        {
          "data": {
            "text/html": [
              " View run at <a href='https://wandb.ai/bilkentbitirmehavelsan-bilkent-niversitesi/huggingface/runs/lv9nbhdh' target=\"_blank\">https://wandb.ai/bilkentbitirmehavelsan-bilkent-niversitesi/huggingface/runs/lv9nbhdh</a>"
            ],
            "text/plain": [
              "<IPython.core.display.HTML object>"
            ]
          },
          "metadata": {},
          "output_type": "display_data"
        },
        {
          "name": "stdout",
          "output_type": "stream",
          "text": [
            "{'eval_loss': 0.6572300791740417, 'eval_accuracy': 0.6101083032490975, 'eval_runtime': 0.6549, 'eval_samples_per_second': 422.965, 'eval_steps_per_second': 7.635, 'epoch': 1.0}\n"
          ]
        },
        {
          "name": "stderr",
          "output_type": "stream",
          "text": [
            "It seems you are trying to upload a large folder at once. This might take some time and then fail if the folder is too large. For such cases, it is recommended to upload in smaller batches or to use `HfApi().upload_large_folder(...)`/`huggingface-cli upload-large-folder` instead. For more details, check out https://huggingface.co/docs/huggingface_hub/main/en/guides/upload#upload-a-large-folder.\n",
            "WARNING:huggingface_hub.hf_api:It seems you are trying to upload a large folder at once. This might take some time and then fail if the folder is too large. For such cases, it is recommended to upload in smaller batches or to use `HfApi().upload_large_folder(...)`/`huggingface-cli upload-large-folder` instead. For more details, check out https://huggingface.co/docs/huggingface_hub/main/en/guides/upload#upload-a-large-folder.\n"
          ]
        },
        {
          "name": "stdout",
          "output_type": "stream",
          "text": [
            "{'eval_loss': 0.6465311050415039, 'eval_accuracy': 0.6353790613718412, 'eval_runtime': 0.654, 'eval_samples_per_second': 423.563, 'eval_steps_per_second': 7.646, 'epoch': 2.0}\n"
          ]
        },
        {
          "name": "stderr",
          "output_type": "stream",
          "text": [
            "[I 2025-04-07 11:32:42,528] Trial 16 pruned. \n"
          ]
        },
        {
          "name": "stdout",
          "output_type": "stream",
          "text": [
            "{'eval_loss': 0.7375212907791138, 'eval_accuracy': 0.631768953068592, 'eval_runtime': 0.655, 'eval_samples_per_second': 422.884, 'eval_steps_per_second': 7.633, 'epoch': 3.0}\n"
          ]
        },
        {
          "data": {
            "text/html": [],
            "text/plain": [
              "<IPython.core.display.HTML object>"
            ]
          },
          "metadata": {},
          "output_type": "display_data"
        },
        {
          "data": {
            "text/html": [
              "<br>    <style><br>        .wandb-row {<br>            display: flex;<br>            flex-direction: row;<br>            flex-wrap: wrap;<br>            justify-content: flex-start;<br>            width: 100%;<br>        }<br>        .wandb-col {<br>            display: flex;<br>            flex-direction: column;<br>            flex-basis: 100%;<br>            flex: 1;<br>            padding: 10px;<br>        }<br>    </style><br><div class=\"wandb-row\"><div class=\"wandb-col\"><h3>Run history:</h3><br/><table class=\"wandb\"><tr><td>eval/accuracy</td><td>▁█▇</td></tr><tr><td>eval/loss</td><td>▂▁█</td></tr><tr><td>eval/runtime</td><td>▇▁█</td></tr><tr><td>eval/samples_per_second</td><td>▂█▁</td></tr><tr><td>eval/steps_per_second</td><td>▂█▁</td></tr><tr><td>train/epoch</td><td>▁▅█</td></tr><tr><td>train/global_step</td><td>▁▅█</td></tr></table><br/></div><div class=\"wandb-col\"><h3>Run summary:</h3><br/><table class=\"wandb\"><tr><td>eval/accuracy</td><td>0.63177</td></tr><tr><td>eval/loss</td><td>0.73752</td></tr><tr><td>eval/runtime</td><td>0.655</td></tr><tr><td>eval/samples_per_second</td><td>422.884</td></tr><tr><td>eval/steps_per_second</td><td>7.633</td></tr><tr><td>train/epoch</td><td>3</td></tr><tr><td>train/global_step</td><td>234</td></tr></table><br/></div></div>"
            ],
            "text/plain": [
              "<IPython.core.display.HTML object>"
            ]
          },
          "metadata": {},
          "output_type": "display_data"
        },
        {
          "data": {
            "text/html": [
              " View run <strong style=\"color:#cdcd00\">leafy-river-19</strong> at: <a href='https://wandb.ai/bilkentbitirmehavelsan-bilkent-niversitesi/huggingface/runs/lv9nbhdh' target=\"_blank\">https://wandb.ai/bilkentbitirmehavelsan-bilkent-niversitesi/huggingface/runs/lv9nbhdh</a><br> View project at: <a href='https://wandb.ai/bilkentbitirmehavelsan-bilkent-niversitesi/huggingface' target=\"_blank\">https://wandb.ai/bilkentbitirmehavelsan-bilkent-niversitesi/huggingface</a><br>Synced 5 W&B file(s), 0 media file(s), 0 artifact file(s) and 0 other file(s)"
            ],
            "text/plain": [
              "<IPython.core.display.HTML object>"
            ]
          },
          "metadata": {},
          "output_type": "display_data"
        },
        {
          "data": {
            "text/html": [
              "Find logs at: <code>./wandb/run-20250407_113144-lv9nbhdh/logs</code>"
            ],
            "text/plain": [
              "<IPython.core.display.HTML object>"
            ]
          },
          "metadata": {},
          "output_type": "display_data"
        },
        {
          "data": {
            "text/html": [
              "Tracking run with wandb version 0.19.9"
            ],
            "text/plain": [
              "<IPython.core.display.HTML object>"
            ]
          },
          "metadata": {},
          "output_type": "display_data"
        },
        {
          "data": {
            "text/html": [
              "Run data is saved locally in <code>/content/wandb/run-20250407_113243-i501821v</code>"
            ],
            "text/plain": [
              "<IPython.core.display.HTML object>"
            ]
          },
          "metadata": {},
          "output_type": "display_data"
        },
        {
          "data": {
            "text/html": [
              "Syncing run <strong><a href='https://wandb.ai/bilkentbitirmehavelsan-bilkent-niversitesi/huggingface/runs/i501821v' target=\"_blank\">devoted-brook-20</a></strong> to <a href='https://wandb.ai/bilkentbitirmehavelsan-bilkent-niversitesi/huggingface' target=\"_blank\">Weights & Biases</a> (<a href='https://wandb.me/developer-guide' target=\"_blank\">docs</a>)<br>"
            ],
            "text/plain": [
              "<IPython.core.display.HTML object>"
            ]
          },
          "metadata": {},
          "output_type": "display_data"
        },
        {
          "data": {
            "text/html": [
              " View project at <a href='https://wandb.ai/bilkentbitirmehavelsan-bilkent-niversitesi/huggingface' target=\"_blank\">https://wandb.ai/bilkentbitirmehavelsan-bilkent-niversitesi/huggingface</a>"
            ],
            "text/plain": [
              "<IPython.core.display.HTML object>"
            ]
          },
          "metadata": {},
          "output_type": "display_data"
        },
        {
          "data": {
            "text/html": [
              " View run at <a href='https://wandb.ai/bilkentbitirmehavelsan-bilkent-niversitesi/huggingface/runs/i501821v' target=\"_blank\">https://wandb.ai/bilkentbitirmehavelsan-bilkent-niversitesi/huggingface/runs/i501821v</a>"
            ],
            "text/plain": [
              "<IPython.core.display.HTML object>"
            ]
          },
          "metadata": {},
          "output_type": "display_data"
        },
        {
          "name": "stderr",
          "output_type": "stream",
          "text": [
            "[I 2025-04-07 11:33:02,558] Trial 17 pruned. \n"
          ]
        },
        {
          "name": "stdout",
          "output_type": "stream",
          "text": [
            "{'eval_loss': 0.6799482107162476, 'eval_accuracy': 0.5992779783393501, 'eval_runtime': 0.659, 'eval_samples_per_second': 420.338, 'eval_steps_per_second': 7.587, 'epoch': 1.0}\n"
          ]
        },
        {
          "data": {
            "text/html": [],
            "text/plain": [
              "<IPython.core.display.HTML object>"
            ]
          },
          "metadata": {},
          "output_type": "display_data"
        },
        {
          "data": {
            "text/html": [
              "<br>    <style><br>        .wandb-row {<br>            display: flex;<br>            flex-direction: row;<br>            flex-wrap: wrap;<br>            justify-content: flex-start;<br>            width: 100%;<br>        }<br>        .wandb-col {<br>            display: flex;<br>            flex-direction: column;<br>            flex-basis: 100%;<br>            flex: 1;<br>            padding: 10px;<br>        }<br>    </style><br><div class=\"wandb-row\"><div class=\"wandb-col\"><h3>Run history:</h3><br/><table class=\"wandb\"><tr><td>eval/accuracy</td><td>▁</td></tr><tr><td>eval/loss</td><td>▁</td></tr><tr><td>eval/runtime</td><td>▁</td></tr><tr><td>eval/samples_per_second</td><td>▁</td></tr><tr><td>eval/steps_per_second</td><td>▁</td></tr><tr><td>train/epoch</td><td>▁</td></tr><tr><td>train/global_step</td><td>▁</td></tr></table><br/></div><div class=\"wandb-col\"><h3>Run summary:</h3><br/><table class=\"wandb\"><tr><td>eval/accuracy</td><td>0.59928</td></tr><tr><td>eval/loss</td><td>0.67995</td></tr><tr><td>eval/runtime</td><td>0.659</td></tr><tr><td>eval/samples_per_second</td><td>420.338</td></tr><tr><td>eval/steps_per_second</td><td>7.587</td></tr><tr><td>train/epoch</td><td>1</td></tr><tr><td>train/global_step</td><td>156</td></tr></table><br/></div></div>"
            ],
            "text/plain": [
              "<IPython.core.display.HTML object>"
            ]
          },
          "metadata": {},
          "output_type": "display_data"
        },
        {
          "data": {
            "text/html": [
              " View run <strong style=\"color:#cdcd00\">devoted-brook-20</strong> at: <a href='https://wandb.ai/bilkentbitirmehavelsan-bilkent-niversitesi/huggingface/runs/i501821v' target=\"_blank\">https://wandb.ai/bilkentbitirmehavelsan-bilkent-niversitesi/huggingface/runs/i501821v</a><br> View project at: <a href='https://wandb.ai/bilkentbitirmehavelsan-bilkent-niversitesi/huggingface' target=\"_blank\">https://wandb.ai/bilkentbitirmehavelsan-bilkent-niversitesi/huggingface</a><br>Synced 5 W&B file(s), 0 media file(s), 0 artifact file(s) and 0 other file(s)"
            ],
            "text/plain": [
              "<IPython.core.display.HTML object>"
            ]
          },
          "metadata": {},
          "output_type": "display_data"
        },
        {
          "data": {
            "text/html": [
              "Find logs at: <code>./wandb/run-20250407_113243-i501821v/logs</code>"
            ],
            "text/plain": [
              "<IPython.core.display.HTML object>"
            ]
          },
          "metadata": {},
          "output_type": "display_data"
        },
        {
          "data": {
            "text/html": [
              "Tracking run with wandb version 0.19.9"
            ],
            "text/plain": [
              "<IPython.core.display.HTML object>"
            ]
          },
          "metadata": {},
          "output_type": "display_data"
        },
        {
          "data": {
            "text/html": [
              "Run data is saved locally in <code>/content/wandb/run-20250407_113303-zmqu4oca</code>"
            ],
            "text/plain": [
              "<IPython.core.display.HTML object>"
            ]
          },
          "metadata": {},
          "output_type": "display_data"
        },
        {
          "data": {
            "text/html": [
              "Syncing run <strong><a href='https://wandb.ai/bilkentbitirmehavelsan-bilkent-niversitesi/huggingface/runs/zmqu4oca' target=\"_blank\">silver-pine-21</a></strong> to <a href='https://wandb.ai/bilkentbitirmehavelsan-bilkent-niversitesi/huggingface' target=\"_blank\">Weights & Biases</a> (<a href='https://wandb.me/developer-guide' target=\"_blank\">docs</a>)<br>"
            ],
            "text/plain": [
              "<IPython.core.display.HTML object>"
            ]
          },
          "metadata": {},
          "output_type": "display_data"
        },
        {
          "data": {
            "text/html": [
              " View project at <a href='https://wandb.ai/bilkentbitirmehavelsan-bilkent-niversitesi/huggingface' target=\"_blank\">https://wandb.ai/bilkentbitirmehavelsan-bilkent-niversitesi/huggingface</a>"
            ],
            "text/plain": [
              "<IPython.core.display.HTML object>"
            ]
          },
          "metadata": {},
          "output_type": "display_data"
        },
        {
          "data": {
            "text/html": [
              " View run at <a href='https://wandb.ai/bilkentbitirmehavelsan-bilkent-niversitesi/huggingface/runs/zmqu4oca' target=\"_blank\">https://wandb.ai/bilkentbitirmehavelsan-bilkent-niversitesi/huggingface/runs/zmqu4oca</a>"
            ],
            "text/plain": [
              "<IPython.core.display.HTML object>"
            ]
          },
          "metadata": {},
          "output_type": "display_data"
        },
        {
          "name": "stderr",
          "output_type": "stream",
          "text": [
            "[I 2025-04-07 11:33:22,273] Trial 18 pruned. \n"
          ]
        },
        {
          "name": "stdout",
          "output_type": "stream",
          "text": [
            "{'eval_loss': 0.6608372330665588, 'eval_accuracy': 0.5884476534296029, 'eval_runtime': 0.6552, 'eval_samples_per_second': 422.795, 'eval_steps_per_second': 7.632, 'epoch': 1.0}\n"
          ]
        },
        {
          "data": {
            "text/html": [],
            "text/plain": [
              "<IPython.core.display.HTML object>"
            ]
          },
          "metadata": {},
          "output_type": "display_data"
        },
        {
          "data": {
            "text/html": [
              "<br>    <style><br>        .wandb-row {<br>            display: flex;<br>            flex-direction: row;<br>            flex-wrap: wrap;<br>            justify-content: flex-start;<br>            width: 100%;<br>        }<br>        .wandb-col {<br>            display: flex;<br>            flex-direction: column;<br>            flex-basis: 100%;<br>            flex: 1;<br>            padding: 10px;<br>        }<br>    </style><br><div class=\"wandb-row\"><div class=\"wandb-col\"><h3>Run history:</h3><br/><table class=\"wandb\"><tr><td>eval/accuracy</td><td>▁</td></tr><tr><td>eval/loss</td><td>▁</td></tr><tr><td>eval/runtime</td><td>▁</td></tr><tr><td>eval/samples_per_second</td><td>▁</td></tr><tr><td>eval/steps_per_second</td><td>▁</td></tr><tr><td>train/epoch</td><td>▁</td></tr><tr><td>train/global_step</td><td>▁</td></tr></table><br/></div><div class=\"wandb-col\"><h3>Run summary:</h3><br/><table class=\"wandb\"><tr><td>eval/accuracy</td><td>0.58845</td></tr><tr><td>eval/loss</td><td>0.66084</td></tr><tr><td>eval/runtime</td><td>0.6552</td></tr><tr><td>eval/samples_per_second</td><td>422.795</td></tr><tr><td>eval/steps_per_second</td><td>7.632</td></tr><tr><td>train/epoch</td><td>1</td></tr><tr><td>train/global_step</td><td>78</td></tr></table><br/></div></div>"
            ],
            "text/plain": [
              "<IPython.core.display.HTML object>"
            ]
          },
          "metadata": {},
          "output_type": "display_data"
        },
        {
          "data": {
            "text/html": [
              " View run <strong style=\"color:#cdcd00\">silver-pine-21</strong> at: <a href='https://wandb.ai/bilkentbitirmehavelsan-bilkent-niversitesi/huggingface/runs/zmqu4oca' target=\"_blank\">https://wandb.ai/bilkentbitirmehavelsan-bilkent-niversitesi/huggingface/runs/zmqu4oca</a><br> View project at: <a href='https://wandb.ai/bilkentbitirmehavelsan-bilkent-niversitesi/huggingface' target=\"_blank\">https://wandb.ai/bilkentbitirmehavelsan-bilkent-niversitesi/huggingface</a><br>Synced 5 W&B file(s), 0 media file(s), 0 artifact file(s) and 0 other file(s)"
            ],
            "text/plain": [
              "<IPython.core.display.HTML object>"
            ]
          },
          "metadata": {},
          "output_type": "display_data"
        },
        {
          "data": {
            "text/html": [
              "Find logs at: <code>./wandb/run-20250407_113303-zmqu4oca/logs</code>"
            ],
            "text/plain": [
              "<IPython.core.display.HTML object>"
            ]
          },
          "metadata": {},
          "output_type": "display_data"
        },
        {
          "data": {
            "text/html": [
              "Tracking run with wandb version 0.19.9"
            ],
            "text/plain": [
              "<IPython.core.display.HTML object>"
            ]
          },
          "metadata": {},
          "output_type": "display_data"
        },
        {
          "data": {
            "text/html": [
              "Run data is saved locally in <code>/content/wandb/run-20250407_113323-rkwj3f63</code>"
            ],
            "text/plain": [
              "<IPython.core.display.HTML object>"
            ]
          },
          "metadata": {},
          "output_type": "display_data"
        },
        {
          "data": {
            "text/html": [
              "Syncing run <strong><a href='https://wandb.ai/bilkentbitirmehavelsan-bilkent-niversitesi/huggingface/runs/rkwj3f63' target=\"_blank\">dauntless-glade-22</a></strong> to <a href='https://wandb.ai/bilkentbitirmehavelsan-bilkent-niversitesi/huggingface' target=\"_blank\">Weights & Biases</a> (<a href='https://wandb.me/developer-guide' target=\"_blank\">docs</a>)<br>"
            ],
            "text/plain": [
              "<IPython.core.display.HTML object>"
            ]
          },
          "metadata": {},
          "output_type": "display_data"
        },
        {
          "data": {
            "text/html": [
              " View project at <a href='https://wandb.ai/bilkentbitirmehavelsan-bilkent-niversitesi/huggingface' target=\"_blank\">https://wandb.ai/bilkentbitirmehavelsan-bilkent-niversitesi/huggingface</a>"
            ],
            "text/plain": [
              "<IPython.core.display.HTML object>"
            ]
          },
          "metadata": {},
          "output_type": "display_data"
        },
        {
          "data": {
            "text/html": [
              " View run at <a href='https://wandb.ai/bilkentbitirmehavelsan-bilkent-niversitesi/huggingface/runs/rkwj3f63' target=\"_blank\">https://wandb.ai/bilkentbitirmehavelsan-bilkent-niversitesi/huggingface/runs/rkwj3f63</a>"
            ],
            "text/plain": [
              "<IPython.core.display.HTML object>"
            ]
          },
          "metadata": {},
          "output_type": "display_data"
        },
        {
          "name": "stderr",
          "output_type": "stream",
          "text": [
            "[I 2025-04-07 11:33:42,550] Trial 19 pruned. \n"
          ]
        },
        {
          "name": "stdout",
          "output_type": "stream",
          "text": [
            "{'eval_loss': 0.6783820390701294, 'eval_accuracy': 0.5848375451263538, 'eval_runtime': 0.6645, 'eval_samples_per_second': 416.859, 'eval_steps_per_second': 7.525, 'epoch': 1.0}\n"
          ]
        },
        {
          "data": {
            "text/html": [],
            "text/plain": [
              "<IPython.core.display.HTML object>"
            ]
          },
          "metadata": {},
          "output_type": "display_data"
        },
        {
          "data": {
            "text/html": [
              "<br>    <style><br>        .wandb-row {<br>            display: flex;<br>            flex-direction: row;<br>            flex-wrap: wrap;<br>            justify-content: flex-start;<br>            width: 100%;<br>        }<br>        .wandb-col {<br>            display: flex;<br>            flex-direction: column;<br>            flex-basis: 100%;<br>            flex: 1;<br>            padding: 10px;<br>        }<br>    </style><br><div class=\"wandb-row\"><div class=\"wandb-col\"><h3>Run history:</h3><br/><table class=\"wandb\"><tr><td>eval/accuracy</td><td>▁</td></tr><tr><td>eval/loss</td><td>▁</td></tr><tr><td>eval/runtime</td><td>▁</td></tr><tr><td>eval/samples_per_second</td><td>▁</td></tr><tr><td>eval/steps_per_second</td><td>▁</td></tr><tr><td>train/epoch</td><td>▁</td></tr><tr><td>train/global_step</td><td>▁</td></tr></table><br/></div><div class=\"wandb-col\"><h3>Run summary:</h3><br/><table class=\"wandb\"><tr><td>eval/accuracy</td><td>0.58484</td></tr><tr><td>eval/loss</td><td>0.67838</td></tr><tr><td>eval/runtime</td><td>0.6645</td></tr><tr><td>eval/samples_per_second</td><td>416.859</td></tr><tr><td>eval/steps_per_second</td><td>7.525</td></tr><tr><td>train/epoch</td><td>1</td></tr><tr><td>train/global_step</td><td>156</td></tr></table><br/></div></div>"
            ],
            "text/plain": [
              "<IPython.core.display.HTML object>"
            ]
          },
          "metadata": {},
          "output_type": "display_data"
        },
        {
          "data": {
            "text/html": [
              " View run <strong style=\"color:#cdcd00\">dauntless-glade-22</strong> at: <a href='https://wandb.ai/bilkentbitirmehavelsan-bilkent-niversitesi/huggingface/runs/rkwj3f63' target=\"_blank\">https://wandb.ai/bilkentbitirmehavelsan-bilkent-niversitesi/huggingface/runs/rkwj3f63</a><br> View project at: <a href='https://wandb.ai/bilkentbitirmehavelsan-bilkent-niversitesi/huggingface' target=\"_blank\">https://wandb.ai/bilkentbitirmehavelsan-bilkent-niversitesi/huggingface</a><br>Synced 5 W&B file(s), 0 media file(s), 0 artifact file(s) and 0 other file(s)"
            ],
            "text/plain": [
              "<IPython.core.display.HTML object>"
            ]
          },
          "metadata": {},
          "output_type": "display_data"
        },
        {
          "data": {
            "text/html": [
              "Find logs at: <code>./wandb/run-20250407_113323-rkwj3f63/logs</code>"
            ],
            "text/plain": [
              "<IPython.core.display.HTML object>"
            ]
          },
          "metadata": {},
          "output_type": "display_data"
        },
        {
          "data": {
            "text/html": [
              "Tracking run with wandb version 0.19.9"
            ],
            "text/plain": [
              "<IPython.core.display.HTML object>"
            ]
          },
          "metadata": {},
          "output_type": "display_data"
        },
        {
          "data": {
            "text/html": [
              "Run data is saved locally in <code>/content/wandb/run-20250407_113344-iyc8yzt2</code>"
            ],
            "text/plain": [
              "<IPython.core.display.HTML object>"
            ]
          },
          "metadata": {},
          "output_type": "display_data"
        },
        {
          "data": {
            "text/html": [
              "Syncing run <strong><a href='https://wandb.ai/bilkentbitirmehavelsan-bilkent-niversitesi/huggingface/runs/iyc8yzt2' target=\"_blank\">ruby-water-23</a></strong> to <a href='https://wandb.ai/bilkentbitirmehavelsan-bilkent-niversitesi/huggingface' target=\"_blank\">Weights & Biases</a> (<a href='https://wandb.me/developer-guide' target=\"_blank\">docs</a>)<br>"
            ],
            "text/plain": [
              "<IPython.core.display.HTML object>"
            ]
          },
          "metadata": {},
          "output_type": "display_data"
        },
        {
          "data": {
            "text/html": [
              " View project at <a href='https://wandb.ai/bilkentbitirmehavelsan-bilkent-niversitesi/huggingface' target=\"_blank\">https://wandb.ai/bilkentbitirmehavelsan-bilkent-niversitesi/huggingface</a>"
            ],
            "text/plain": [
              "<IPython.core.display.HTML object>"
            ]
          },
          "metadata": {},
          "output_type": "display_data"
        },
        {
          "data": {
            "text/html": [
              " View run at <a href='https://wandb.ai/bilkentbitirmehavelsan-bilkent-niversitesi/huggingface/runs/iyc8yzt2' target=\"_blank\">https://wandb.ai/bilkentbitirmehavelsan-bilkent-niversitesi/huggingface/runs/iyc8yzt2</a>"
            ],
            "text/plain": [
              "<IPython.core.display.HTML object>"
            ]
          },
          "metadata": {},
          "output_type": "display_data"
        },
        {
          "name": "stderr",
          "output_type": "stream",
          "text": [
            "[I 2025-04-07 11:34:02,643] Trial 20 pruned. \n"
          ]
        },
        {
          "name": "stdout",
          "output_type": "stream",
          "text": [
            "{'eval_loss': 0.6954227685928345, 'eval_accuracy': 0.47653429602888087, 'eval_runtime': 0.6581, 'eval_samples_per_second': 420.904, 'eval_steps_per_second': 7.598, 'epoch': 1.0}\n"
          ]
        },
        {
          "data": {
            "text/html": [],
            "text/plain": [
              "<IPython.core.display.HTML object>"
            ]
          },
          "metadata": {},
          "output_type": "display_data"
        },
        {
          "data": {
            "text/html": [
              "<br>    <style><br>        .wandb-row {<br>            display: flex;<br>            flex-direction: row;<br>            flex-wrap: wrap;<br>            justify-content: flex-start;<br>            width: 100%;<br>        }<br>        .wandb-col {<br>            display: flex;<br>            flex-direction: column;<br>            flex-basis: 100%;<br>            flex: 1;<br>            padding: 10px;<br>        }<br>    </style><br><div class=\"wandb-row\"><div class=\"wandb-col\"><h3>Run history:</h3><br/><table class=\"wandb\"><tr><td>eval/accuracy</td><td>▁</td></tr><tr><td>eval/loss</td><td>▁</td></tr><tr><td>eval/runtime</td><td>▁</td></tr><tr><td>eval/samples_per_second</td><td>▁</td></tr><tr><td>eval/steps_per_second</td><td>▁</td></tr><tr><td>train/epoch</td><td>▁</td></tr><tr><td>train/global_step</td><td>▁</td></tr></table><br/></div><div class=\"wandb-col\"><h3>Run summary:</h3><br/><table class=\"wandb\"><tr><td>eval/accuracy</td><td>0.47653</td></tr><tr><td>eval/loss</td><td>0.69542</td></tr><tr><td>eval/runtime</td><td>0.6581</td></tr><tr><td>eval/samples_per_second</td><td>420.904</td></tr><tr><td>eval/steps_per_second</td><td>7.598</td></tr><tr><td>train/epoch</td><td>1</td></tr><tr><td>train/global_step</td><td>78</td></tr></table><br/></div></div>"
            ],
            "text/plain": [
              "<IPython.core.display.HTML object>"
            ]
          },
          "metadata": {},
          "output_type": "display_data"
        },
        {
          "data": {
            "text/html": [
              " View run <strong style=\"color:#cdcd00\">ruby-water-23</strong> at: <a href='https://wandb.ai/bilkentbitirmehavelsan-bilkent-niversitesi/huggingface/runs/iyc8yzt2' target=\"_blank\">https://wandb.ai/bilkentbitirmehavelsan-bilkent-niversitesi/huggingface/runs/iyc8yzt2</a><br> View project at: <a href='https://wandb.ai/bilkentbitirmehavelsan-bilkent-niversitesi/huggingface' target=\"_blank\">https://wandb.ai/bilkentbitirmehavelsan-bilkent-niversitesi/huggingface</a><br>Synced 5 W&B file(s), 0 media file(s), 0 artifact file(s) and 0 other file(s)"
            ],
            "text/plain": [
              "<IPython.core.display.HTML object>"
            ]
          },
          "metadata": {},
          "output_type": "display_data"
        },
        {
          "data": {
            "text/html": [
              "Find logs at: <code>./wandb/run-20250407_113344-iyc8yzt2/logs</code>"
            ],
            "text/plain": [
              "<IPython.core.display.HTML object>"
            ]
          },
          "metadata": {},
          "output_type": "display_data"
        },
        {
          "data": {
            "text/html": [
              "Tracking run with wandb version 0.19.9"
            ],
            "text/plain": [
              "<IPython.core.display.HTML object>"
            ]
          },
          "metadata": {},
          "output_type": "display_data"
        },
        {
          "data": {
            "text/html": [
              "Run data is saved locally in <code>/content/wandb/run-20250407_113403-igr3wieg</code>"
            ],
            "text/plain": [
              "<IPython.core.display.HTML object>"
            ]
          },
          "metadata": {},
          "output_type": "display_data"
        },
        {
          "data": {
            "text/html": [
              "Syncing run <strong><a href='https://wandb.ai/bilkentbitirmehavelsan-bilkent-niversitesi/huggingface/runs/igr3wieg' target=\"_blank\">scarlet-energy-24</a></strong> to <a href='https://wandb.ai/bilkentbitirmehavelsan-bilkent-niversitesi/huggingface' target=\"_blank\">Weights & Biases</a> (<a href='https://wandb.me/developer-guide' target=\"_blank\">docs</a>)<br>"
            ],
            "text/plain": [
              "<IPython.core.display.HTML object>"
            ]
          },
          "metadata": {},
          "output_type": "display_data"
        },
        {
          "data": {
            "text/html": [
              " View project at <a href='https://wandb.ai/bilkentbitirmehavelsan-bilkent-niversitesi/huggingface' target=\"_blank\">https://wandb.ai/bilkentbitirmehavelsan-bilkent-niversitesi/huggingface</a>"
            ],
            "text/plain": [
              "<IPython.core.display.HTML object>"
            ]
          },
          "metadata": {},
          "output_type": "display_data"
        },
        {
          "data": {
            "text/html": [
              " View run at <a href='https://wandb.ai/bilkentbitirmehavelsan-bilkent-niversitesi/huggingface/runs/igr3wieg' target=\"_blank\">https://wandb.ai/bilkentbitirmehavelsan-bilkent-niversitesi/huggingface/runs/igr3wieg</a>"
            ],
            "text/plain": [
              "<IPython.core.display.HTML object>"
            ]
          },
          "metadata": {},
          "output_type": "display_data"
        },
        {
          "name": "stdout",
          "output_type": "stream",
          "text": [
            "{'eval_loss': 0.6395881772041321, 'eval_accuracy': 0.6570397111913358, 'eval_runtime': 0.6552, 'eval_samples_per_second': 422.744, 'eval_steps_per_second': 7.631, 'epoch': 1.0}\n",
            "{'eval_loss': 0.6425312757492065, 'eval_accuracy': 0.6498194945848376, 'eval_runtime': 0.658, 'eval_samples_per_second': 421.003, 'eval_steps_per_second': 7.599, 'epoch': 2.0}\n",
            "{'eval_loss': 0.7632268071174622, 'eval_accuracy': 0.6714801444043321, 'eval_runtime': 0.6685, 'eval_samples_per_second': 414.351, 'eval_steps_per_second': 7.479, 'epoch': 3.0}\n",
            "{'train_runtime': 60.511, 'train_samples_per_second': 123.449, 'train_steps_per_second': 3.867, 'train_loss': 0.5230225131043003, 'epoch': 3.0}\n"
          ]
        },
        {
          "name": "stderr",
          "output_type": "stream",
          "text": [
            "[I 2025-04-07 11:35:58,170] Trial 21 finished with value: 0.6714801444043321 and parameters: {'learning_rate': 4.6822290592000956e-05, 'num_train_epochs': 3, 'per_device_train_batch_size': 32, 'max_length': 512, 'classifier_dropout': 0.21214519455345757}. Best is trial 4 with value: 0.6823104693140795.\n"
          ]
        },
        {
          "data": {
            "text/html": [],
            "text/plain": [
              "<IPython.core.display.HTML object>"
            ]
          },
          "metadata": {},
          "output_type": "display_data"
        },
        {
          "data": {
            "text/html": [
              "<br>    <style><br>        .wandb-row {<br>            display: flex;<br>            flex-direction: row;<br>            flex-wrap: wrap;<br>            justify-content: flex-start;<br>            width: 100%;<br>        }<br>        .wandb-col {<br>            display: flex;<br>            flex-direction: column;<br>            flex-basis: 100%;<br>            flex: 1;<br>            padding: 10px;<br>        }<br>    </style><br><div class=\"wandb-row\"><div class=\"wandb-col\"><h3>Run history:</h3><br/><table class=\"wandb\"><tr><td>eval/accuracy</td><td>▃▁█</td></tr><tr><td>eval/loss</td><td>▁▁█</td></tr><tr><td>eval/runtime</td><td>▁▂█</td></tr><tr><td>eval/samples_per_second</td><td>█▇▁</td></tr><tr><td>eval/steps_per_second</td><td>█▇▁</td></tr><tr><td>train/epoch</td><td>▁▅██</td></tr><tr><td>train/global_step</td><td>▁▅██</td></tr></table><br/></div><div class=\"wandb-col\"><h3>Run summary:</h3><br/><table class=\"wandb\"><tr><td>eval/accuracy</td><td>0.67148</td></tr><tr><td>eval/loss</td><td>0.76323</td></tr><tr><td>eval/runtime</td><td>0.6685</td></tr><tr><td>eval/samples_per_second</td><td>414.351</td></tr><tr><td>eval/steps_per_second</td><td>7.479</td></tr><tr><td>total_flos</td><td>2278778128256400.0</td></tr><tr><td>train/epoch</td><td>3</td></tr><tr><td>train/global_step</td><td>234</td></tr><tr><td>train_loss</td><td>0.52302</td></tr><tr><td>train_runtime</td><td>60.511</td></tr><tr><td>train_samples_per_second</td><td>123.449</td></tr><tr><td>train_steps_per_second</td><td>3.867</td></tr></table><br/></div></div>"
            ],
            "text/plain": [
              "<IPython.core.display.HTML object>"
            ]
          },
          "metadata": {},
          "output_type": "display_data"
        },
        {
          "data": {
            "text/html": [
              " View run <strong style=\"color:#cdcd00\">scarlet-energy-24</strong> at: <a href='https://wandb.ai/bilkentbitirmehavelsan-bilkent-niversitesi/huggingface/runs/igr3wieg' target=\"_blank\">https://wandb.ai/bilkentbitirmehavelsan-bilkent-niversitesi/huggingface/runs/igr3wieg</a><br> View project at: <a href='https://wandb.ai/bilkentbitirmehavelsan-bilkent-niversitesi/huggingface' target=\"_blank\">https://wandb.ai/bilkentbitirmehavelsan-bilkent-niversitesi/huggingface</a><br>Synced 5 W&B file(s), 0 media file(s), 0 artifact file(s) and 0 other file(s)"
            ],
            "text/plain": [
              "<IPython.core.display.HTML object>"
            ]
          },
          "metadata": {},
          "output_type": "display_data"
        },
        {
          "data": {
            "text/html": [
              "Find logs at: <code>./wandb/run-20250407_113403-igr3wieg/logs</code>"
            ],
            "text/plain": [
              "<IPython.core.display.HTML object>"
            ]
          },
          "metadata": {},
          "output_type": "display_data"
        },
        {
          "data": {
            "text/html": [
              "Tracking run with wandb version 0.19.9"
            ],
            "text/plain": [
              "<IPython.core.display.HTML object>"
            ]
          },
          "metadata": {},
          "output_type": "display_data"
        },
        {
          "data": {
            "text/html": [
              "Run data is saved locally in <code>/content/wandb/run-20250407_113559-u8k9ialk</code>"
            ],
            "text/plain": [
              "<IPython.core.display.HTML object>"
            ]
          },
          "metadata": {},
          "output_type": "display_data"
        },
        {
          "data": {
            "text/html": [
              "Syncing run <strong><a href='https://wandb.ai/bilkentbitirmehavelsan-bilkent-niversitesi/huggingface/runs/u8k9ialk' target=\"_blank\">comic-star-25</a></strong> to <a href='https://wandb.ai/bilkentbitirmehavelsan-bilkent-niversitesi/huggingface' target=\"_blank\">Weights & Biases</a> (<a href='https://wandb.me/developer-guide' target=\"_blank\">docs</a>)<br>"
            ],
            "text/plain": [
              "<IPython.core.display.HTML object>"
            ]
          },
          "metadata": {},
          "output_type": "display_data"
        },
        {
          "data": {
            "text/html": [
              " View project at <a href='https://wandb.ai/bilkentbitirmehavelsan-bilkent-niversitesi/huggingface' target=\"_blank\">https://wandb.ai/bilkentbitirmehavelsan-bilkent-niversitesi/huggingface</a>"
            ],
            "text/plain": [
              "<IPython.core.display.HTML object>"
            ]
          },
          "metadata": {},
          "output_type": "display_data"
        },
        {
          "data": {
            "text/html": [
              " View run at <a href='https://wandb.ai/bilkentbitirmehavelsan-bilkent-niversitesi/huggingface/runs/u8k9ialk' target=\"_blank\">https://wandb.ai/bilkentbitirmehavelsan-bilkent-niversitesi/huggingface/runs/u8k9ialk</a>"
            ],
            "text/plain": [
              "<IPython.core.display.HTML object>"
            ]
          },
          "metadata": {},
          "output_type": "display_data"
        },
        {
          "name": "stderr",
          "output_type": "stream",
          "text": [
            "[I 2025-04-07 11:36:17,960] Trial 22 pruned. \n"
          ]
        },
        {
          "name": "stdout",
          "output_type": "stream",
          "text": [
            "{'eval_loss': 0.6643483638763428, 'eval_accuracy': 0.6028880866425993, 'eval_runtime': 0.6551, 'eval_samples_per_second': 422.826, 'eval_steps_per_second': 7.632, 'epoch': 1.0}\n"
          ]
        },
        {
          "data": {
            "text/html": [],
            "text/plain": [
              "<IPython.core.display.HTML object>"
            ]
          },
          "metadata": {},
          "output_type": "display_data"
        },
        {
          "data": {
            "text/html": [
              "<br>    <style><br>        .wandb-row {<br>            display: flex;<br>            flex-direction: row;<br>            flex-wrap: wrap;<br>            justify-content: flex-start;<br>            width: 100%;<br>        }<br>        .wandb-col {<br>            display: flex;<br>            flex-direction: column;<br>            flex-basis: 100%;<br>            flex: 1;<br>            padding: 10px;<br>        }<br>    </style><br><div class=\"wandb-row\"><div class=\"wandb-col\"><h3>Run history:</h3><br/><table class=\"wandb\"><tr><td>eval/accuracy</td><td>▁</td></tr><tr><td>eval/loss</td><td>▁</td></tr><tr><td>eval/runtime</td><td>▁</td></tr><tr><td>eval/samples_per_second</td><td>▁</td></tr><tr><td>eval/steps_per_second</td><td>▁</td></tr><tr><td>train/epoch</td><td>▁</td></tr><tr><td>train/global_step</td><td>▁</td></tr></table><br/></div><div class=\"wandb-col\"><h3>Run summary:</h3><br/><table class=\"wandb\"><tr><td>eval/accuracy</td><td>0.60289</td></tr><tr><td>eval/loss</td><td>0.66435</td></tr><tr><td>eval/runtime</td><td>0.6551</td></tr><tr><td>eval/samples_per_second</td><td>422.826</td></tr><tr><td>eval/steps_per_second</td><td>7.632</td></tr><tr><td>train/epoch</td><td>1</td></tr><tr><td>train/global_step</td><td>78</td></tr></table><br/></div></div>"
            ],
            "text/plain": [
              "<IPython.core.display.HTML object>"
            ]
          },
          "metadata": {},
          "output_type": "display_data"
        },
        {
          "data": {
            "text/html": [
              " View run <strong style=\"color:#cdcd00\">comic-star-25</strong> at: <a href='https://wandb.ai/bilkentbitirmehavelsan-bilkent-niversitesi/huggingface/runs/u8k9ialk' target=\"_blank\">https://wandb.ai/bilkentbitirmehavelsan-bilkent-niversitesi/huggingface/runs/u8k9ialk</a><br> View project at: <a href='https://wandb.ai/bilkentbitirmehavelsan-bilkent-niversitesi/huggingface' target=\"_blank\">https://wandb.ai/bilkentbitirmehavelsan-bilkent-niversitesi/huggingface</a><br>Synced 5 W&B file(s), 0 media file(s), 0 artifact file(s) and 0 other file(s)"
            ],
            "text/plain": [
              "<IPython.core.display.HTML object>"
            ]
          },
          "metadata": {},
          "output_type": "display_data"
        },
        {
          "data": {
            "text/html": [
              "Find logs at: <code>./wandb/run-20250407_113559-u8k9ialk/logs</code>"
            ],
            "text/plain": [
              "<IPython.core.display.HTML object>"
            ]
          },
          "metadata": {},
          "output_type": "display_data"
        },
        {
          "data": {
            "text/html": [
              "Tracking run with wandb version 0.19.9"
            ],
            "text/plain": [
              "<IPython.core.display.HTML object>"
            ]
          },
          "metadata": {},
          "output_type": "display_data"
        },
        {
          "data": {
            "text/html": [
              "Run data is saved locally in <code>/content/wandb/run-20250407_113619-vk2w7tfj</code>"
            ],
            "text/plain": [
              "<IPython.core.display.HTML object>"
            ]
          },
          "metadata": {},
          "output_type": "display_data"
        },
        {
          "data": {
            "text/html": [
              "Syncing run <strong><a href='https://wandb.ai/bilkentbitirmehavelsan-bilkent-niversitesi/huggingface/runs/vk2w7tfj' target=\"_blank\">solar-vortex-26</a></strong> to <a href='https://wandb.ai/bilkentbitirmehavelsan-bilkent-niversitesi/huggingface' target=\"_blank\">Weights & Biases</a> (<a href='https://wandb.me/developer-guide' target=\"_blank\">docs</a>)<br>"
            ],
            "text/plain": [
              "<IPython.core.display.HTML object>"
            ]
          },
          "metadata": {},
          "output_type": "display_data"
        },
        {
          "data": {
            "text/html": [
              " View project at <a href='https://wandb.ai/bilkentbitirmehavelsan-bilkent-niversitesi/huggingface' target=\"_blank\">https://wandb.ai/bilkentbitirmehavelsan-bilkent-niversitesi/huggingface</a>"
            ],
            "text/plain": [
              "<IPython.core.display.HTML object>"
            ]
          },
          "metadata": {},
          "output_type": "display_data"
        },
        {
          "data": {
            "text/html": [
              " View run at <a href='https://wandb.ai/bilkentbitirmehavelsan-bilkent-niversitesi/huggingface/runs/vk2w7tfj' target=\"_blank\">https://wandb.ai/bilkentbitirmehavelsan-bilkent-niversitesi/huggingface/runs/vk2w7tfj</a>"
            ],
            "text/plain": [
              "<IPython.core.display.HTML object>"
            ]
          },
          "metadata": {},
          "output_type": "display_data"
        },
        {
          "name": "stderr",
          "output_type": "stream",
          "text": [
            "[I 2025-04-07 11:36:37,714] Trial 23 pruned. \n"
          ]
        },
        {
          "name": "stdout",
          "output_type": "stream",
          "text": [
            "{'eval_loss': 0.7011489868164062, 'eval_accuracy': 0.4981949458483754, 'eval_runtime': 0.6577, 'eval_samples_per_second': 421.19, 'eval_steps_per_second': 7.603, 'epoch': 1.0}\n"
          ]
        }
      ],
      "source": [
        "best_run = trainer.hyperparameter_search(hp_space = my_hp_space, backend = \"optuna\", n_trials=24, direction=\"maximize\")"
      ]
    },
    {
      "cell_type": "code",
      "execution_count": null,
      "metadata": {
        "colab": {
          "base_uri": "https://localhost:8080/"
        },
        "id": "Psi4JymeIrJs",
        "outputId": "e1cfd951-7b76-4a77-f3f7-0402e6165f59"
      },
      "outputs": [
        {
          "data": {
            "text/plain": [
              "BestRun(run_id='4', objective=0.6823104693140795, hyperparameters={'learning_rate': 3.7693294228753754e-05, 'num_train_epochs': 4, 'per_device_train_batch_size': 16, 'max_length': 512, 'classifier_dropout': 0.10166181013063974}, run_summary=None)"
            ]
          },
          "execution_count": 41,
          "metadata": {},
          "output_type": "execute_result"
        }
      ],
      "source": [
        "best_run"
      ]
    },
    {
      "cell_type": "code",
      "execution_count": null,
      "metadata": {
        "colab": {
          "base_uri": "https://localhost:8080/"
        },
        "id": "EsJ6sqdGIrJu",
        "outputId": "647665eb-959f-4e3f-e32b-6a1a98475222"
      },
      "outputs": [
        {
          "name": "stdout",
          "output_type": "stream",
          "text": [
            "{'eval_loss': 0.6470687389373779, 'eval_accuracy': 0.628158844765343, 'eval_runtime': 0.6546, 'eval_samples_per_second': 423.142, 'eval_steps_per_second': 7.638, 'epoch': 1.0}\n"
          ]
        },
        {
          "name": "stderr",
          "output_type": "stream",
          "text": [
            "It seems you are trying to upload a large folder at once. This might take some time and then fail if the folder is too large. For such cases, it is recommended to upload in smaller batches or to use `HfApi().upload_large_folder(...)`/`huggingface-cli upload-large-folder` instead. For more details, check out https://huggingface.co/docs/huggingface_hub/main/en/guides/upload#upload-a-large-folder.\n",
            "WARNING:huggingface_hub.hf_api:It seems you are trying to upload a large folder at once. This might take some time and then fail if the folder is too large. For such cases, it is recommended to upload in smaller batches or to use `HfApi().upload_large_folder(...)`/`huggingface-cli upload-large-folder` instead. For more details, check out https://huggingface.co/docs/huggingface_hub/main/en/guides/upload#upload-a-large-folder.\n"
          ]
        },
        {
          "name": "stdout",
          "output_type": "stream",
          "text": [
            "{'eval_loss': 0.6231392025947571, 'eval_accuracy': 0.6750902527075813, 'eval_runtime': 0.6552, 'eval_samples_per_second': 422.76, 'eval_steps_per_second': 7.631, 'epoch': 2.0}\n",
            "{'eval_loss': 0.8376210331916809, 'eval_accuracy': 0.6714801444043321, 'eval_runtime': 0.657, 'eval_samples_per_second': 421.598, 'eval_steps_per_second': 7.61, 'epoch': 3.0}\n",
            "{'loss': 0.4742, 'grad_norm': 13.06845760345459, 'learning_rate': 7.4903341095600405e-06, 'epoch': 3.2051282051282053}\n",
            "{'eval_loss': 1.058768391609192, 'eval_accuracy': 0.6750902527075813, 'eval_runtime': 0.6548, 'eval_samples_per_second': 423.036, 'eval_steps_per_second': 7.636, 'epoch': 4.0}\n",
            "{'train_runtime': 79.3126, 'train_samples_per_second': 125.579, 'train_steps_per_second': 7.868, 'train_loss': 0.4113004207611084, 'epoch': 4.0}\n"
          ]
        },
        {
          "data": {
            "text/plain": [
              "TrainOutput(global_step=624, training_loss=0.4113004207611084, metrics={'train_runtime': 79.3126, 'train_samples_per_second': 125.579, 'train_steps_per_second': 7.868, 'train_loss': 0.4113004207611084, 'epoch': 4.0})"
            ]
          },
          "execution_count": 42,
          "metadata": {},
          "output_type": "execute_result"
        }
      ],
      "source": [
        "for n, v in best_run.hyperparameters.items():\n",
        "    setattr(trainer.args, n, v)\n",
        "\n",
        "trainer.train()\n"
      ]
    },
    {
      "cell_type": "code",
      "execution_count": null,
      "metadata": {
        "colab": {
          "base_uri": "https://localhost:8080/",
          "height": 156,
          "referenced_widgets": [
            "b69cf1697d744986ab888b671ecdc04e",
            "7091b35cc0f749a885a4c87073fda768",
            "c930f2c314314182ba864aa754ec54b5",
            "6f2d55b6411240ebb91bd9aaf0e64ae7",
            "c8c0a66da38e40878dcdd650079855ac",
            "a21c1ad0d98a42168212381b436944d2",
            "aa70cf15340049e18dd14a33bde07822",
            "b17178ab50b54e2da8a45a8b43b7ae5b",
            "dd749e00501b4e908d22cb4746775d41",
            "f91bf371160e4b798ebd1b05a9cea705",
            "78b727b6460c453d99c197a516c73ef1"
          ]
        },
        "id": "_yOLRlAfIQmA",
        "outputId": "b9c26aeb-b415-4247-9e26-8a63133afb8f"
      },
      "outputs": [
        {
          "name": "stderr",
          "output_type": "stream",
          "text": [
            "It seems you are trying to upload a large folder at once. This might take some time and then fail if the folder is too large. For such cases, it is recommended to upload in smaller batches or to use `HfApi().upload_large_folder(...)`/`huggingface-cli upload-large-folder` instead. For more details, check out https://huggingface.co/docs/huggingface_hub/main/en/guides/upload#upload-a-large-folder.\n",
            "WARNING:huggingface_hub.hf_api:It seems you are trying to upload a large folder at once. This might take some time and then fail if the folder is too large. For such cases, it is recommended to upload in smaller batches or to use `HfApi().upload_large_folder(...)`/`huggingface-cli upload-large-folder` instead. For more details, check out https://huggingface.co/docs/huggingface_hub/main/en/guides/upload#upload-a-large-folder.\n"
          ]
        },
        {
          "data": {
            "application/vnd.jupyter.widget-view+json": {
              "model_id": "b69cf1697d744986ab888b671ecdc04e",
              "version_major": 2,
              "version_minor": 0
            },
            "text/plain": [
              "model.safetensors:   0%|          | 0.00/438M [00:00<?, ?B/s]"
            ]
          },
          "metadata": {},
          "output_type": "display_data"
        },
        {
          "data": {
            "application/vnd.google.colaboratory.intrinsic+json": {
              "type": "string"
            },
            "text/plain": [
              "CommitInfo(commit_url='https://huggingface.co/berkayaltntas/bert-base-uncased-finetuned-rte-run_3/commit/3190af991288a0de5ba6d2f8a6775d260cd24575', commit_message='End of training', commit_description='', oid='3190af991288a0de5ba6d2f8a6775d260cd24575', pr_url=None, repo_url=RepoUrl('https://huggingface.co/berkayaltntas/bert-base-uncased-finetuned-rte-run_3', endpoint='https://huggingface.co', repo_type='model', repo_id='berkayaltntas/bert-base-uncased-finetuned-rte-run_3'), pr_revision=None, pr_num=None)"
            ]
          },
          "execution_count": 43,
          "metadata": {},
          "output_type": "execute_result"
        }
      ],
      "source": [
        "trainer.push_to_hub()"
      ]
    },
    {
      "cell_type": "code",
      "execution_count": null,
      "metadata": {
        "id": "2OyHQtvZLwDr"
      },
      "outputs": [],
      "source": []
    }
  ],
  "metadata": {
    "accelerator": "GPU",
    "colab": {
      "gpuClass": "premium",
      "gpuType": "A100",
      "machine_shape": "hm",
      "provenance": []
    },
    "kernelspec": {
      "display_name": "Python 3",
      "name": "python3"
    },
    "language_info": {
      "codemirror_mode": {
        "name": "ipython",
        "version": 3
      },
      "file_extension": ".py",
      "mimetype": "text/x-python",
      "name": "python",
      "nbconvert_exporter": "python",
      "pygments_lexer": "ipython3",
      "version": "3.10.16"
    },
    "widgets": {
      "application/vnd.jupyter.widget-state+json": {
        "1aea8bf89ad6475e9ec72753d3911552": {
          "model_module": "@jupyter-widgets/controls",
          "model_module_version": "1.5.0",
          "model_name": "HTMLModel",
          "state": {
            "_dom_classes": [],
            "_model_module": "@jupyter-widgets/controls",
            "_model_module_version": "1.5.0",
            "_model_name": "HTMLModel",
            "_view_count": null,
            "_view_module": "@jupyter-widgets/controls",
            "_view_module_version": "1.5.0",
            "_view_name": "HTMLView",
            "description": "",
            "description_tooltip": null,
            "layout": "IPY_MODEL_83746b8cbb434def969d74099fcbccdc",
            "placeholder": "​",
            "style": "IPY_MODEL_228e67fd93b24681aea266c67bf853fc",
            "value": " 438M/438M [00:05&lt;00:00, 85.4MB/s]"
          }
        },
        "1b77959a25254b84bb2cf136749a01b8": {
          "model_module": "@jupyter-widgets/controls",
          "model_module_version": "1.5.0",
          "model_name": "DescriptionStyleModel",
          "state": {
            "_model_module": "@jupyter-widgets/controls",
            "_model_module_version": "1.5.0",
            "_model_name": "DescriptionStyleModel",
            "_view_count": null,
            "_view_module": "@jupyter-widgets/base",
            "_view_module_version": "1.2.0",
            "_view_name": "StyleView",
            "description_width": ""
          }
        },
        "228e67fd93b24681aea266c67bf853fc": {
          "model_module": "@jupyter-widgets/controls",
          "model_module_version": "1.5.0",
          "model_name": "DescriptionStyleModel",
          "state": {
            "_model_module": "@jupyter-widgets/controls",
            "_model_module_version": "1.5.0",
            "_model_name": "DescriptionStyleModel",
            "_view_count": null,
            "_view_module": "@jupyter-widgets/base",
            "_view_module_version": "1.2.0",
            "_view_name": "StyleView",
            "description_width": ""
          }
        },
        "3e0c0567e5f04bebbeedf1d301e4e2d1": {
          "model_module": "@jupyter-widgets/controls",
          "model_module_version": "1.5.0",
          "model_name": "HBoxModel",
          "state": {
            "_dom_classes": [],
            "_model_module": "@jupyter-widgets/controls",
            "_model_module_version": "1.5.0",
            "_model_name": "HBoxModel",
            "_view_count": null,
            "_view_module": "@jupyter-widgets/controls",
            "_view_module_version": "1.5.0",
            "_view_name": "HBoxView",
            "box_style": "",
            "children": [
              "IPY_MODEL_af52f4ce568c48b88f7a5d69f5b0da55",
              "IPY_MODEL_7607dff3fbec4d5492b3f0dc9d238d8f",
              "IPY_MODEL_1aea8bf89ad6475e9ec72753d3911552"
            ],
            "layout": "IPY_MODEL_e52a4f5206d34afe820ed3c38942b791"
          }
        },
        "62f75885d7d94697af817988704cc399": {
          "model_module": "@jupyter-widgets/base",
          "model_module_version": "1.2.0",
          "model_name": "LayoutModel",
          "state": {
            "_model_module": "@jupyter-widgets/base",
            "_model_module_version": "1.2.0",
            "_model_name": "LayoutModel",
            "_view_count": null,
            "_view_module": "@jupyter-widgets/base",
            "_view_module_version": "1.2.0",
            "_view_name": "LayoutView",
            "align_content": null,
            "align_items": null,
            "align_self": null,
            "border": null,
            "bottom": null,
            "display": null,
            "flex": null,
            "flex_flow": null,
            "grid_area": null,
            "grid_auto_columns": null,
            "grid_auto_flow": null,
            "grid_auto_rows": null,
            "grid_column": null,
            "grid_gap": null,
            "grid_row": null,
            "grid_template_areas": null,
            "grid_template_columns": null,
            "grid_template_rows": null,
            "height": null,
            "justify_content": null,
            "justify_items": null,
            "left": null,
            "margin": null,
            "max_height": null,
            "max_width": null,
            "min_height": null,
            "min_width": null,
            "object_fit": null,
            "object_position": null,
            "order": null,
            "overflow": null,
            "overflow_x": null,
            "overflow_y": null,
            "padding": null,
            "right": null,
            "top": null,
            "visibility": null,
            "width": null
          }
        },
        "6f2d55b6411240ebb91bd9aaf0e64ae7": {
          "model_module": "@jupyter-widgets/controls",
          "model_module_version": "1.5.0",
          "model_name": "HTMLModel",
          "state": {
            "_dom_classes": [],
            "_model_module": "@jupyter-widgets/controls",
            "_model_module_version": "1.5.0",
            "_model_name": "HTMLModel",
            "_view_count": null,
            "_view_module": "@jupyter-widgets/controls",
            "_view_module_version": "1.5.0",
            "_view_name": "HTMLView",
            "description": "",
            "description_tooltip": null,
            "layout": "IPY_MODEL_f91bf371160e4b798ebd1b05a9cea705",
            "placeholder": "​",
            "style": "IPY_MODEL_78b727b6460c453d99c197a516c73ef1",
            "value": " 438M/438M [00:16&lt;00:00, 24.2MB/s]"
          }
        },
        "7091b35cc0f749a885a4c87073fda768": {
          "model_module": "@jupyter-widgets/controls",
          "model_module_version": "1.5.0",
          "model_name": "HTMLModel",
          "state": {
            "_dom_classes": [],
            "_model_module": "@jupyter-widgets/controls",
            "_model_module_version": "1.5.0",
            "_model_name": "HTMLModel",
            "_view_count": null,
            "_view_module": "@jupyter-widgets/controls",
            "_view_module_version": "1.5.0",
            "_view_name": "HTMLView",
            "description": "",
            "description_tooltip": null,
            "layout": "IPY_MODEL_a21c1ad0d98a42168212381b436944d2",
            "placeholder": "​",
            "style": "IPY_MODEL_aa70cf15340049e18dd14a33bde07822",
            "value": "model.safetensors: 100%"
          }
        },
        "7607dff3fbec4d5492b3f0dc9d238d8f": {
          "model_module": "@jupyter-widgets/controls",
          "model_module_version": "1.5.0",
          "model_name": "FloatProgressModel",
          "state": {
            "_dom_classes": [],
            "_model_module": "@jupyter-widgets/controls",
            "_model_module_version": "1.5.0",
            "_model_name": "FloatProgressModel",
            "_view_count": null,
            "_view_module": "@jupyter-widgets/controls",
            "_view_module_version": "1.5.0",
            "_view_name": "ProgressView",
            "bar_style": "success",
            "description": "",
            "description_tooltip": null,
            "layout": "IPY_MODEL_62f75885d7d94697af817988704cc399",
            "max": 437958648,
            "min": 0,
            "orientation": "horizontal",
            "style": "IPY_MODEL_e3f2f140ec404b9f962f95e6812f6d82",
            "value": 437958648
          }
        },
        "78b727b6460c453d99c197a516c73ef1": {
          "model_module": "@jupyter-widgets/controls",
          "model_module_version": "1.5.0",
          "model_name": "DescriptionStyleModel",
          "state": {
            "_model_module": "@jupyter-widgets/controls",
            "_model_module_version": "1.5.0",
            "_model_name": "DescriptionStyleModel",
            "_view_count": null,
            "_view_module": "@jupyter-widgets/base",
            "_view_module_version": "1.2.0",
            "_view_name": "StyleView",
            "description_width": ""
          }
        },
        "83746b8cbb434def969d74099fcbccdc": {
          "model_module": "@jupyter-widgets/base",
          "model_module_version": "1.2.0",
          "model_name": "LayoutModel",
          "state": {
            "_model_module": "@jupyter-widgets/base",
            "_model_module_version": "1.2.0",
            "_model_name": "LayoutModel",
            "_view_count": null,
            "_view_module": "@jupyter-widgets/base",
            "_view_module_version": "1.2.0",
            "_view_name": "LayoutView",
            "align_content": null,
            "align_items": null,
            "align_self": null,
            "border": null,
            "bottom": null,
            "display": null,
            "flex": null,
            "flex_flow": null,
            "grid_area": null,
            "grid_auto_columns": null,
            "grid_auto_flow": null,
            "grid_auto_rows": null,
            "grid_column": null,
            "grid_gap": null,
            "grid_row": null,
            "grid_template_areas": null,
            "grid_template_columns": null,
            "grid_template_rows": null,
            "height": null,
            "justify_content": null,
            "justify_items": null,
            "left": null,
            "margin": null,
            "max_height": null,
            "max_width": null,
            "min_height": null,
            "min_width": null,
            "object_fit": null,
            "object_position": null,
            "order": null,
            "overflow": null,
            "overflow_x": null,
            "overflow_y": null,
            "padding": null,
            "right": null,
            "top": null,
            "visibility": null,
            "width": null
          }
        },
        "a21c1ad0d98a42168212381b436944d2": {
          "model_module": "@jupyter-widgets/base",
          "model_module_version": "1.2.0",
          "model_name": "LayoutModel",
          "state": {
            "_model_module": "@jupyter-widgets/base",
            "_model_module_version": "1.2.0",
            "_model_name": "LayoutModel",
            "_view_count": null,
            "_view_module": "@jupyter-widgets/base",
            "_view_module_version": "1.2.0",
            "_view_name": "LayoutView",
            "align_content": null,
            "align_items": null,
            "align_self": null,
            "border": null,
            "bottom": null,
            "display": null,
            "flex": null,
            "flex_flow": null,
            "grid_area": null,
            "grid_auto_columns": null,
            "grid_auto_flow": null,
            "grid_auto_rows": null,
            "grid_column": null,
            "grid_gap": null,
            "grid_row": null,
            "grid_template_areas": null,
            "grid_template_columns": null,
            "grid_template_rows": null,
            "height": null,
            "justify_content": null,
            "justify_items": null,
            "left": null,
            "margin": null,
            "max_height": null,
            "max_width": null,
            "min_height": null,
            "min_width": null,
            "object_fit": null,
            "object_position": null,
            "order": null,
            "overflow": null,
            "overflow_x": null,
            "overflow_y": null,
            "padding": null,
            "right": null,
            "top": null,
            "visibility": null,
            "width": null
          }
        },
        "aa70cf15340049e18dd14a33bde07822": {
          "model_module": "@jupyter-widgets/controls",
          "model_module_version": "1.5.0",
          "model_name": "DescriptionStyleModel",
          "state": {
            "_model_module": "@jupyter-widgets/controls",
            "_model_module_version": "1.5.0",
            "_model_name": "DescriptionStyleModel",
            "_view_count": null,
            "_view_module": "@jupyter-widgets/base",
            "_view_module_version": "1.2.0",
            "_view_name": "StyleView",
            "description_width": ""
          }
        },
        "af52f4ce568c48b88f7a5d69f5b0da55": {
          "model_module": "@jupyter-widgets/controls",
          "model_module_version": "1.5.0",
          "model_name": "HTMLModel",
          "state": {
            "_dom_classes": [],
            "_model_module": "@jupyter-widgets/controls",
            "_model_module_version": "1.5.0",
            "_model_name": "HTMLModel",
            "_view_count": null,
            "_view_module": "@jupyter-widgets/controls",
            "_view_module_version": "1.5.0",
            "_view_name": "HTMLView",
            "description": "",
            "description_tooltip": null,
            "layout": "IPY_MODEL_b6d76bc74075400b9a045183e7076ed7",
            "placeholder": "​",
            "style": "IPY_MODEL_1b77959a25254b84bb2cf136749a01b8",
            "value": "model.safetensors: 100%"
          }
        },
        "b17178ab50b54e2da8a45a8b43b7ae5b": {
          "model_module": "@jupyter-widgets/base",
          "model_module_version": "1.2.0",
          "model_name": "LayoutModel",
          "state": {
            "_model_module": "@jupyter-widgets/base",
            "_model_module_version": "1.2.0",
            "_model_name": "LayoutModel",
            "_view_count": null,
            "_view_module": "@jupyter-widgets/base",
            "_view_module_version": "1.2.0",
            "_view_name": "LayoutView",
            "align_content": null,
            "align_items": null,
            "align_self": null,
            "border": null,
            "bottom": null,
            "display": null,
            "flex": null,
            "flex_flow": null,
            "grid_area": null,
            "grid_auto_columns": null,
            "grid_auto_flow": null,
            "grid_auto_rows": null,
            "grid_column": null,
            "grid_gap": null,
            "grid_row": null,
            "grid_template_areas": null,
            "grid_template_columns": null,
            "grid_template_rows": null,
            "height": null,
            "justify_content": null,
            "justify_items": null,
            "left": null,
            "margin": null,
            "max_height": null,
            "max_width": null,
            "min_height": null,
            "min_width": null,
            "object_fit": null,
            "object_position": null,
            "order": null,
            "overflow": null,
            "overflow_x": null,
            "overflow_y": null,
            "padding": null,
            "right": null,
            "top": null,
            "visibility": null,
            "width": null
          }
        },
        "b69cf1697d744986ab888b671ecdc04e": {
          "model_module": "@jupyter-widgets/controls",
          "model_module_version": "1.5.0",
          "model_name": "HBoxModel",
          "state": {
            "_dom_classes": [],
            "_model_module": "@jupyter-widgets/controls",
            "_model_module_version": "1.5.0",
            "_model_name": "HBoxModel",
            "_view_count": null,
            "_view_module": "@jupyter-widgets/controls",
            "_view_module_version": "1.5.0",
            "_view_name": "HBoxView",
            "box_style": "",
            "children": [
              "IPY_MODEL_7091b35cc0f749a885a4c87073fda768",
              "IPY_MODEL_c930f2c314314182ba864aa754ec54b5",
              "IPY_MODEL_6f2d55b6411240ebb91bd9aaf0e64ae7"
            ],
            "layout": "IPY_MODEL_c8c0a66da38e40878dcdd650079855ac"
          }
        },
        "b6d76bc74075400b9a045183e7076ed7": {
          "model_module": "@jupyter-widgets/base",
          "model_module_version": "1.2.0",
          "model_name": "LayoutModel",
          "state": {
            "_model_module": "@jupyter-widgets/base",
            "_model_module_version": "1.2.0",
            "_model_name": "LayoutModel",
            "_view_count": null,
            "_view_module": "@jupyter-widgets/base",
            "_view_module_version": "1.2.0",
            "_view_name": "LayoutView",
            "align_content": null,
            "align_items": null,
            "align_self": null,
            "border": null,
            "bottom": null,
            "display": null,
            "flex": null,
            "flex_flow": null,
            "grid_area": null,
            "grid_auto_columns": null,
            "grid_auto_flow": null,
            "grid_auto_rows": null,
            "grid_column": null,
            "grid_gap": null,
            "grid_row": null,
            "grid_template_areas": null,
            "grid_template_columns": null,
            "grid_template_rows": null,
            "height": null,
            "justify_content": null,
            "justify_items": null,
            "left": null,
            "margin": null,
            "max_height": null,
            "max_width": null,
            "min_height": null,
            "min_width": null,
            "object_fit": null,
            "object_position": null,
            "order": null,
            "overflow": null,
            "overflow_x": null,
            "overflow_y": null,
            "padding": null,
            "right": null,
            "top": null,
            "visibility": null,
            "width": null
          }
        },
        "c8c0a66da38e40878dcdd650079855ac": {
          "model_module": "@jupyter-widgets/base",
          "model_module_version": "1.2.0",
          "model_name": "LayoutModel",
          "state": {
            "_model_module": "@jupyter-widgets/base",
            "_model_module_version": "1.2.0",
            "_model_name": "LayoutModel",
            "_view_count": null,
            "_view_module": "@jupyter-widgets/base",
            "_view_module_version": "1.2.0",
            "_view_name": "LayoutView",
            "align_content": null,
            "align_items": null,
            "align_self": null,
            "border": null,
            "bottom": null,
            "display": null,
            "flex": null,
            "flex_flow": null,
            "grid_area": null,
            "grid_auto_columns": null,
            "grid_auto_flow": null,
            "grid_auto_rows": null,
            "grid_column": null,
            "grid_gap": null,
            "grid_row": null,
            "grid_template_areas": null,
            "grid_template_columns": null,
            "grid_template_rows": null,
            "height": null,
            "justify_content": null,
            "justify_items": null,
            "left": null,
            "margin": null,
            "max_height": null,
            "max_width": null,
            "min_height": null,
            "min_width": null,
            "object_fit": null,
            "object_position": null,
            "order": null,
            "overflow": null,
            "overflow_x": null,
            "overflow_y": null,
            "padding": null,
            "right": null,
            "top": null,
            "visibility": null,
            "width": null
          }
        },
        "c930f2c314314182ba864aa754ec54b5": {
          "model_module": "@jupyter-widgets/controls",
          "model_module_version": "1.5.0",
          "model_name": "FloatProgressModel",
          "state": {
            "_dom_classes": [],
            "_model_module": "@jupyter-widgets/controls",
            "_model_module_version": "1.5.0",
            "_model_name": "FloatProgressModel",
            "_view_count": null,
            "_view_module": "@jupyter-widgets/controls",
            "_view_module_version": "1.5.0",
            "_view_name": "ProgressView",
            "bar_style": "success",
            "description": "",
            "description_tooltip": null,
            "layout": "IPY_MODEL_b17178ab50b54e2da8a45a8b43b7ae5b",
            "max": 437958648,
            "min": 0,
            "orientation": "horizontal",
            "style": "IPY_MODEL_dd749e00501b4e908d22cb4746775d41",
            "value": 437958648
          }
        },
        "dd749e00501b4e908d22cb4746775d41": {
          "model_module": "@jupyter-widgets/controls",
          "model_module_version": "1.5.0",
          "model_name": "ProgressStyleModel",
          "state": {
            "_model_module": "@jupyter-widgets/controls",
            "_model_module_version": "1.5.0",
            "_model_name": "ProgressStyleModel",
            "_view_count": null,
            "_view_module": "@jupyter-widgets/base",
            "_view_module_version": "1.2.0",
            "_view_name": "StyleView",
            "bar_color": null,
            "description_width": ""
          }
        },
        "e3f2f140ec404b9f962f95e6812f6d82": {
          "model_module": "@jupyter-widgets/controls",
          "model_module_version": "1.5.0",
          "model_name": "ProgressStyleModel",
          "state": {
            "_model_module": "@jupyter-widgets/controls",
            "_model_module_version": "1.5.0",
            "_model_name": "ProgressStyleModel",
            "_view_count": null,
            "_view_module": "@jupyter-widgets/base",
            "_view_module_version": "1.2.0",
            "_view_name": "StyleView",
            "bar_color": null,
            "description_width": ""
          }
        },
        "e52a4f5206d34afe820ed3c38942b791": {
          "model_module": "@jupyter-widgets/base",
          "model_module_version": "1.2.0",
          "model_name": "LayoutModel",
          "state": {
            "_model_module": "@jupyter-widgets/base",
            "_model_module_version": "1.2.0",
            "_model_name": "LayoutModel",
            "_view_count": null,
            "_view_module": "@jupyter-widgets/base",
            "_view_module_version": "1.2.0",
            "_view_name": "LayoutView",
            "align_content": null,
            "align_items": null,
            "align_self": null,
            "border": null,
            "bottom": null,
            "display": null,
            "flex": null,
            "flex_flow": null,
            "grid_area": null,
            "grid_auto_columns": null,
            "grid_auto_flow": null,
            "grid_auto_rows": null,
            "grid_column": null,
            "grid_gap": null,
            "grid_row": null,
            "grid_template_areas": null,
            "grid_template_columns": null,
            "grid_template_rows": null,
            "height": null,
            "justify_content": null,
            "justify_items": null,
            "left": null,
            "margin": null,
            "max_height": null,
            "max_width": null,
            "min_height": null,
            "min_width": null,
            "object_fit": null,
            "object_position": null,
            "order": null,
            "overflow": null,
            "overflow_x": null,
            "overflow_y": null,
            "padding": null,
            "right": null,
            "top": null,
            "visibility": null,
            "width": null
          }
        },
        "f91bf371160e4b798ebd1b05a9cea705": {
          "model_module": "@jupyter-widgets/base",
          "model_module_version": "1.2.0",
          "model_name": "LayoutModel",
          "state": {
            "_model_module": "@jupyter-widgets/base",
            "_model_module_version": "1.2.0",
            "_model_name": "LayoutModel",
            "_view_count": null,
            "_view_module": "@jupyter-widgets/base",
            "_view_module_version": "1.2.0",
            "_view_name": "LayoutView",
            "align_content": null,
            "align_items": null,
            "align_self": null,
            "border": null,
            "bottom": null,
            "display": null,
            "flex": null,
            "flex_flow": null,
            "grid_area": null,
            "grid_auto_columns": null,
            "grid_auto_flow": null,
            "grid_auto_rows": null,
            "grid_column": null,
            "grid_gap": null,
            "grid_row": null,
            "grid_template_areas": null,
            "grid_template_columns": null,
            "grid_template_rows": null,
            "height": null,
            "justify_content": null,
            "justify_items": null,
            "left": null,
            "margin": null,
            "max_height": null,
            "max_width": null,
            "min_height": null,
            "min_width": null,
            "object_fit": null,
            "object_position": null,
            "order": null,
            "overflow": null,
            "overflow_x": null,
            "overflow_y": null,
            "padding": null,
            "right": null,
            "top": null,
            "visibility": null,
            "width": null
          }
        }
      }
    }
  },
  "nbformat": 4,
  "nbformat_minor": 0
}
